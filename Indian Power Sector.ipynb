{
 "cells": [
  {
   "cell_type": "markdown",
   "metadata": {},
   "source": [
    "# India Electricity Installed Capacity As on 03-05-2020"
   ]
  },
  {
   "cell_type": "markdown",
   "metadata": {},
   "source": [
    "#### Data Source \n",
    "https://data.gov.in/catalog/installed-capacity-power-generation?filters%5Bfield_catalog_reference%5D=6515101&format=json&offset=0&limit=6&sort%5Bcreated%5D=desc"
   ]
  },
  {
   "cell_type": "code",
   "execution_count": 1,
   "metadata": {},
   "outputs": [],
   "source": [
    "import pandas as pd\n",
    "import matplotlib.pyplot as plt\n",
    "from matplotlib import style\n",
    "style.use('ggplot')\n",
    "import seaborn as sns\n",
    "sns.set(color_codes=True)\n",
    "import plotly.express as px"
   ]
  },
  {
   "cell_type": "code",
   "execution_count": 17,
   "metadata": {},
   "outputs": [],
   "source": [
    "import plotly.io as pio\n",
    "pio.templates\n",
    "import folium\n",
    "\n",
    "\n",
    "\n",
    "#px.defaults.template = \"ggplot2\"\n",
    "#px.defaults.color_continuous_scale = px.colors.sequential.Blackbody\n",
    "#px.defaults.width = 600\n",
    "#px.defaults.height = 400"
   ]
  },
  {
   "cell_type": "code",
   "execution_count": 18,
   "metadata": {},
   "outputs": [],
   "source": [
    "import chart_studio\n",
    "#pio.templates.default\n",
    "import chart_studio.plotly as py\n",
    "username = 'bmodi700' # your username\n",
    "api_key = 'iHt7Tm7meno2y8wFSLBP' # your api key - go to profile > settings > regenerate key\n",
    "chart_studio.tools.set_credentials_file(username=username, api_key=api_key)"
   ]
  },
  {
   "cell_type": "code",
   "execution_count": 3,
   "metadata": {
    "scrolled": true
   },
   "outputs": [
    {
     "name": "stdout",
     "output_type": "stream",
     "text": [
      "WARNING *** OLE2 inconsistency: SSCS size is 0 but SSAT size is non-zero\n"
     ]
    },
    {
     "data": {
      "text/html": [
       "<div>\n",
       "<style scoped>\n",
       "    .dataframe tbody tr th:only-of-type {\n",
       "        vertical-align: middle;\n",
       "    }\n",
       "\n",
       "    .dataframe tbody tr th {\n",
       "        vertical-align: top;\n",
       "    }\n",
       "\n",
       "    .dataframe thead th {\n",
       "        text-align: right;\n",
       "    }\n",
       "</style>\n",
       "<table border=\"1\" class=\"dataframe\">\n",
       "  <thead>\n",
       "    <tr style=\"text-align: right;\">\n",
       "      <th></th>\n",
       "      <th>Name of State / UT</th>\n",
       "      <th>State_Code</th>\n",
       "      <th>Latitude</th>\n",
       "      <th>Longitude</th>\n",
       "    </tr>\n",
       "  </thead>\n",
       "  <tbody>\n",
       "    <tr>\n",
       "      <td>0</td>\n",
       "      <td>Andaman and Nicobar Islands</td>\n",
       "      <td>AN</td>\n",
       "      <td>11.667026</td>\n",
       "      <td>92.735983</td>\n",
       "    </tr>\n",
       "    <tr>\n",
       "      <td>1</td>\n",
       "      <td>Andhra Pradesh</td>\n",
       "      <td>AP</td>\n",
       "      <td>14.750429</td>\n",
       "      <td>78.570026</td>\n",
       "    </tr>\n",
       "    <tr>\n",
       "      <td>2</td>\n",
       "      <td>Arunachal Pradesh</td>\n",
       "      <td>AR</td>\n",
       "      <td>27.100399</td>\n",
       "      <td>93.616601</td>\n",
       "    </tr>\n",
       "    <tr>\n",
       "      <td>3</td>\n",
       "      <td>Assam</td>\n",
       "      <td>AS</td>\n",
       "      <td>26.244156</td>\n",
       "      <td>92.537842</td>\n",
       "    </tr>\n",
       "    <tr>\n",
       "      <td>4</td>\n",
       "      <td>Bihar</td>\n",
       "      <td>BR</td>\n",
       "      <td>25.785414</td>\n",
       "      <td>87.479973</td>\n",
       "    </tr>\n",
       "  </tbody>\n",
       "</table>\n",
       "</div>"
      ],
      "text/plain": [
       "            Name of State / UT State_Code   Latitude  Longitude\n",
       "0  Andaman and Nicobar Islands         AN  11.667026  92.735983\n",
       "1               Andhra Pradesh         AP  14.750429  78.570026\n",
       "2            Arunachal Pradesh         AR  27.100399  93.616601\n",
       "3                        Assam         AS  26.244156  92.537842\n",
       "4                        Bihar         BR  25.785414  87.479973"
      ]
     },
     "execution_count": 3,
     "metadata": {},
     "output_type": "execute_result"
    }
   ],
   "source": [
    "Data1=pd.read_excel('Installed Capacity.xls')\n",
    "CordData=pd.read_excel('state cord.xlsx')\n",
    "Data1.head(5)\n",
    "CordData.head(5)"
   ]
  },
  {
   "cell_type": "code",
   "execution_count": null,
   "metadata": {},
   "outputs": [],
   "source": []
  },
  {
   "cell_type": "code",
   "execution_count": 4,
   "metadata": {},
   "outputs": [
    {
     "name": "stdout",
     "output_type": "stream",
     "text": [
      "<class 'pandas.core.frame.DataFrame'>\n",
      "RangeIndex: 428 entries, 0 to 427\n",
      "Data columns (total 5 columns):\n",
      "Date                  428 non-null object\n",
      "State                 428 non-null object\n",
      "Sector                428 non-null object\n",
      "Mode                  428 non-null object\n",
      "Installed Capacity    428 non-null float64\n",
      "dtypes: float64(1), object(4)\n",
      "memory usage: 16.8+ KB\n"
     ]
    }
   ],
   "source": [
    "Data1.info()"
   ]
  },
  {
   "cell_type": "code",
   "execution_count": 5,
   "metadata": {
    "scrolled": true
   },
   "outputs": [
    {
     "data": {
      "text/html": [
       "<div>\n",
       "<style scoped>\n",
       "    .dataframe tbody tr th:only-of-type {\n",
       "        vertical-align: middle;\n",
       "    }\n",
       "\n",
       "    .dataframe tbody tr th {\n",
       "        vertical-align: top;\n",
       "    }\n",
       "\n",
       "    .dataframe thead th {\n",
       "        text-align: right;\n",
       "    }\n",
       "</style>\n",
       "<table border=\"1\" class=\"dataframe\">\n",
       "  <thead>\n",
       "    <tr style=\"text-align: right;\">\n",
       "      <th></th>\n",
       "      <th>Installed Capacity</th>\n",
       "    </tr>\n",
       "  </thead>\n",
       "  <tbody>\n",
       "    <tr>\n",
       "      <td>count</td>\n",
       "      <td>428.000000</td>\n",
       "    </tr>\n",
       "    <tr>\n",
       "      <td>mean</td>\n",
       "      <td>864.734727</td>\n",
       "    </tr>\n",
       "    <tr>\n",
       "      <td>std</td>\n",
       "      <td>2322.903581</td>\n",
       "    </tr>\n",
       "    <tr>\n",
       "      <td>min</td>\n",
       "      <td>0.000000</td>\n",
       "    </tr>\n",
       "    <tr>\n",
       "      <td>25%</td>\n",
       "      <td>0.000000</td>\n",
       "    </tr>\n",
       "    <tr>\n",
       "      <td>50%</td>\n",
       "      <td>0.000000</td>\n",
       "    </tr>\n",
       "    <tr>\n",
       "      <td>75%</td>\n",
       "      <td>250.000000</td>\n",
       "    </tr>\n",
       "    <tr>\n",
       "      <td>max</td>\n",
       "      <td>15038.175000</td>\n",
       "    </tr>\n",
       "  </tbody>\n",
       "</table>\n",
       "</div>"
      ],
      "text/plain": [
       "       Installed Capacity\n",
       "count          428.000000\n",
       "mean           864.734727\n",
       "std           2322.903581\n",
       "min              0.000000\n",
       "25%              0.000000\n",
       "50%              0.000000\n",
       "75%            250.000000\n",
       "max          15038.175000"
      ]
     },
     "execution_count": 5,
     "metadata": {},
     "output_type": "execute_result"
    }
   ],
   "source": [
    "Data1.describe()"
   ]
  },
  {
   "cell_type": "code",
   "execution_count": 6,
   "metadata": {
    "scrolled": false
   },
   "outputs": [
    {
     "ename": "NameError",
     "evalue": "name 'CombData' is not defined",
     "output_type": "error",
     "traceback": [
      "\u001b[1;31m---------------------------------------------------------------------------\u001b[0m",
      "\u001b[1;31mNameError\u001b[0m                                 Traceback (most recent call last)",
      "\u001b[1;32m<ipython-input-6-11b20dcf24f2>\u001b[0m in \u001b[0;36m<module>\u001b[1;34m\u001b[0m\n\u001b[1;32m----> 1\u001b[1;33m \u001b[0mx\u001b[0m\u001b[1;33m=\u001b[0m\u001b[0mpd\u001b[0m\u001b[1;33m.\u001b[0m\u001b[0mDataFrame\u001b[0m\u001b[1;33m(\u001b[0m\u001b[0mCombData\u001b[0m\u001b[1;33m.\u001b[0m\u001b[0mgroupby\u001b[0m\u001b[1;33m(\u001b[0m\u001b[1;33m[\u001b[0m\u001b[1;34m\"State\"\u001b[0m\u001b[1;33m]\u001b[0m\u001b[1;33m)\u001b[0m\u001b[1;33m.\u001b[0m\u001b[0msum\u001b[0m\u001b[1;33m(\u001b[0m\u001b[1;33m)\u001b[0m\u001b[1;33m[\u001b[0m\u001b[1;34m\"Installed Capacity\"\u001b[0m\u001b[1;33m]\u001b[0m\u001b[1;33m)\u001b[0m\u001b[1;33m\u001b[0m\u001b[1;33m\u001b[0m\u001b[0m\n\u001b[0m",
      "\u001b[1;31mNameError\u001b[0m: name 'CombData' is not defined"
     ]
    }
   ],
   "source": [
    "x=pd.DataFrame(CombData.groupby([\"State\"]).sum()[\"Installed Capacity\"])"
   ]
  },
  {
   "cell_type": "code",
   "execution_count": null,
   "metadata": {},
   "outputs": [],
   "source": []
  },
  {
   "cell_type": "code",
   "execution_count": 34,
   "metadata": {
    "scrolled": true
   },
   "outputs": [
    {
     "data": {
      "application/vnd.plotly.v1+json": {
       "config": {
        "plotlyServerURL": "https://plot.ly"
       },
       "data": [
        {
         "alignmentgroup": "True",
         "hovertemplate": "<b>%{hovertext}</b><br><br>Mode=Thermal<br>Sector=STATE SECTOR<br>=%{x}<br>Installed Capacity in MW=%{y}<extra></extra>",
         "hovertext": [
          "Andaman & Nicobar Islands",
          "Andhra Pradesh",
          "Arunachal Pradesh",
          "Assam",
          "Bihar",
          "Chandigarh",
          "Chhatisgarh",
          "Dadra & Nagar Haveli",
          "Daman & Diu",
          "Delhi",
          "Goa",
          "Gujarat",
          "Haryana",
          "Himachal Pradesh",
          "Jammu and Kashmir",
          "Jharkhand",
          "Karnataka",
          "Kerala",
          "Lakshadweep",
          "Madhya Pradesh",
          "Maharashtra",
          "Manipur",
          "Meghalaya",
          "Mizoram",
          "Nagaland",
          "Odisha",
          "Puducherry",
          "Punjab",
          "Rajasthan",
          "Sikkim",
          "Tamil Nadu",
          "Telangana",
          "Tripura",
          "Uttar Pradesh",
          "Uttarakhand",
          "West Bengal"
         ],
         "legendgroup": "Thermal",
         "marker": {
          "color": "#1F77B4"
         },
         "name": "Thermal",
         "offsetgroup": "Thermal",
         "orientation": "v",
         "showlegend": true,
         "textposition": "auto",
         "type": "bar",
         "x": [
          "Andaman & Nicobar Islands",
          "Andhra Pradesh",
          "Arunachal Pradesh",
          "Assam",
          "Bihar",
          "Chandigarh",
          "Chhatisgarh",
          "Dadra & Nagar Haveli",
          "Daman & Diu",
          "Delhi",
          "Goa",
          "Gujarat",
          "Haryana",
          "Himachal Pradesh",
          "Jammu and Kashmir",
          "Jharkhand",
          "Karnataka",
          "Kerala",
          "Lakshadweep",
          "Madhya Pradesh",
          "Maharashtra",
          "Manipur",
          "Meghalaya",
          "Mizoram",
          "Nagaland",
          "Odisha",
          "Puducherry",
          "Punjab",
          "Rajasthan",
          "Sikkim",
          "Tamil Nadu",
          "Telangana",
          "Tripura",
          "Uttar Pradesh",
          "Uttarakhand",
          "West Bengal"
         ],
         "xaxis": "x3",
         "y": [
          40.048,
          5245.4,
          0,
          328.205,
          0,
          0,
          3080,
          0,
          0,
          2100.4,
          0,
          7727.82,
          2510,
          0,
          175,
          420,
          5020,
          159.96,
          0,
          5400,
          10422,
          36,
          0,
          0,
          0,
          1740,
          32.5,
          1760,
          7773.8,
          0,
          4844.08,
          4162.5,
          169.5,
          5469,
          0,
          5390
         ],
         "yaxis": "y3"
        },
        {
         "alignmentgroup": "True",
         "hovertemplate": "<b>%{hovertext}</b><br><br>Mode=Thermal<br>Sector=PVT SECTOR<br>=%{x}<br>Installed Capacity in MW=%{y}<extra></extra>",
         "hovertext": [
          "Andaman & Nicobar Islands",
          "Andhra Pradesh",
          "Arunachal Pradesh",
          "Assam",
          "Bihar",
          "Chandigarh",
          "Chhatisgarh",
          "Dadra & Nagar Haveli",
          "Daman & Diu",
          "Delhi",
          "Goa",
          "Gujarat",
          "Haryana",
          "Himachal Pradesh",
          "Jammu and Kashmir",
          "Jharkhand",
          "Karnataka",
          "Kerala",
          "Lakshadweep",
          "Madhya Pradesh",
          "Maharashtra",
          "Manipur",
          "Meghalaya",
          "Mizoram",
          "Nagaland",
          "Odisha",
          "Puducherry",
          "Punjab",
          "Rajasthan",
          "Sikkim",
          "Tamil Nadu",
          "Telangana",
          "Tripura",
          "Uttar Pradesh",
          "Uttarakhand",
          "West Bengal"
         ],
         "legendgroup": "Thermal",
         "marker": {
          "color": "#1F77B4"
         },
         "name": "Thermal",
         "offsetgroup": "Thermal",
         "orientation": "v",
         "showlegend": false,
         "textposition": "auto",
         "type": "bar",
         "x": [
          "Andaman & Nicobar Islands",
          "Andhra Pradesh",
          "Arunachal Pradesh",
          "Assam",
          "Bihar",
          "Chandigarh",
          "Chhatisgarh",
          "Dadra & Nagar Haveli",
          "Daman & Diu",
          "Delhi",
          "Goa",
          "Gujarat",
          "Haryana",
          "Himachal Pradesh",
          "Jammu and Kashmir",
          "Jharkhand",
          "Karnataka",
          "Kerala",
          "Lakshadweep",
          "Madhya Pradesh",
          "Maharashtra",
          "Manipur",
          "Meghalaya",
          "Mizoram",
          "Nagaland",
          "Odisha",
          "Puducherry",
          "Punjab",
          "Rajasthan",
          "Sikkim",
          "Tamil Nadu",
          "Telangana",
          "Tripura",
          "Uttar Pradesh",
          "Uttarakhand",
          "West Bengal"
         ],
         "xaxis": "x2",
         "y": [
          0,
          9279.944,
          0,
          24.5,
          0,
          0,
          13168,
          0,
          0,
          108,
          48,
          14742,
          1320,
          0,
          0,
          1830,
          2085.2,
          174,
          0,
          8870,
          12144,
          0,
          0,
          0,
          0,
          3800,
          0,
          3920,
          2400,
          0,
          3664.801,
          0,
          0,
          6810,
          450,
          2037
         ],
         "yaxis": "y2"
        },
        {
         "alignmentgroup": "True",
         "hovertemplate": "<b>%{hovertext}</b><br><br>Mode=Thermal<br>Sector=CENTRAL SECTOR<br>=%{x}<br>Installed Capacity in MW=%{y}<extra></extra>",
         "hovertext": [
          "Andaman & Nicobar Islands",
          "Andhra Pradesh",
          "Arunachal Pradesh",
          "Assam",
          "Bihar",
          "Chandigarh",
          "Chhatisgarh",
          "Dadra & Nagar Haveli",
          "Daman & Diu",
          "Goa",
          "Gujarat",
          "Haryana",
          "Himachal Pradesh",
          "Jammu and Kashmir",
          "Jharkhand",
          "Karnataka",
          "Kerala",
          "Ladakh",
          "Lakshadweep",
          "Madhya Pradesh",
          "Maharashtra",
          "Manipur",
          "Mizoram",
          "Nagaland",
          "Odisha",
          "Puducherry",
          "Punjab",
          "Rajasthan",
          "Sikkim",
          "Tamil Nadu",
          "Telangana",
          "Tripura",
          "Uttar Pradesh",
          "Uttarakhand",
          "West Bengal"
         ],
         "legendgroup": "Thermal",
         "marker": {
          "color": "#1F77B4"
         },
         "name": "Thermal",
         "offsetgroup": "Thermal",
         "orientation": "v",
         "showlegend": false,
         "textposition": "auto",
         "type": "bar",
         "x": [
          "Andaman & Nicobar Islands",
          "Andhra Pradesh",
          "Arunachal Pradesh",
          "Assam",
          "Bihar",
          "Chandigarh",
          "Chhatisgarh",
          "Dadra & Nagar Haveli",
          "Daman & Diu",
          "Goa",
          "Gujarat",
          "Haryana",
          "Himachal Pradesh",
          "Jammu and Kashmir",
          "Jharkhand",
          "Karnataka",
          "Kerala",
          "Ladakh",
          "Lakshadweep",
          "Madhya Pradesh",
          "Maharashtra",
          "Manipur",
          "Mizoram",
          "Nagaland",
          "Odisha",
          "Puducherry",
          "Punjab",
          "Rajasthan",
          "Sikkim",
          "Tamil Nadu",
          "Telangana",
          "Tripura",
          "Uttar Pradesh",
          "Uttarakhand",
          "West Bengal"
         ],
         "xaxis": "x",
         "y": [
          0,
          2000,
          0,
          1041,
          6390,
          0,
          6880,
          0,
          0,
          0,
          1313.59,
          1931.59,
          0,
          0,
          2210,
          2400,
          359.58,
          0,
          0,
          6880,
          5607.08,
          0,
          0,
          0,
          4260,
          0,
          0,
          669.33,
          0,
          5740,
          2600,
          962.6,
          11623.14,
          0,
          6850
         ],
         "yaxis": "y"
        },
        {
         "alignmentgroup": "True",
         "hovertemplate": "<b>%{hovertext}</b><br><br>Mode=Nuclear<br>Sector=STATE SECTOR<br>=%{x}<br>Installed Capacity in MW=%{y}<extra></extra>",
         "hovertext": [
          "Andaman & Nicobar Islands",
          "Andhra Pradesh",
          "Arunachal Pradesh",
          "Assam",
          "Bihar",
          "Chandigarh",
          "Chhatisgarh",
          "Dadra & Nagar Haveli",
          "Daman & Diu",
          "Delhi",
          "Goa",
          "Gujarat",
          "Haryana",
          "Himachal Pradesh",
          "Jammu and Kashmir",
          "Jharkhand",
          "Karnataka",
          "Kerala",
          "Lakshadweep",
          "Madhya Pradesh",
          "Maharashtra",
          "Manipur",
          "Meghalaya",
          "Mizoram",
          "Nagaland",
          "Odisha",
          "Puducherry",
          "Punjab",
          "Rajasthan",
          "Sikkim",
          "Tamil Nadu",
          "Telangana",
          "Tripura",
          "Uttar Pradesh",
          "Uttarakhand",
          "West Bengal"
         ],
         "legendgroup": "Nuclear",
         "marker": {
          "color": "#FF7F0E"
         },
         "name": "Nuclear",
         "offsetgroup": "Nuclear",
         "orientation": "v",
         "showlegend": true,
         "textposition": "auto",
         "type": "bar",
         "x": [
          "Andaman & Nicobar Islands",
          "Andhra Pradesh",
          "Arunachal Pradesh",
          "Assam",
          "Bihar",
          "Chandigarh",
          "Chhatisgarh",
          "Dadra & Nagar Haveli",
          "Daman & Diu",
          "Delhi",
          "Goa",
          "Gujarat",
          "Haryana",
          "Himachal Pradesh",
          "Jammu and Kashmir",
          "Jharkhand",
          "Karnataka",
          "Kerala",
          "Lakshadweep",
          "Madhya Pradesh",
          "Maharashtra",
          "Manipur",
          "Meghalaya",
          "Mizoram",
          "Nagaland",
          "Odisha",
          "Puducherry",
          "Punjab",
          "Rajasthan",
          "Sikkim",
          "Tamil Nadu",
          "Telangana",
          "Tripura",
          "Uttar Pradesh",
          "Uttarakhand",
          "West Bengal"
         ],
         "xaxis": "x3",
         "y": [
          0,
          0,
          0,
          0,
          0,
          0,
          0,
          0,
          0,
          0,
          0,
          0,
          0,
          0,
          0,
          0,
          0,
          0,
          0,
          0,
          0,
          0,
          0,
          0,
          0,
          0,
          0,
          0,
          0,
          0,
          0,
          0,
          0,
          0,
          0,
          0
         ],
         "yaxis": "y3"
        },
        {
         "alignmentgroup": "True",
         "hovertemplate": "<b>%{hovertext}</b><br><br>Mode=Nuclear<br>Sector=PVT SECTOR<br>=%{x}<br>Installed Capacity in MW=%{y}<extra></extra>",
         "hovertext": [
          "Andaman & Nicobar Islands",
          "Andhra Pradesh",
          "Arunachal Pradesh",
          "Assam",
          "Bihar",
          "Chandigarh",
          "Chhatisgarh",
          "Dadra & Nagar Haveli",
          "Daman & Diu",
          "Delhi",
          "Goa",
          "Gujarat",
          "Haryana",
          "Himachal Pradesh",
          "Jammu and Kashmir",
          "Jharkhand",
          "Karnataka",
          "Kerala",
          "Lakshadweep",
          "Madhya Pradesh",
          "Maharashtra",
          "Manipur",
          "Meghalaya",
          "Mizoram",
          "Nagaland",
          "Odisha",
          "Puducherry",
          "Punjab",
          "Rajasthan",
          "Sikkim",
          "Tamil Nadu",
          "Telangana",
          "Tripura",
          "Uttar Pradesh",
          "Uttarakhand",
          "West Bengal"
         ],
         "legendgroup": "Nuclear",
         "marker": {
          "color": "#FF7F0E"
         },
         "name": "Nuclear",
         "offsetgroup": "Nuclear",
         "orientation": "v",
         "showlegend": false,
         "textposition": "auto",
         "type": "bar",
         "x": [
          "Andaman & Nicobar Islands",
          "Andhra Pradesh",
          "Arunachal Pradesh",
          "Assam",
          "Bihar",
          "Chandigarh",
          "Chhatisgarh",
          "Dadra & Nagar Haveli",
          "Daman & Diu",
          "Delhi",
          "Goa",
          "Gujarat",
          "Haryana",
          "Himachal Pradesh",
          "Jammu and Kashmir",
          "Jharkhand",
          "Karnataka",
          "Kerala",
          "Lakshadweep",
          "Madhya Pradesh",
          "Maharashtra",
          "Manipur",
          "Meghalaya",
          "Mizoram",
          "Nagaland",
          "Odisha",
          "Puducherry",
          "Punjab",
          "Rajasthan",
          "Sikkim",
          "Tamil Nadu",
          "Telangana",
          "Tripura",
          "Uttar Pradesh",
          "Uttarakhand",
          "West Bengal"
         ],
         "xaxis": "x2",
         "y": [
          0,
          0,
          0,
          0,
          0,
          0,
          0,
          0,
          0,
          0,
          0,
          0,
          0,
          0,
          0,
          0,
          0,
          0,
          0,
          0,
          0,
          0,
          0,
          0,
          0,
          0,
          0,
          0,
          0,
          0,
          0,
          0,
          0,
          0,
          0,
          0
         ],
         "yaxis": "y2"
        },
        {
         "alignmentgroup": "True",
         "hovertemplate": "<b>%{hovertext}</b><br><br>Mode=Nuclear<br>Sector=CENTRAL SECTOR<br>=%{x}<br>Installed Capacity in MW=%{y}<extra></extra>",
         "hovertext": [
          "Andaman & Nicobar Islands",
          "Andhra Pradesh",
          "Arunachal Pradesh",
          "Assam",
          "Bihar",
          "Chandigarh",
          "Chhatisgarh",
          "Dadra & Nagar Haveli",
          "Daman & Diu",
          "Goa",
          "Gujarat",
          "Haryana",
          "Himachal Pradesh",
          "Jammu and Kashmir",
          "Jharkhand",
          "Karnataka",
          "Kerala",
          "Ladakh",
          "Lakshadweep",
          "Madhya Pradesh",
          "Maharashtra",
          "Manipur",
          "Mizoram",
          "Nagaland",
          "Odisha",
          "Puducherry",
          "Punjab",
          "Rajasthan",
          "Sikkim",
          "Tamil Nadu",
          "Telangana",
          "Tripura",
          "Uttar Pradesh",
          "Uttarakhand",
          "West Bengal"
         ],
         "legendgroup": "Nuclear",
         "marker": {
          "color": "#FF7F0E"
         },
         "name": "Nuclear",
         "offsetgroup": "Nuclear",
         "orientation": "v",
         "showlegend": false,
         "textposition": "auto",
         "type": "bar",
         "x": [
          "Andaman & Nicobar Islands",
          "Andhra Pradesh",
          "Arunachal Pradesh",
          "Assam",
          "Bihar",
          "Chandigarh",
          "Chhatisgarh",
          "Dadra & Nagar Haveli",
          "Daman & Diu",
          "Goa",
          "Gujarat",
          "Haryana",
          "Himachal Pradesh",
          "Jammu and Kashmir",
          "Jharkhand",
          "Karnataka",
          "Kerala",
          "Ladakh",
          "Lakshadweep",
          "Madhya Pradesh",
          "Maharashtra",
          "Manipur",
          "Mizoram",
          "Nagaland",
          "Odisha",
          "Puducherry",
          "Punjab",
          "Rajasthan",
          "Sikkim",
          "Tamil Nadu",
          "Telangana",
          "Tripura",
          "Uttar Pradesh",
          "Uttarakhand",
          "West Bengal"
         ],
         "xaxis": "x",
         "y": [
          0,
          0,
          0,
          0,
          0,
          0,
          0,
          0,
          0,
          0,
          440,
          0,
          0,
          0,
          0,
          880,
          0,
          0,
          0,
          0,
          1400,
          0,
          0,
          0,
          0,
          0,
          0,
          1180,
          0,
          2440,
          0,
          0,
          440,
          0,
          0
         ],
         "yaxis": "y"
        },
        {
         "alignmentgroup": "True",
         "hovertemplate": "<b>%{hovertext}</b><br><br>Mode=Hydro<br>Sector=STATE SECTOR<br>=%{x}<br>Installed Capacity in MW=%{y}<extra></extra>",
         "hovertext": [
          "Andaman & Nicobar Islands",
          "Andhra Pradesh",
          "Arunachal Pradesh",
          "Assam",
          "Bihar",
          "Chandigarh",
          "Chhatisgarh",
          "Dadra & Nagar Haveli",
          "Daman & Diu",
          "Delhi",
          "Goa",
          "Gujarat",
          "Haryana",
          "Himachal Pradesh",
          "Jammu and Kashmir",
          "Jharkhand",
          "Karnataka",
          "Kerala",
          "Lakshadweep",
          "Madhya Pradesh",
          "Maharashtra",
          "Manipur",
          "Meghalaya",
          "Mizoram",
          "Nagaland",
          "Odisha",
          "Puducherry",
          "Punjab",
          "Rajasthan",
          "Sikkim",
          "Tamil Nadu",
          "Telangana",
          "Tripura",
          "Uttar Pradesh",
          "Uttarakhand",
          "West Bengal"
         ],
         "legendgroup": "Hydro",
         "marker": {
          "color": "#2CA02C"
         },
         "name": "Hydro",
         "offsetgroup": "Hydro",
         "orientation": "v",
         "showlegend": true,
         "textposition": "auto",
         "type": "bar",
         "x": [
          "Andaman & Nicobar Islands",
          "Andhra Pradesh",
          "Arunachal Pradesh",
          "Assam",
          "Bihar",
          "Chandigarh",
          "Chhatisgarh",
          "Dadra & Nagar Haveli",
          "Daman & Diu",
          "Delhi",
          "Goa",
          "Gujarat",
          "Haryana",
          "Himachal Pradesh",
          "Jammu and Kashmir",
          "Jharkhand",
          "Karnataka",
          "Kerala",
          "Lakshadweep",
          "Madhya Pradesh",
          "Maharashtra",
          "Manipur",
          "Meghalaya",
          "Mizoram",
          "Nagaland",
          "Odisha",
          "Puducherry",
          "Punjab",
          "Rajasthan",
          "Sikkim",
          "Tamil Nadu",
          "Telangana",
          "Tripura",
          "Uttar Pradesh",
          "Uttarakhand",
          "West Bengal"
         ],
         "xaxis": "x3",
         "y": [
          0,
          1610,
          0,
          100,
          0,
          0,
          120,
          0,
          0,
          0,
          0,
          1990,
          0,
          777,
          1110,
          130,
          3644.2,
          1856.5,
          0,
          715,
          2566,
          0,
          322,
          0,
          0,
          2142.25,
          0,
          941,
          411,
          1200,
          2178.2,
          2405.6,
          0,
          501.6,
          1252.15,
          986
         ],
         "yaxis": "y3"
        },
        {
         "alignmentgroup": "True",
         "hovertemplate": "<b>%{hovertext}</b><br><br>Mode=Hydro<br>Sector=PVT SECTOR<br>=%{x}<br>Installed Capacity in MW=%{y}<extra></extra>",
         "hovertext": [
          "Andaman & Nicobar Islands",
          "Andhra Pradesh",
          "Arunachal Pradesh",
          "Assam",
          "Bihar",
          "Chandigarh",
          "Chhatisgarh",
          "Dadra & Nagar Haveli",
          "Daman & Diu",
          "Delhi",
          "Goa",
          "Gujarat",
          "Haryana",
          "Himachal Pradesh",
          "Jammu and Kashmir",
          "Jharkhand",
          "Karnataka",
          "Kerala",
          "Lakshadweep",
          "Madhya Pradesh",
          "Maharashtra",
          "Manipur",
          "Meghalaya",
          "Mizoram",
          "Nagaland",
          "Odisha",
          "Puducherry",
          "Punjab",
          "Rajasthan",
          "Sikkim",
          "Tamil Nadu",
          "Telangana",
          "Tripura",
          "Uttar Pradesh",
          "Uttarakhand",
          "West Bengal"
         ],
         "legendgroup": "Hydro",
         "marker": {
          "color": "#2CA02C"
         },
         "name": "Hydro",
         "offsetgroup": "Hydro",
         "orientation": "v",
         "showlegend": false,
         "textposition": "auto",
         "type": "bar",
         "x": [
          "Andaman & Nicobar Islands",
          "Andhra Pradesh",
          "Arunachal Pradesh",
          "Assam",
          "Bihar",
          "Chandigarh",
          "Chhatisgarh",
          "Dadra & Nagar Haveli",
          "Daman & Diu",
          "Delhi",
          "Goa",
          "Gujarat",
          "Haryana",
          "Himachal Pradesh",
          "Jammu and Kashmir",
          "Jharkhand",
          "Karnataka",
          "Kerala",
          "Lakshadweep",
          "Madhya Pradesh",
          "Maharashtra",
          "Manipur",
          "Meghalaya",
          "Mizoram",
          "Nagaland",
          "Odisha",
          "Puducherry",
          "Punjab",
          "Rajasthan",
          "Sikkim",
          "Tamil Nadu",
          "Telangana",
          "Tripura",
          "Uttar Pradesh",
          "Uttarakhand",
          "West Bengal"
         ],
         "xaxis": "x2",
         "y": [
          0,
          0,
          0,
          0,
          0,
          0,
          0,
          0,
          0,
          0,
          0,
          0,
          0,
          1784,
          0,
          0,
          0,
          0,
          0,
          0,
          481,
          0,
          0,
          0,
          0,
          0,
          0,
          0,
          0,
          399,
          0,
          0,
          0,
          0,
          730,
          0
         ],
         "yaxis": "y2"
        },
        {
         "alignmentgroup": "True",
         "hovertemplate": "<b>%{hovertext}</b><br><br>Mode=Hydro<br>Sector=CENTRAL SECTOR<br>=%{x}<br>Installed Capacity in MW=%{y}<extra></extra>",
         "hovertext": [
          "Andaman & Nicobar Islands",
          "Andhra Pradesh",
          "Arunachal Pradesh",
          "Assam",
          "Bihar",
          "Chandigarh",
          "Chhatisgarh",
          "Dadra & Nagar Haveli",
          "Daman & Diu",
          "Goa",
          "Gujarat",
          "Haryana",
          "Himachal Pradesh",
          "Jammu and Kashmir",
          "Jharkhand",
          "Karnataka",
          "Kerala",
          "Ladakh",
          "Lakshadweep",
          "Madhya Pradesh",
          "Maharashtra",
          "Manipur",
          "Mizoram",
          "Nagaland",
          "Odisha",
          "Puducherry",
          "Punjab",
          "Rajasthan",
          "Sikkim",
          "Tamil Nadu",
          "Telangana",
          "Tripura",
          "Uttar Pradesh",
          "Uttarakhand",
          "West Bengal"
         ],
         "legendgroup": "Hydro",
         "marker": {
          "color": "#2CA02C"
         },
         "name": "Hydro",
         "offsetgroup": "Hydro",
         "orientation": "v",
         "showlegend": false,
         "textposition": "auto",
         "type": "bar",
         "x": [
          "Andaman & Nicobar Islands",
          "Andhra Pradesh",
          "Arunachal Pradesh",
          "Assam",
          "Bihar",
          "Chandigarh",
          "Chhatisgarh",
          "Dadra & Nagar Haveli",
          "Daman & Diu",
          "Goa",
          "Gujarat",
          "Haryana",
          "Himachal Pradesh",
          "Jammu and Kashmir",
          "Jharkhand",
          "Karnataka",
          "Kerala",
          "Ladakh",
          "Lakshadweep",
          "Madhya Pradesh",
          "Maharashtra",
          "Manipur",
          "Mizoram",
          "Nagaland",
          "Odisha",
          "Puducherry",
          "Punjab",
          "Rajasthan",
          "Sikkim",
          "Tamil Nadu",
          "Telangana",
          "Tripura",
          "Uttar Pradesh",
          "Uttarakhand",
          "West Bengal"
         ],
         "xaxis": "x",
         "y": [
          0,
          0,
          815,
          250,
          0,
          0,
          0,
          0,
          0,
          0,
          0,
          0,
          7248.02,
          2250,
          80,
          0,
          0,
          89,
          0,
          1520,
          0,
          105,
          60,
          75,
          0,
          0,
          155.3,
          0,
          570,
          0,
          0,
          0,
          0,
          1774.2,
          355.2
         ],
         "yaxis": "y"
        },
        {
         "alignmentgroup": "True",
         "hovertemplate": "<b>%{hovertext}</b><br><br>Mode=RES<br>Sector=STATE SECTOR<br>=%{x}<br>Installed Capacity in MW=%{y}<extra></extra>",
         "hovertext": [
          "Andaman & Nicobar Islands",
          "Andhra Pradesh",
          "Arunachal Pradesh",
          "Assam",
          "Bihar",
          "Chandigarh",
          "Chhatisgarh",
          "Dadra & Nagar Haveli",
          "Daman & Diu",
          "Delhi",
          "Goa",
          "Gujarat",
          "Haryana",
          "Himachal Pradesh",
          "Jammu and Kashmir",
          "Jharkhand",
          "Karnataka",
          "Kerala",
          "Lakshadweep",
          "Madhya Pradesh",
          "Maharashtra",
          "Manipur",
          "Meghalaya",
          "Mizoram",
          "Nagaland",
          "Odisha",
          "Puducherry",
          "Punjab",
          "Rajasthan",
          "Sikkim",
          "Tamil Nadu",
          "Telangana",
          "Tripura",
          "Uttar Pradesh",
          "Uttarakhand",
          "West Bengal"
         ],
         "legendgroup": "RES",
         "marker": {
          "color": "#D62728"
         },
         "name": "RES",
         "offsetgroup": "RES",
         "orientation": "v",
         "showlegend": true,
         "textposition": "auto",
         "type": "bar",
         "x": [
          "Andaman & Nicobar Islands",
          "Andhra Pradesh",
          "Arunachal Pradesh",
          "Assam",
          "Bihar",
          "Chandigarh",
          "Chhatisgarh",
          "Dadra & Nagar Haveli",
          "Daman & Diu",
          "Delhi",
          "Goa",
          "Gujarat",
          "Haryana",
          "Himachal Pradesh",
          "Jammu and Kashmir",
          "Jharkhand",
          "Karnataka",
          "Kerala",
          "Lakshadweep",
          "Madhya Pradesh",
          "Maharashtra",
          "Manipur",
          "Meghalaya",
          "Mizoram",
          "Nagaland",
          "Odisha",
          "Puducherry",
          "Punjab",
          "Rajasthan",
          "Sikkim",
          "Tamil Nadu",
          "Telangana",
          "Tripura",
          "Uttar Pradesh",
          "Uttarakhand",
          "West Bengal"
         ],
         "xaxis": "x3",
         "y": [
          5.25,
          56.176,
          107.105,
          5.01,
          70.7,
          0,
          11.05,
          0,
          0,
          0,
          0.05,
          72.35,
          69.3,
          256.61,
          130.48,
          4.05,
          193.885,
          172.896,
          0,
          83.96,
          388.1251,
          5.45,
          32.53,
          36.47,
          30.67,
          26.3,
          0,
          127.8,
          23.85,
          52.11,
          122.7,
          41.22,
          16.01,
          25.1,
          67.87,
          121.95
         ],
         "yaxis": "y3"
        },
        {
         "alignmentgroup": "True",
         "hovertemplate": "<b>%{hovertext}</b><br><br>Mode=RES<br>Sector=PVT SECTOR<br>=%{x}<br>Installed Capacity in MW=%{y}<extra></extra>",
         "hovertext": [
          "Andaman & Nicobar Islands",
          "Andhra Pradesh",
          "Arunachal Pradesh",
          "Assam",
          "Bihar",
          "Chandigarh",
          "Chhatisgarh",
          "Dadra & Nagar Haveli",
          "Daman & Diu",
          "Delhi",
          "Goa",
          "Gujarat",
          "Haryana",
          "Himachal Pradesh",
          "Jammu and Kashmir",
          "Jharkhand",
          "Karnataka",
          "Kerala",
          "Lakshadweep",
          "Madhya Pradesh",
          "Maharashtra",
          "Manipur",
          "Meghalaya",
          "Mizoram",
          "Nagaland",
          "Odisha",
          "Puducherry",
          "Punjab",
          "Rajasthan",
          "Sikkim",
          "Tamil Nadu",
          "Telangana",
          "Tripura",
          "Uttar Pradesh",
          "Uttarakhand",
          "West Bengal"
         ],
         "legendgroup": "RES",
         "marker": {
          "color": "#D62728"
         },
         "name": "RES",
         "offsetgroup": "RES",
         "orientation": "v",
         "showlegend": false,
         "textposition": "auto",
         "type": "bar",
         "x": [
          "Andaman & Nicobar Islands",
          "Andhra Pradesh",
          "Arunachal Pradesh",
          "Assam",
          "Bihar",
          "Chandigarh",
          "Chhatisgarh",
          "Dadra & Nagar Haveli",
          "Daman & Diu",
          "Delhi",
          "Goa",
          "Gujarat",
          "Haryana",
          "Himachal Pradesh",
          "Jammu and Kashmir",
          "Jharkhand",
          "Karnataka",
          "Kerala",
          "Lakshadweep",
          "Madhya Pradesh",
          "Maharashtra",
          "Manipur",
          "Meghalaya",
          "Mizoram",
          "Nagaland",
          "Odisha",
          "Puducherry",
          "Punjab",
          "Rajasthan",
          "Sikkim",
          "Tamil Nadu",
          "Telangana",
          "Tripura",
          "Uttar Pradesh",
          "Uttarakhand",
          "West Bengal"
         ],
         "xaxis": "x2",
         "y": [
          7.09,
          8058.744,
          29.61,
          45.33,
          272.77,
          40.55,
          540.8,
          5.46,
          19.86,
          217.16,
          5.12,
          10270.49,
          457,
          695.03,
          69.3,
          42.7,
          15038.175,
          204.574,
          0.75,
          4611.05,
          9199.27,
          5.16,
          13.92,
          1.52,
          1,
          485.3851,
          5.51,
          1320.7,
          9214.93,
          0.07,
          13996.92,
          3973.6,
          4.41,
          3180.61,
          592.85,
          410.93
         ],
         "yaxis": "y2"
        },
        {
         "alignmentgroup": "True",
         "hovertemplate": "<b>%{hovertext}</b><br><br>Mode=RES<br>Sector=CENTRAL SECTOR<br>=%{x}<br>Installed Capacity in MW=%{y}<extra></extra>",
         "hovertext": [
          "Andaman & Nicobar Islands",
          "Andhra Pradesh",
          "Arunachal Pradesh",
          "Assam",
          "Bihar",
          "Chandigarh",
          "Chhatisgarh",
          "Dadra & Nagar Haveli",
          "Daman & Diu",
          "Goa",
          "Gujarat",
          "Haryana",
          "Himachal Pradesh",
          "Jammu and Kashmir",
          "Jharkhand",
          "Karnataka",
          "Kerala",
          "Ladakh",
          "Lakshadweep",
          "Madhya Pradesh",
          "Maharashtra",
          "Manipur",
          "Mizoram",
          "Nagaland",
          "Odisha",
          "Puducherry",
          "Punjab",
          "Rajasthan",
          "Sikkim",
          "Tamil Nadu",
          "Telangana",
          "Tripura",
          "Uttar Pradesh",
          "Uttarakhand",
          "West Bengal"
         ],
         "legendgroup": "RES",
         "marker": {
          "color": "#D62728"
         },
         "name": "RES",
         "offsetgroup": "RES",
         "orientation": "v",
         "showlegend": false,
         "textposition": "auto",
         "type": "bar",
         "x": [
          "Andaman & Nicobar Islands",
          "Andhra Pradesh",
          "Arunachal Pradesh",
          "Assam",
          "Bihar",
          "Chandigarh",
          "Chhatisgarh",
          "Dadra & Nagar Haveli",
          "Daman & Diu",
          "Goa",
          "Gujarat",
          "Haryana",
          "Himachal Pradesh",
          "Jammu and Kashmir",
          "Jharkhand",
          "Karnataka",
          "Kerala",
          "Ladakh",
          "Lakshadweep",
          "Madhya Pradesh",
          "Maharashtra",
          "Manipur",
          "Mizoram",
          "Nagaland",
          "Odisha",
          "Puducherry",
          "Punjab",
          "Rajasthan",
          "Sikkim",
          "Tamil Nadu",
          "Telangana",
          "Tripura",
          "Uttar Pradesh",
          "Uttarakhand",
          "West Bengal"
         ],
         "xaxis": "x",
         "y": [
          5.1,
          250,
          0,
          25,
          0,
          0,
          0,
          0,
          0,
          0,
          243.3,
          5,
          0,
          0,
          0,
          0,
          50,
          0,
          0,
          300,
          123,
          0,
          0,
          0,
          10,
          0,
          0,
          344,
          0,
          231.9,
          10,
          5,
          30,
          0,
          0
         ],
         "yaxis": "y"
        }
       ],
       "layout": {
        "annotations": [
         {
          "font": {},
          "showarrow": false,
          "text": "Sector=CENTRAL SECTOR",
          "textangle": 90,
          "x": 0.98,
          "xanchor": "left",
          "xref": "paper",
          "y": 0.15666666666666665,
          "yanchor": "middle",
          "yref": "paper"
         },
         {
          "font": {},
          "showarrow": false,
          "text": "Sector=PVT SECTOR",
          "textangle": 90,
          "x": 0.98,
          "xanchor": "left",
          "xref": "paper",
          "y": 0.4999999999999999,
          "yanchor": "middle",
          "yref": "paper"
         },
         {
          "font": {},
          "showarrow": false,
          "text": "Sector=STATE SECTOR",
          "textangle": 90,
          "x": 0.98,
          "xanchor": "left",
          "xref": "paper",
          "y": 0.8433333333333332,
          "yanchor": "middle",
          "yref": "paper"
         }
        ],
        "barmode": "relative",
        "font": {
         "family": "Rockwell"
        },
        "height": 800,
        "legend": {
         "orientation": "h",
         "title": {
          "text": "Generation Source"
         },
         "tracegroupgap": 0,
         "x": 0.5,
         "xanchor": "center",
         "y": 1,
         "yanchor": "bottom"
        },
        "template": {
         "data": {
          "pie": [
           {
            "automargin": true,
            "type": "pie"
           }
          ]
         },
         "layout": {
          "xaxis": {
           "showgrid": false,
           "title": {
            "standoff": 15
           }
          },
          "yaxis": {
           "title": {
            "standoff": 15
           }
          }
         }
        },
        "title": {
         "text": "India : Installed Power Capacity As on 03 May 2020"
        },
        "uniformtext": {
         "minsize": 10,
         "mode": "hide"
        },
        "width": 1200,
        "xaxis": {
         "anchor": "y",
         "domain": [
          0,
          0.98
         ],
         "title": {
          "text": ""
         }
        },
        "xaxis2": {
         "anchor": "y2",
         "domain": [
          0,
          0.98
         ],
         "matches": "x",
         "showticklabels": false
        },
        "xaxis3": {
         "anchor": "y3",
         "domain": [
          0,
          0.98
         ],
         "matches": "x",
         "showticklabels": false
        },
        "yaxis": {
         "anchor": "x",
         "domain": [
          0,
          0.3133333333333333
         ],
         "showgrid": true,
         "ticksuffix": " MW",
         "title": {
          "text": "Installed Capacity in MW"
         }
        },
        "yaxis2": {
         "anchor": "x2",
         "domain": [
          0.34333333333333327,
          0.6566666666666665
         ],
         "matches": "y",
         "showgrid": true,
         "ticksuffix": " MW",
         "title": {
          "text": "Installed Capacity in MW"
         }
        },
        "yaxis3": {
         "anchor": "x3",
         "domain": [
          0.6866666666666665,
          0.9999999999999998
         ],
         "matches": "y",
         "showgrid": true,
         "ticksuffix": " MW",
         "title": {
          "text": "Installed Capacity in MW"
         }
        }
       }
      },
      "text/html": [
       "<div>\n",
       "        \n",
       "        \n",
       "            <div id=\"1a247208-9bd5-42cb-b8e9-d980ec3ee66e\" class=\"plotly-graph-div\" style=\"height:800px; width:1200px;\"></div>\n",
       "            <script type=\"text/javascript\">\n",
       "                require([\"plotly\"], function(Plotly) {\n",
       "                    window.PLOTLYENV=window.PLOTLYENV || {};\n",
       "                    \n",
       "                if (document.getElementById(\"1a247208-9bd5-42cb-b8e9-d980ec3ee66e\")) {\n",
       "                    Plotly.newPlot(\n",
       "                        '1a247208-9bd5-42cb-b8e9-d980ec3ee66e',\n",
       "                        [{\"alignmentgroup\": \"True\", \"hovertemplate\": \"<b>%{hovertext}</b><br><br>Mode=Thermal<br>Sector=STATE SECTOR<br>=%{x}<br>Installed Capacity in MW=%{y}<extra></extra>\", \"hovertext\": [\"Andaman & Nicobar Islands\", \"Andhra Pradesh\", \"Arunachal Pradesh\", \"Assam\", \"Bihar\", \"Chandigarh\", \"Chhatisgarh\", \"Dadra & Nagar Haveli\", \"Daman & Diu\", \"Delhi\", \"Goa\", \"Gujarat\", \"Haryana\", \"Himachal Pradesh\", \"Jammu and Kashmir\", \"Jharkhand\", \"Karnataka\", \"Kerala\", \"Lakshadweep\", \"Madhya Pradesh\", \"Maharashtra\", \"Manipur\", \"Meghalaya\", \"Mizoram\", \"Nagaland\", \"Odisha\", \"Puducherry\", \"Punjab\", \"Rajasthan\", \"Sikkim\", \"Tamil Nadu\", \"Telangana\", \"Tripura\", \"Uttar Pradesh\", \"Uttarakhand\", \"West Bengal\"], \"legendgroup\": \"Thermal\", \"marker\": {\"color\": \"#1F77B4\"}, \"name\": \"Thermal\", \"offsetgroup\": \"Thermal\", \"orientation\": \"v\", \"showlegend\": true, \"textposition\": \"auto\", \"type\": \"bar\", \"x\": [\"Andaman & Nicobar Islands\", \"Andhra Pradesh\", \"Arunachal Pradesh\", \"Assam\", \"Bihar\", \"Chandigarh\", \"Chhatisgarh\", \"Dadra & Nagar Haveli\", \"Daman & Diu\", \"Delhi\", \"Goa\", \"Gujarat\", \"Haryana\", \"Himachal Pradesh\", \"Jammu and Kashmir\", \"Jharkhand\", \"Karnataka\", \"Kerala\", \"Lakshadweep\", \"Madhya Pradesh\", \"Maharashtra\", \"Manipur\", \"Meghalaya\", \"Mizoram\", \"Nagaland\", \"Odisha\", \"Puducherry\", \"Punjab\", \"Rajasthan\", \"Sikkim\", \"Tamil Nadu\", \"Telangana\", \"Tripura\", \"Uttar Pradesh\", \"Uttarakhand\", \"West Bengal\"], \"xaxis\": \"x3\", \"y\": [40.048, 5245.4, 0.0, 328.205, 0.0, 0.0, 3080.0, 0.0, 0.0, 2100.4, 0.0, 7727.82, 2510.0, 0.0, 175.0, 420.0, 5020.0, 159.96, 0.0, 5400.0, 10422.0, 36.0, 0.0, 0.0, 0.0, 1740.0, 32.5, 1760.0, 7773.8, 0.0, 4844.08, 4162.5, 169.5, 5469.0, 0.0, 5390.0], \"yaxis\": \"y3\"}, {\"alignmentgroup\": \"True\", \"hovertemplate\": \"<b>%{hovertext}</b><br><br>Mode=Thermal<br>Sector=PVT SECTOR<br>=%{x}<br>Installed Capacity in MW=%{y}<extra></extra>\", \"hovertext\": [\"Andaman & Nicobar Islands\", \"Andhra Pradesh\", \"Arunachal Pradesh\", \"Assam\", \"Bihar\", \"Chandigarh\", \"Chhatisgarh\", \"Dadra & Nagar Haveli\", \"Daman & Diu\", \"Delhi\", \"Goa\", \"Gujarat\", \"Haryana\", \"Himachal Pradesh\", \"Jammu and Kashmir\", \"Jharkhand\", \"Karnataka\", \"Kerala\", \"Lakshadweep\", \"Madhya Pradesh\", \"Maharashtra\", \"Manipur\", \"Meghalaya\", \"Mizoram\", \"Nagaland\", \"Odisha\", \"Puducherry\", \"Punjab\", \"Rajasthan\", \"Sikkim\", \"Tamil Nadu\", \"Telangana\", \"Tripura\", \"Uttar Pradesh\", \"Uttarakhand\", \"West Bengal\"], \"legendgroup\": \"Thermal\", \"marker\": {\"color\": \"#1F77B4\"}, \"name\": \"Thermal\", \"offsetgroup\": \"Thermal\", \"orientation\": \"v\", \"showlegend\": false, \"textposition\": \"auto\", \"type\": \"bar\", \"x\": [\"Andaman & Nicobar Islands\", \"Andhra Pradesh\", \"Arunachal Pradesh\", \"Assam\", \"Bihar\", \"Chandigarh\", \"Chhatisgarh\", \"Dadra & Nagar Haveli\", \"Daman & Diu\", \"Delhi\", \"Goa\", \"Gujarat\", \"Haryana\", \"Himachal Pradesh\", \"Jammu and Kashmir\", \"Jharkhand\", \"Karnataka\", \"Kerala\", \"Lakshadweep\", \"Madhya Pradesh\", \"Maharashtra\", \"Manipur\", \"Meghalaya\", \"Mizoram\", \"Nagaland\", \"Odisha\", \"Puducherry\", \"Punjab\", \"Rajasthan\", \"Sikkim\", \"Tamil Nadu\", \"Telangana\", \"Tripura\", \"Uttar Pradesh\", \"Uttarakhand\", \"West Bengal\"], \"xaxis\": \"x2\", \"y\": [0.0, 9279.944, 0.0, 24.5, 0.0, 0.0, 13168.0, 0.0, 0.0, 108.0, 48.0, 14742.0, 1320.0, 0.0, 0.0, 1830.0, 2085.2, 174.0, 0.0, 8870.0, 12144.0, 0.0, 0.0, 0.0, 0.0, 3800.0, 0.0, 3920.0, 2400.0, 0.0, 3664.801, 0.0, 0.0, 6810.0, 450.0, 2037.0], \"yaxis\": \"y2\"}, {\"alignmentgroup\": \"True\", \"hovertemplate\": \"<b>%{hovertext}</b><br><br>Mode=Thermal<br>Sector=CENTRAL SECTOR<br>=%{x}<br>Installed Capacity in MW=%{y}<extra></extra>\", \"hovertext\": [\"Andaman & Nicobar Islands\", \"Andhra Pradesh\", \"Arunachal Pradesh\", \"Assam\", \"Bihar\", \"Chandigarh\", \"Chhatisgarh\", \"Dadra & Nagar Haveli\", \"Daman & Diu\", \"Goa\", \"Gujarat\", \"Haryana\", \"Himachal Pradesh\", \"Jammu and Kashmir\", \"Jharkhand\", \"Karnataka\", \"Kerala\", \"Ladakh\", \"Lakshadweep\", \"Madhya Pradesh\", \"Maharashtra\", \"Manipur\", \"Mizoram\", \"Nagaland\", \"Odisha\", \"Puducherry\", \"Punjab\", \"Rajasthan\", \"Sikkim\", \"Tamil Nadu\", \"Telangana\", \"Tripura\", \"Uttar Pradesh\", \"Uttarakhand\", \"West Bengal\"], \"legendgroup\": \"Thermal\", \"marker\": {\"color\": \"#1F77B4\"}, \"name\": \"Thermal\", \"offsetgroup\": \"Thermal\", \"orientation\": \"v\", \"showlegend\": false, \"textposition\": \"auto\", \"type\": \"bar\", \"x\": [\"Andaman & Nicobar Islands\", \"Andhra Pradesh\", \"Arunachal Pradesh\", \"Assam\", \"Bihar\", \"Chandigarh\", \"Chhatisgarh\", \"Dadra & Nagar Haveli\", \"Daman & Diu\", \"Goa\", \"Gujarat\", \"Haryana\", \"Himachal Pradesh\", \"Jammu and Kashmir\", \"Jharkhand\", \"Karnataka\", \"Kerala\", \"Ladakh\", \"Lakshadweep\", \"Madhya Pradesh\", \"Maharashtra\", \"Manipur\", \"Mizoram\", \"Nagaland\", \"Odisha\", \"Puducherry\", \"Punjab\", \"Rajasthan\", \"Sikkim\", \"Tamil Nadu\", \"Telangana\", \"Tripura\", \"Uttar Pradesh\", \"Uttarakhand\", \"West Bengal\"], \"xaxis\": \"x\", \"y\": [0.0, 2000.0, 0.0, 1041.0, 6390.0, 0.0, 6880.0, 0.0, 0.0, 0.0, 1313.59, 1931.59, 0.0, 0.0, 2210.0, 2400.0, 359.58, 0.0, 0.0, 6880.0, 5607.08, 0.0, 0.0, 0.0, 4260.0, 0.0, 0.0, 669.33, 0.0, 5740.0, 2600.0, 962.6, 11623.14, 0.0, 6850.0], \"yaxis\": \"y\"}, {\"alignmentgroup\": \"True\", \"hovertemplate\": \"<b>%{hovertext}</b><br><br>Mode=Nuclear<br>Sector=STATE SECTOR<br>=%{x}<br>Installed Capacity in MW=%{y}<extra></extra>\", \"hovertext\": [\"Andaman & Nicobar Islands\", \"Andhra Pradesh\", \"Arunachal Pradesh\", \"Assam\", \"Bihar\", \"Chandigarh\", \"Chhatisgarh\", \"Dadra & Nagar Haveli\", \"Daman & Diu\", \"Delhi\", \"Goa\", \"Gujarat\", \"Haryana\", \"Himachal Pradesh\", \"Jammu and Kashmir\", \"Jharkhand\", \"Karnataka\", \"Kerala\", \"Lakshadweep\", \"Madhya Pradesh\", \"Maharashtra\", \"Manipur\", \"Meghalaya\", \"Mizoram\", \"Nagaland\", \"Odisha\", \"Puducherry\", \"Punjab\", \"Rajasthan\", \"Sikkim\", \"Tamil Nadu\", \"Telangana\", \"Tripura\", \"Uttar Pradesh\", \"Uttarakhand\", \"West Bengal\"], \"legendgroup\": \"Nuclear\", \"marker\": {\"color\": \"#FF7F0E\"}, \"name\": \"Nuclear\", \"offsetgroup\": \"Nuclear\", \"orientation\": \"v\", \"showlegend\": true, \"textposition\": \"auto\", \"type\": \"bar\", \"x\": [\"Andaman & Nicobar Islands\", \"Andhra Pradesh\", \"Arunachal Pradesh\", \"Assam\", \"Bihar\", \"Chandigarh\", \"Chhatisgarh\", \"Dadra & Nagar Haveli\", \"Daman & Diu\", \"Delhi\", \"Goa\", \"Gujarat\", \"Haryana\", \"Himachal Pradesh\", \"Jammu and Kashmir\", \"Jharkhand\", \"Karnataka\", \"Kerala\", \"Lakshadweep\", \"Madhya Pradesh\", \"Maharashtra\", \"Manipur\", \"Meghalaya\", \"Mizoram\", \"Nagaland\", \"Odisha\", \"Puducherry\", \"Punjab\", \"Rajasthan\", \"Sikkim\", \"Tamil Nadu\", \"Telangana\", \"Tripura\", \"Uttar Pradesh\", \"Uttarakhand\", \"West Bengal\"], \"xaxis\": \"x3\", \"y\": [0.0, 0.0, 0.0, 0.0, 0.0, 0.0, 0.0, 0.0, 0.0, 0.0, 0.0, 0.0, 0.0, 0.0, 0.0, 0.0, 0.0, 0.0, 0.0, 0.0, 0.0, 0.0, 0.0, 0.0, 0.0, 0.0, 0.0, 0.0, 0.0, 0.0, 0.0, 0.0, 0.0, 0.0, 0.0, 0.0], \"yaxis\": \"y3\"}, {\"alignmentgroup\": \"True\", \"hovertemplate\": \"<b>%{hovertext}</b><br><br>Mode=Nuclear<br>Sector=PVT SECTOR<br>=%{x}<br>Installed Capacity in MW=%{y}<extra></extra>\", \"hovertext\": [\"Andaman & Nicobar Islands\", \"Andhra Pradesh\", \"Arunachal Pradesh\", \"Assam\", \"Bihar\", \"Chandigarh\", \"Chhatisgarh\", \"Dadra & Nagar Haveli\", \"Daman & Diu\", \"Delhi\", \"Goa\", \"Gujarat\", \"Haryana\", \"Himachal Pradesh\", \"Jammu and Kashmir\", \"Jharkhand\", \"Karnataka\", \"Kerala\", \"Lakshadweep\", \"Madhya Pradesh\", \"Maharashtra\", \"Manipur\", \"Meghalaya\", \"Mizoram\", \"Nagaland\", \"Odisha\", \"Puducherry\", \"Punjab\", \"Rajasthan\", \"Sikkim\", \"Tamil Nadu\", \"Telangana\", \"Tripura\", \"Uttar Pradesh\", \"Uttarakhand\", \"West Bengal\"], \"legendgroup\": \"Nuclear\", \"marker\": {\"color\": \"#FF7F0E\"}, \"name\": \"Nuclear\", \"offsetgroup\": \"Nuclear\", \"orientation\": \"v\", \"showlegend\": false, \"textposition\": \"auto\", \"type\": \"bar\", \"x\": [\"Andaman & Nicobar Islands\", \"Andhra Pradesh\", \"Arunachal Pradesh\", \"Assam\", \"Bihar\", \"Chandigarh\", \"Chhatisgarh\", \"Dadra & Nagar Haveli\", \"Daman & Diu\", \"Delhi\", \"Goa\", \"Gujarat\", \"Haryana\", \"Himachal Pradesh\", \"Jammu and Kashmir\", \"Jharkhand\", \"Karnataka\", \"Kerala\", \"Lakshadweep\", \"Madhya Pradesh\", \"Maharashtra\", \"Manipur\", \"Meghalaya\", \"Mizoram\", \"Nagaland\", \"Odisha\", \"Puducherry\", \"Punjab\", \"Rajasthan\", \"Sikkim\", \"Tamil Nadu\", \"Telangana\", \"Tripura\", \"Uttar Pradesh\", \"Uttarakhand\", \"West Bengal\"], \"xaxis\": \"x2\", \"y\": [0.0, 0.0, 0.0, 0.0, 0.0, 0.0, 0.0, 0.0, 0.0, 0.0, 0.0, 0.0, 0.0, 0.0, 0.0, 0.0, 0.0, 0.0, 0.0, 0.0, 0.0, 0.0, 0.0, 0.0, 0.0, 0.0, 0.0, 0.0, 0.0, 0.0, 0.0, 0.0, 0.0, 0.0, 0.0, 0.0], \"yaxis\": \"y2\"}, {\"alignmentgroup\": \"True\", \"hovertemplate\": \"<b>%{hovertext}</b><br><br>Mode=Nuclear<br>Sector=CENTRAL SECTOR<br>=%{x}<br>Installed Capacity in MW=%{y}<extra></extra>\", \"hovertext\": [\"Andaman & Nicobar Islands\", \"Andhra Pradesh\", \"Arunachal Pradesh\", \"Assam\", \"Bihar\", \"Chandigarh\", \"Chhatisgarh\", \"Dadra & Nagar Haveli\", \"Daman & Diu\", \"Goa\", \"Gujarat\", \"Haryana\", \"Himachal Pradesh\", \"Jammu and Kashmir\", \"Jharkhand\", \"Karnataka\", \"Kerala\", \"Ladakh\", \"Lakshadweep\", \"Madhya Pradesh\", \"Maharashtra\", \"Manipur\", \"Mizoram\", \"Nagaland\", \"Odisha\", \"Puducherry\", \"Punjab\", \"Rajasthan\", \"Sikkim\", \"Tamil Nadu\", \"Telangana\", \"Tripura\", \"Uttar Pradesh\", \"Uttarakhand\", \"West Bengal\"], \"legendgroup\": \"Nuclear\", \"marker\": {\"color\": \"#FF7F0E\"}, \"name\": \"Nuclear\", \"offsetgroup\": \"Nuclear\", \"orientation\": \"v\", \"showlegend\": false, \"textposition\": \"auto\", \"type\": \"bar\", \"x\": [\"Andaman & Nicobar Islands\", \"Andhra Pradesh\", \"Arunachal Pradesh\", \"Assam\", \"Bihar\", \"Chandigarh\", \"Chhatisgarh\", \"Dadra & Nagar Haveli\", \"Daman & Diu\", \"Goa\", \"Gujarat\", \"Haryana\", \"Himachal Pradesh\", \"Jammu and Kashmir\", \"Jharkhand\", \"Karnataka\", \"Kerala\", \"Ladakh\", \"Lakshadweep\", \"Madhya Pradesh\", \"Maharashtra\", \"Manipur\", \"Mizoram\", \"Nagaland\", \"Odisha\", \"Puducherry\", \"Punjab\", \"Rajasthan\", \"Sikkim\", \"Tamil Nadu\", \"Telangana\", \"Tripura\", \"Uttar Pradesh\", \"Uttarakhand\", \"West Bengal\"], \"xaxis\": \"x\", \"y\": [0.0, 0.0, 0.0, 0.0, 0.0, 0.0, 0.0, 0.0, 0.0, 0.0, 440.0, 0.0, 0.0, 0.0, 0.0, 880.0, 0.0, 0.0, 0.0, 0.0, 1400.0, 0.0, 0.0, 0.0, 0.0, 0.0, 0.0, 1180.0, 0.0, 2440.0, 0.0, 0.0, 440.0, 0.0, 0.0], \"yaxis\": \"y\"}, {\"alignmentgroup\": \"True\", \"hovertemplate\": \"<b>%{hovertext}</b><br><br>Mode=Hydro<br>Sector=STATE SECTOR<br>=%{x}<br>Installed Capacity in MW=%{y}<extra></extra>\", \"hovertext\": [\"Andaman & Nicobar Islands\", \"Andhra Pradesh\", \"Arunachal Pradesh\", \"Assam\", \"Bihar\", \"Chandigarh\", \"Chhatisgarh\", \"Dadra & Nagar Haveli\", \"Daman & Diu\", \"Delhi\", \"Goa\", \"Gujarat\", \"Haryana\", \"Himachal Pradesh\", \"Jammu and Kashmir\", \"Jharkhand\", \"Karnataka\", \"Kerala\", \"Lakshadweep\", \"Madhya Pradesh\", \"Maharashtra\", \"Manipur\", \"Meghalaya\", \"Mizoram\", \"Nagaland\", \"Odisha\", \"Puducherry\", \"Punjab\", \"Rajasthan\", \"Sikkim\", \"Tamil Nadu\", \"Telangana\", \"Tripura\", \"Uttar Pradesh\", \"Uttarakhand\", \"West Bengal\"], \"legendgroup\": \"Hydro\", \"marker\": {\"color\": \"#2CA02C\"}, \"name\": \"Hydro\", \"offsetgroup\": \"Hydro\", \"orientation\": \"v\", \"showlegend\": true, \"textposition\": \"auto\", \"type\": \"bar\", \"x\": [\"Andaman & Nicobar Islands\", \"Andhra Pradesh\", \"Arunachal Pradesh\", \"Assam\", \"Bihar\", \"Chandigarh\", \"Chhatisgarh\", \"Dadra & Nagar Haveli\", \"Daman & Diu\", \"Delhi\", \"Goa\", \"Gujarat\", \"Haryana\", \"Himachal Pradesh\", \"Jammu and Kashmir\", \"Jharkhand\", \"Karnataka\", \"Kerala\", \"Lakshadweep\", \"Madhya Pradesh\", \"Maharashtra\", \"Manipur\", \"Meghalaya\", \"Mizoram\", \"Nagaland\", \"Odisha\", \"Puducherry\", \"Punjab\", \"Rajasthan\", \"Sikkim\", \"Tamil Nadu\", \"Telangana\", \"Tripura\", \"Uttar Pradesh\", \"Uttarakhand\", \"West Bengal\"], \"xaxis\": \"x3\", \"y\": [0.0, 1610.0, 0.0, 100.0, 0.0, 0.0, 120.0, 0.0, 0.0, 0.0, 0.0, 1990.0, 0.0, 777.0, 1110.0, 130.0, 3644.2, 1856.5, 0.0, 715.0, 2566.0, 0.0, 322.0, 0.0, 0.0, 2142.25, 0.0, 941.0, 411.0, 1200.0, 2178.2, 2405.6, 0.0, 501.6, 1252.15, 986.0], \"yaxis\": \"y3\"}, {\"alignmentgroup\": \"True\", \"hovertemplate\": \"<b>%{hovertext}</b><br><br>Mode=Hydro<br>Sector=PVT SECTOR<br>=%{x}<br>Installed Capacity in MW=%{y}<extra></extra>\", \"hovertext\": [\"Andaman & Nicobar Islands\", \"Andhra Pradesh\", \"Arunachal Pradesh\", \"Assam\", \"Bihar\", \"Chandigarh\", \"Chhatisgarh\", \"Dadra & Nagar Haveli\", \"Daman & Diu\", \"Delhi\", \"Goa\", \"Gujarat\", \"Haryana\", \"Himachal Pradesh\", \"Jammu and Kashmir\", \"Jharkhand\", \"Karnataka\", \"Kerala\", \"Lakshadweep\", \"Madhya Pradesh\", \"Maharashtra\", \"Manipur\", \"Meghalaya\", \"Mizoram\", \"Nagaland\", \"Odisha\", \"Puducherry\", \"Punjab\", \"Rajasthan\", \"Sikkim\", \"Tamil Nadu\", \"Telangana\", \"Tripura\", \"Uttar Pradesh\", \"Uttarakhand\", \"West Bengal\"], \"legendgroup\": \"Hydro\", \"marker\": {\"color\": \"#2CA02C\"}, \"name\": \"Hydro\", \"offsetgroup\": \"Hydro\", \"orientation\": \"v\", \"showlegend\": false, \"textposition\": \"auto\", \"type\": \"bar\", \"x\": [\"Andaman & Nicobar Islands\", \"Andhra Pradesh\", \"Arunachal Pradesh\", \"Assam\", \"Bihar\", \"Chandigarh\", \"Chhatisgarh\", \"Dadra & Nagar Haveli\", \"Daman & Diu\", \"Delhi\", \"Goa\", \"Gujarat\", \"Haryana\", \"Himachal Pradesh\", \"Jammu and Kashmir\", \"Jharkhand\", \"Karnataka\", \"Kerala\", \"Lakshadweep\", \"Madhya Pradesh\", \"Maharashtra\", \"Manipur\", \"Meghalaya\", \"Mizoram\", \"Nagaland\", \"Odisha\", \"Puducherry\", \"Punjab\", \"Rajasthan\", \"Sikkim\", \"Tamil Nadu\", \"Telangana\", \"Tripura\", \"Uttar Pradesh\", \"Uttarakhand\", \"West Bengal\"], \"xaxis\": \"x2\", \"y\": [0.0, 0.0, 0.0, 0.0, 0.0, 0.0, 0.0, 0.0, 0.0, 0.0, 0.0, 0.0, 0.0, 1784.0, 0.0, 0.0, 0.0, 0.0, 0.0, 0.0, 481.0, 0.0, 0.0, 0.0, 0.0, 0.0, 0.0, 0.0, 0.0, 399.0, 0.0, 0.0, 0.0, 0.0, 730.0, 0.0], \"yaxis\": \"y2\"}, {\"alignmentgroup\": \"True\", \"hovertemplate\": \"<b>%{hovertext}</b><br><br>Mode=Hydro<br>Sector=CENTRAL SECTOR<br>=%{x}<br>Installed Capacity in MW=%{y}<extra></extra>\", \"hovertext\": [\"Andaman & Nicobar Islands\", \"Andhra Pradesh\", \"Arunachal Pradesh\", \"Assam\", \"Bihar\", \"Chandigarh\", \"Chhatisgarh\", \"Dadra & Nagar Haveli\", \"Daman & Diu\", \"Goa\", \"Gujarat\", \"Haryana\", \"Himachal Pradesh\", \"Jammu and Kashmir\", \"Jharkhand\", \"Karnataka\", \"Kerala\", \"Ladakh\", \"Lakshadweep\", \"Madhya Pradesh\", \"Maharashtra\", \"Manipur\", \"Mizoram\", \"Nagaland\", \"Odisha\", \"Puducherry\", \"Punjab\", \"Rajasthan\", \"Sikkim\", \"Tamil Nadu\", \"Telangana\", \"Tripura\", \"Uttar Pradesh\", \"Uttarakhand\", \"West Bengal\"], \"legendgroup\": \"Hydro\", \"marker\": {\"color\": \"#2CA02C\"}, \"name\": \"Hydro\", \"offsetgroup\": \"Hydro\", \"orientation\": \"v\", \"showlegend\": false, \"textposition\": \"auto\", \"type\": \"bar\", \"x\": [\"Andaman & Nicobar Islands\", \"Andhra Pradesh\", \"Arunachal Pradesh\", \"Assam\", \"Bihar\", \"Chandigarh\", \"Chhatisgarh\", \"Dadra & Nagar Haveli\", \"Daman & Diu\", \"Goa\", \"Gujarat\", \"Haryana\", \"Himachal Pradesh\", \"Jammu and Kashmir\", \"Jharkhand\", \"Karnataka\", \"Kerala\", \"Ladakh\", \"Lakshadweep\", \"Madhya Pradesh\", \"Maharashtra\", \"Manipur\", \"Mizoram\", \"Nagaland\", \"Odisha\", \"Puducherry\", \"Punjab\", \"Rajasthan\", \"Sikkim\", \"Tamil Nadu\", \"Telangana\", \"Tripura\", \"Uttar Pradesh\", \"Uttarakhand\", \"West Bengal\"], \"xaxis\": \"x\", \"y\": [0.0, 0.0, 815.0, 250.0, 0.0, 0.0, 0.0, 0.0, 0.0, 0.0, 0.0, 0.0, 7248.02, 2250.0, 80.0, 0.0, 0.0, 89.0, 0.0, 1520.0, 0.0, 105.0, 60.0, 75.0, 0.0, 0.0, 155.3, 0.0, 570.0, 0.0, 0.0, 0.0, 0.0, 1774.2, 355.2], \"yaxis\": \"y\"}, {\"alignmentgroup\": \"True\", \"hovertemplate\": \"<b>%{hovertext}</b><br><br>Mode=RES<br>Sector=STATE SECTOR<br>=%{x}<br>Installed Capacity in MW=%{y}<extra></extra>\", \"hovertext\": [\"Andaman & Nicobar Islands\", \"Andhra Pradesh\", \"Arunachal Pradesh\", \"Assam\", \"Bihar\", \"Chandigarh\", \"Chhatisgarh\", \"Dadra & Nagar Haveli\", \"Daman & Diu\", \"Delhi\", \"Goa\", \"Gujarat\", \"Haryana\", \"Himachal Pradesh\", \"Jammu and Kashmir\", \"Jharkhand\", \"Karnataka\", \"Kerala\", \"Lakshadweep\", \"Madhya Pradesh\", \"Maharashtra\", \"Manipur\", \"Meghalaya\", \"Mizoram\", \"Nagaland\", \"Odisha\", \"Puducherry\", \"Punjab\", \"Rajasthan\", \"Sikkim\", \"Tamil Nadu\", \"Telangana\", \"Tripura\", \"Uttar Pradesh\", \"Uttarakhand\", \"West Bengal\"], \"legendgroup\": \"RES\", \"marker\": {\"color\": \"#D62728\"}, \"name\": \"RES\", \"offsetgroup\": \"RES\", \"orientation\": \"v\", \"showlegend\": true, \"textposition\": \"auto\", \"type\": \"bar\", \"x\": [\"Andaman & Nicobar Islands\", \"Andhra Pradesh\", \"Arunachal Pradesh\", \"Assam\", \"Bihar\", \"Chandigarh\", \"Chhatisgarh\", \"Dadra & Nagar Haveli\", \"Daman & Diu\", \"Delhi\", \"Goa\", \"Gujarat\", \"Haryana\", \"Himachal Pradesh\", \"Jammu and Kashmir\", \"Jharkhand\", \"Karnataka\", \"Kerala\", \"Lakshadweep\", \"Madhya Pradesh\", \"Maharashtra\", \"Manipur\", \"Meghalaya\", \"Mizoram\", \"Nagaland\", \"Odisha\", \"Puducherry\", \"Punjab\", \"Rajasthan\", \"Sikkim\", \"Tamil Nadu\", \"Telangana\", \"Tripura\", \"Uttar Pradesh\", \"Uttarakhand\", \"West Bengal\"], \"xaxis\": \"x3\", \"y\": [5.25, 56.176, 107.105, 5.01, 70.7, 0.0, 11.05, 0.0, 0.0, 0.0, 0.05, 72.35, 69.3, 256.61, 130.48, 4.05, 193.885, 172.896, 0.0, 83.96, 388.1251, 5.45, 32.53, 36.47, 30.67, 26.3, 0.0, 127.8, 23.85, 52.11, 122.7, 41.22, 16.01, 25.1, 67.87, 121.95], \"yaxis\": \"y3\"}, {\"alignmentgroup\": \"True\", \"hovertemplate\": \"<b>%{hovertext}</b><br><br>Mode=RES<br>Sector=PVT SECTOR<br>=%{x}<br>Installed Capacity in MW=%{y}<extra></extra>\", \"hovertext\": [\"Andaman & Nicobar Islands\", \"Andhra Pradesh\", \"Arunachal Pradesh\", \"Assam\", \"Bihar\", \"Chandigarh\", \"Chhatisgarh\", \"Dadra & Nagar Haveli\", \"Daman & Diu\", \"Delhi\", \"Goa\", \"Gujarat\", \"Haryana\", \"Himachal Pradesh\", \"Jammu and Kashmir\", \"Jharkhand\", \"Karnataka\", \"Kerala\", \"Lakshadweep\", \"Madhya Pradesh\", \"Maharashtra\", \"Manipur\", \"Meghalaya\", \"Mizoram\", \"Nagaland\", \"Odisha\", \"Puducherry\", \"Punjab\", \"Rajasthan\", \"Sikkim\", \"Tamil Nadu\", \"Telangana\", \"Tripura\", \"Uttar Pradesh\", \"Uttarakhand\", \"West Bengal\"], \"legendgroup\": \"RES\", \"marker\": {\"color\": \"#D62728\"}, \"name\": \"RES\", \"offsetgroup\": \"RES\", \"orientation\": \"v\", \"showlegend\": false, \"textposition\": \"auto\", \"type\": \"bar\", \"x\": [\"Andaman & Nicobar Islands\", \"Andhra Pradesh\", \"Arunachal Pradesh\", \"Assam\", \"Bihar\", \"Chandigarh\", \"Chhatisgarh\", \"Dadra & Nagar Haveli\", \"Daman & Diu\", \"Delhi\", \"Goa\", \"Gujarat\", \"Haryana\", \"Himachal Pradesh\", \"Jammu and Kashmir\", \"Jharkhand\", \"Karnataka\", \"Kerala\", \"Lakshadweep\", \"Madhya Pradesh\", \"Maharashtra\", \"Manipur\", \"Meghalaya\", \"Mizoram\", \"Nagaland\", \"Odisha\", \"Puducherry\", \"Punjab\", \"Rajasthan\", \"Sikkim\", \"Tamil Nadu\", \"Telangana\", \"Tripura\", \"Uttar Pradesh\", \"Uttarakhand\", \"West Bengal\"], \"xaxis\": \"x2\", \"y\": [7.09, 8058.744, 29.61, 45.33, 272.77, 40.55, 540.8, 5.46, 19.86, 217.16, 5.12, 10270.49, 457.0, 695.03, 69.3, 42.7, 15038.175, 204.574, 0.75, 4611.05, 9199.27, 5.16, 13.92, 1.52, 1.0, 485.3851, 5.51, 1320.7, 9214.93, 0.07, 13996.92, 3973.6, 4.41, 3180.61, 592.85, 410.93], \"yaxis\": \"y2\"}, {\"alignmentgroup\": \"True\", \"hovertemplate\": \"<b>%{hovertext}</b><br><br>Mode=RES<br>Sector=CENTRAL SECTOR<br>=%{x}<br>Installed Capacity in MW=%{y}<extra></extra>\", \"hovertext\": [\"Andaman & Nicobar Islands\", \"Andhra Pradesh\", \"Arunachal Pradesh\", \"Assam\", \"Bihar\", \"Chandigarh\", \"Chhatisgarh\", \"Dadra & Nagar Haveli\", \"Daman & Diu\", \"Goa\", \"Gujarat\", \"Haryana\", \"Himachal Pradesh\", \"Jammu and Kashmir\", \"Jharkhand\", \"Karnataka\", \"Kerala\", \"Ladakh\", \"Lakshadweep\", \"Madhya Pradesh\", \"Maharashtra\", \"Manipur\", \"Mizoram\", \"Nagaland\", \"Odisha\", \"Puducherry\", \"Punjab\", \"Rajasthan\", \"Sikkim\", \"Tamil Nadu\", \"Telangana\", \"Tripura\", \"Uttar Pradesh\", \"Uttarakhand\", \"West Bengal\"], \"legendgroup\": \"RES\", \"marker\": {\"color\": \"#D62728\"}, \"name\": \"RES\", \"offsetgroup\": \"RES\", \"orientation\": \"v\", \"showlegend\": false, \"textposition\": \"auto\", \"type\": \"bar\", \"x\": [\"Andaman & Nicobar Islands\", \"Andhra Pradesh\", \"Arunachal Pradesh\", \"Assam\", \"Bihar\", \"Chandigarh\", \"Chhatisgarh\", \"Dadra & Nagar Haveli\", \"Daman & Diu\", \"Goa\", \"Gujarat\", \"Haryana\", \"Himachal Pradesh\", \"Jammu and Kashmir\", \"Jharkhand\", \"Karnataka\", \"Kerala\", \"Ladakh\", \"Lakshadweep\", \"Madhya Pradesh\", \"Maharashtra\", \"Manipur\", \"Mizoram\", \"Nagaland\", \"Odisha\", \"Puducherry\", \"Punjab\", \"Rajasthan\", \"Sikkim\", \"Tamil Nadu\", \"Telangana\", \"Tripura\", \"Uttar Pradesh\", \"Uttarakhand\", \"West Bengal\"], \"xaxis\": \"x\", \"y\": [5.1, 250.0, 0.0, 25.0, 0.0, 0.0, 0.0, 0.0, 0.0, 0.0, 243.3, 5.0, 0.0, 0.0, 0.0, 0.0, 50.0, 0.0, 0.0, 300.0, 123.0, 0.0, 0.0, 0.0, 10.0, 0.0, 0.0, 344.0, 0.0, 231.9, 10.0, 5.0, 30.0, 0.0, 0.0], \"yaxis\": \"y\"}],\n",
       "                        {\"annotations\": [{\"font\": {}, \"showarrow\": false, \"text\": \"Sector=CENTRAL SECTOR\", \"textangle\": 90, \"x\": 0.98, \"xanchor\": \"left\", \"xref\": \"paper\", \"y\": 0.15666666666666665, \"yanchor\": \"middle\", \"yref\": \"paper\"}, {\"font\": {}, \"showarrow\": false, \"text\": \"Sector=PVT SECTOR\", \"textangle\": 90, \"x\": 0.98, \"xanchor\": \"left\", \"xref\": \"paper\", \"y\": 0.4999999999999999, \"yanchor\": \"middle\", \"yref\": \"paper\"}, {\"font\": {}, \"showarrow\": false, \"text\": \"Sector=STATE SECTOR\", \"textangle\": 90, \"x\": 0.98, \"xanchor\": \"left\", \"xref\": \"paper\", \"y\": 0.8433333333333332, \"yanchor\": \"middle\", \"yref\": \"paper\"}], \"barmode\": \"relative\", \"font\": {\"family\": \"Rockwell\"}, \"height\": 800, \"legend\": {\"orientation\": \"h\", \"title\": {\"text\": \"Generation Source\"}, \"tracegroupgap\": 0, \"x\": 0.5, \"xanchor\": \"center\", \"y\": 1, \"yanchor\": \"bottom\"}, \"template\": {\"data\": {\"pie\": [{\"automargin\": true, \"type\": \"pie\"}]}, \"layout\": {\"xaxis\": {\"showgrid\": false, \"title\": {\"standoff\": 15}}, \"yaxis\": {\"title\": {\"standoff\": 15}}}}, \"title\": {\"text\": \"India : Installed Power Capacity As on 03 May 2020\"}, \"uniformtext\": {\"minsize\": 10, \"mode\": \"hide\"}, \"width\": 1200, \"xaxis\": {\"anchor\": \"y\", \"domain\": [0.0, 0.98], \"title\": {\"text\": \"\"}}, \"xaxis2\": {\"anchor\": \"y2\", \"domain\": [0.0, 0.98], \"matches\": \"x\", \"showticklabels\": false}, \"xaxis3\": {\"anchor\": \"y3\", \"domain\": [0.0, 0.98], \"matches\": \"x\", \"showticklabels\": false}, \"yaxis\": {\"anchor\": \"x\", \"domain\": [0.0, 0.3133333333333333], \"showgrid\": true, \"ticksuffix\": \" MW\", \"title\": {\"text\": \"Installed Capacity in MW\"}}, \"yaxis2\": {\"anchor\": \"x2\", \"domain\": [0.34333333333333327, 0.6566666666666665], \"matches\": \"y\", \"showgrid\": true, \"ticksuffix\": \" MW\", \"title\": {\"text\": \"Installed Capacity in MW\"}}, \"yaxis3\": {\"anchor\": \"x3\", \"domain\": [0.6866666666666665, 0.9999999999999998], \"matches\": \"y\", \"showgrid\": true, \"ticksuffix\": \" MW\", \"title\": {\"text\": \"Installed Capacity in MW\"}}},\n",
       "                        {\"responsive\": true}\n",
       "                    ).then(function(){\n",
       "                            \n",
       "var gd = document.getElementById('1a247208-9bd5-42cb-b8e9-d980ec3ee66e');\n",
       "var x = new MutationObserver(function (mutations, observer) {{\n",
       "        var display = window.getComputedStyle(gd).display;\n",
       "        if (!display || display === 'none') {{\n",
       "            console.log([gd, 'removed!']);\n",
       "            Plotly.purge(gd);\n",
       "            observer.disconnect();\n",
       "        }}\n",
       "}});\n",
       "\n",
       "// Listen for the removal of the full notebook cells\n",
       "var notebookContainer = gd.closest('#notebook-container');\n",
       "if (notebookContainer) {{\n",
       "    x.observe(notebookContainer, {childList: true});\n",
       "}}\n",
       "\n",
       "// Listen for the clearing of the current output cell\n",
       "var outputEl = gd.closest('.output');\n",
       "if (outputEl) {{\n",
       "    x.observe(outputEl, {childList: true});\n",
       "}}\n",
       "\n",
       "                        })\n",
       "                };\n",
       "                });\n",
       "            </script>\n",
       "        </div>"
      ]
     },
     "metadata": {},
     "output_type": "display_data"
    }
   ],
   "source": [
    "fig=px.bar(data_frame=Data1,x=\"State\",y=\"Installed Capacity\",color=\"Mode\",\n",
    "      labels={\"State\":\"\",\"Installed Capacity\":\"Installed Capacity in MW\"},\n",
    "      title=\"India : Installed Power Capacity As on 03 May 2020\",\n",
    "      template=\"xgridoff\",hover_name=\"State\",facet_row=\"Sector\",\n",
    "          height=800,width=1200)\n",
    "\n",
    "#fig.update_traces(texttemplate='%{text:\"Sector\"}', textposition='inside')\n",
    "fig.update_layout(uniformtext_minsize=10, uniformtext_mode='hide',font_family=\"Rockwell\",\n",
    "    legend=dict(title=\"Generation Source\", orientation=\"h\", y=1, yanchor=\"bottom\", x=0.5, xanchor=\"center\"))\n",
    "\n",
    "fig.update_yaxes( # the y-axis is in MW\n",
    "    ticksuffix=\" MW\",showgrid=True)\n",
    "fig.update_xaxes()\n",
    "fig.show()"
   ]
  },
  {
   "cell_type": "code",
   "execution_count": 35,
   "metadata": {},
   "outputs": [],
   "source": [
    "#pio.write_html(fig, file='index.html', auto_open=True)"
   ]
  },
  {
   "cell_type": "code",
   "execution_count": 36,
   "metadata": {},
   "outputs": [
    {
     "data": {
      "text/plain": [
       "'https://plotly.com/~bmodi700/9/'"
      ]
     },
     "execution_count": 36,
     "metadata": {},
     "output_type": "execute_result"
    }
   ],
   "source": [
    "py.plot(fig, filename = 'India :Installed Power Capacity As on 03 May 2020', auto_open=True)"
   ]
  },
  {
   "cell_type": "code",
   "execution_count": 37,
   "metadata": {
    "scrolled": true
   },
   "outputs": [
    {
     "data": {
      "application/vnd.plotly.v1+json": {
       "config": {
        "plotlyServerURL": "https://plot.ly"
       },
       "data": [
        {
         "domain": {
          "x": [
           0,
           1
          ],
          "y": [
           0,
           1
          ]
         },
         "hole": 0.4,
         "hovertemplate": "State=%{label}<br>Installed Capacity=%{value}<extra></extra>",
         "labels": [
          "Andaman & Nicobar Islands",
          "Andaman & Nicobar Islands",
          "Andaman & Nicobar Islands",
          "Andaman & Nicobar Islands",
          "Andaman & Nicobar Islands",
          "Andaman & Nicobar Islands",
          "Andaman & Nicobar Islands",
          "Andaman & Nicobar Islands",
          "Andaman & Nicobar Islands",
          "Andaman & Nicobar Islands",
          "Andaman & Nicobar Islands",
          "Andaman & Nicobar Islands",
          "Andhra Pradesh",
          "Andhra Pradesh",
          "Andhra Pradesh",
          "Andhra Pradesh",
          "Andhra Pradesh",
          "Andhra Pradesh",
          "Andhra Pradesh",
          "Andhra Pradesh",
          "Andhra Pradesh",
          "Andhra Pradesh",
          "Andhra Pradesh",
          "Andhra Pradesh",
          "Arunachal Pradesh",
          "Arunachal Pradesh",
          "Arunachal Pradesh",
          "Arunachal Pradesh",
          "Arunachal Pradesh",
          "Arunachal Pradesh",
          "Arunachal Pradesh",
          "Arunachal Pradesh",
          "Arunachal Pradesh",
          "Arunachal Pradesh",
          "Arunachal Pradesh",
          "Arunachal Pradesh",
          "Assam",
          "Assam",
          "Assam",
          "Assam",
          "Assam",
          "Assam",
          "Assam",
          "Assam",
          "Assam",
          "Assam",
          "Assam",
          "Assam",
          "Bihar",
          "Bihar",
          "Bihar",
          "Bihar",
          "Bihar",
          "Bihar",
          "Bihar",
          "Bihar",
          "Bihar",
          "Bihar",
          "Bihar",
          "Bihar",
          "Chandigarh",
          "Chandigarh",
          "Chandigarh",
          "Chandigarh",
          "Chandigarh",
          "Chandigarh",
          "Chandigarh",
          "Chandigarh",
          "Chandigarh",
          "Chandigarh",
          "Chandigarh",
          "Chandigarh",
          "Chhatisgarh",
          "Chhatisgarh",
          "Chhatisgarh",
          "Chhatisgarh",
          "Chhatisgarh",
          "Chhatisgarh",
          "Chhatisgarh",
          "Chhatisgarh",
          "Chhatisgarh",
          "Chhatisgarh",
          "Chhatisgarh",
          "Chhatisgarh",
          "Dadra & Nagar Haveli",
          "Dadra & Nagar Haveli",
          "Dadra & Nagar Haveli",
          "Dadra & Nagar Haveli",
          "Dadra & Nagar Haveli",
          "Dadra & Nagar Haveli",
          "Dadra & Nagar Haveli",
          "Dadra & Nagar Haveli",
          "Dadra & Nagar Haveli",
          "Dadra & Nagar Haveli",
          "Dadra & Nagar Haveli",
          "Dadra & Nagar Haveli",
          "Daman & Diu",
          "Daman & Diu",
          "Daman & Diu",
          "Daman & Diu",
          "Daman & Diu",
          "Daman & Diu",
          "Daman & Diu",
          "Daman & Diu",
          "Daman & Diu",
          "Daman & Diu",
          "Daman & Diu",
          "Daman & Diu",
          "Delhi",
          "Delhi",
          "Delhi",
          "Delhi",
          "Delhi",
          "Delhi",
          "Delhi",
          "Delhi",
          "Goa",
          "Goa",
          "Goa",
          "Goa",
          "Goa",
          "Goa",
          "Goa",
          "Goa",
          "Goa",
          "Goa",
          "Goa",
          "Goa",
          "Gujarat",
          "Gujarat",
          "Gujarat",
          "Gujarat",
          "Gujarat",
          "Gujarat",
          "Gujarat",
          "Gujarat",
          "Gujarat",
          "Gujarat",
          "Gujarat",
          "Gujarat",
          "Haryana",
          "Haryana",
          "Haryana",
          "Haryana",
          "Haryana",
          "Haryana",
          "Haryana",
          "Haryana",
          "Haryana",
          "Haryana",
          "Haryana",
          "Haryana",
          "Himachal Pradesh",
          "Himachal Pradesh",
          "Himachal Pradesh",
          "Himachal Pradesh",
          "Himachal Pradesh",
          "Himachal Pradesh",
          "Himachal Pradesh",
          "Himachal Pradesh",
          "Himachal Pradesh",
          "Himachal Pradesh",
          "Himachal Pradesh",
          "Himachal Pradesh",
          "Jammu and Kashmir",
          "Jammu and Kashmir",
          "Jammu and Kashmir",
          "Jammu and Kashmir",
          "Jammu and Kashmir",
          "Jammu and Kashmir",
          "Jammu and Kashmir",
          "Jammu and Kashmir",
          "Jammu and Kashmir",
          "Jammu and Kashmir",
          "Jammu and Kashmir",
          "Jammu and Kashmir",
          "Jharkhand",
          "Jharkhand",
          "Jharkhand",
          "Jharkhand",
          "Jharkhand",
          "Jharkhand",
          "Jharkhand",
          "Jharkhand",
          "Jharkhand",
          "Jharkhand",
          "Jharkhand",
          "Jharkhand",
          "Karnataka",
          "Karnataka",
          "Karnataka",
          "Karnataka",
          "Karnataka",
          "Karnataka",
          "Karnataka",
          "Karnataka",
          "Karnataka",
          "Karnataka",
          "Karnataka",
          "Karnataka",
          "Kerala",
          "Kerala",
          "Kerala",
          "Kerala",
          "Kerala",
          "Kerala",
          "Kerala",
          "Kerala",
          "Kerala",
          "Kerala",
          "Kerala",
          "Kerala",
          "Ladakh",
          "Ladakh",
          "Ladakh",
          "Ladakh",
          "Lakshadweep",
          "Lakshadweep",
          "Lakshadweep",
          "Lakshadweep",
          "Lakshadweep",
          "Lakshadweep",
          "Lakshadweep",
          "Lakshadweep",
          "Lakshadweep",
          "Lakshadweep",
          "Lakshadweep",
          "Lakshadweep",
          "Madhya Pradesh",
          "Madhya Pradesh",
          "Madhya Pradesh",
          "Madhya Pradesh",
          "Madhya Pradesh",
          "Madhya Pradesh",
          "Madhya Pradesh",
          "Madhya Pradesh",
          "Madhya Pradesh",
          "Madhya Pradesh",
          "Madhya Pradesh",
          "Madhya Pradesh",
          "Maharashtra",
          "Maharashtra",
          "Maharashtra",
          "Maharashtra",
          "Maharashtra",
          "Maharashtra",
          "Maharashtra",
          "Maharashtra",
          "Maharashtra",
          "Maharashtra",
          "Maharashtra",
          "Maharashtra",
          "Manipur",
          "Manipur",
          "Manipur",
          "Manipur",
          "Manipur",
          "Manipur",
          "Manipur",
          "Manipur",
          "Manipur",
          "Manipur",
          "Manipur",
          "Manipur",
          "Meghalaya",
          "Meghalaya",
          "Meghalaya",
          "Meghalaya",
          "Meghalaya",
          "Meghalaya",
          "Meghalaya",
          "Meghalaya",
          "Mizoram",
          "Mizoram",
          "Mizoram",
          "Mizoram",
          "Mizoram",
          "Mizoram",
          "Mizoram",
          "Mizoram",
          "Mizoram",
          "Mizoram",
          "Mizoram",
          "Mizoram",
          "Nagaland",
          "Nagaland",
          "Nagaland",
          "Nagaland",
          "Nagaland",
          "Nagaland",
          "Nagaland",
          "Nagaland",
          "Nagaland",
          "Nagaland",
          "Nagaland",
          "Nagaland",
          "Odisha",
          "Odisha",
          "Odisha",
          "Odisha",
          "Odisha",
          "Odisha",
          "Odisha",
          "Odisha",
          "Odisha",
          "Odisha",
          "Odisha",
          "Odisha",
          "Puducherry",
          "Puducherry",
          "Puducherry",
          "Puducherry",
          "Puducherry",
          "Puducherry",
          "Puducherry",
          "Puducherry",
          "Puducherry",
          "Puducherry",
          "Puducherry",
          "Puducherry",
          "Punjab",
          "Punjab",
          "Punjab",
          "Punjab",
          "Punjab",
          "Punjab",
          "Punjab",
          "Punjab",
          "Punjab",
          "Punjab",
          "Punjab",
          "Punjab",
          "Rajasthan",
          "Rajasthan",
          "Rajasthan",
          "Rajasthan",
          "Rajasthan",
          "Rajasthan",
          "Rajasthan",
          "Rajasthan",
          "Rajasthan",
          "Rajasthan",
          "Rajasthan",
          "Rajasthan",
          "Sikkim",
          "Sikkim",
          "Sikkim",
          "Sikkim",
          "Sikkim",
          "Sikkim",
          "Sikkim",
          "Sikkim",
          "Sikkim",
          "Sikkim",
          "Sikkim",
          "Sikkim",
          "Tamil Nadu",
          "Tamil Nadu",
          "Tamil Nadu",
          "Tamil Nadu",
          "Tamil Nadu",
          "Tamil Nadu",
          "Tamil Nadu",
          "Tamil Nadu",
          "Tamil Nadu",
          "Tamil Nadu",
          "Tamil Nadu",
          "Tamil Nadu",
          "Telangana",
          "Telangana",
          "Telangana",
          "Telangana",
          "Telangana",
          "Telangana",
          "Telangana",
          "Telangana",
          "Telangana",
          "Telangana",
          "Telangana",
          "Telangana",
          "Tripura",
          "Tripura",
          "Tripura",
          "Tripura",
          "Tripura",
          "Tripura",
          "Tripura",
          "Tripura",
          "Tripura",
          "Tripura",
          "Tripura",
          "Tripura",
          "Uttar Pradesh",
          "Uttar Pradesh",
          "Uttar Pradesh",
          "Uttar Pradesh",
          "Uttar Pradesh",
          "Uttar Pradesh",
          "Uttar Pradesh",
          "Uttar Pradesh",
          "Uttar Pradesh",
          "Uttar Pradesh",
          "Uttar Pradesh",
          "Uttar Pradesh",
          "Uttarakhand",
          "Uttarakhand",
          "Uttarakhand",
          "Uttarakhand",
          "Uttarakhand",
          "Uttarakhand",
          "Uttarakhand",
          "Uttarakhand",
          "Uttarakhand",
          "Uttarakhand",
          "Uttarakhand",
          "Uttarakhand",
          "West Bengal",
          "West Bengal",
          "West Bengal",
          "West Bengal",
          "West Bengal",
          "West Bengal",
          "West Bengal",
          "West Bengal",
          "West Bengal",
          "West Bengal",
          "West Bengal",
          "West Bengal"
         ],
         "legendgroup": "",
         "name": "",
         "showlegend": true,
         "type": "pie",
         "values": [
          40.048,
          0,
          0,
          5.25,
          0,
          0,
          0,
          7.09,
          0,
          0,
          0,
          5.1,
          5245.4,
          0,
          1610,
          56.176,
          9279.944,
          0,
          0,
          8058.744,
          2000,
          0,
          0,
          250,
          0,
          0,
          0,
          107.105,
          0,
          0,
          0,
          29.61,
          0,
          0,
          815,
          0,
          328.205,
          0,
          100,
          5.01,
          24.5,
          0,
          0,
          45.33,
          1041,
          0,
          250,
          25,
          0,
          0,
          0,
          70.7,
          0,
          0,
          0,
          272.77,
          6390,
          0,
          0,
          0,
          0,
          0,
          0,
          0,
          0,
          0,
          0,
          40.55,
          0,
          0,
          0,
          0,
          3080,
          0,
          120,
          11.05,
          13168,
          0,
          0,
          540.8,
          6880,
          0,
          0,
          0,
          0,
          0,
          0,
          0,
          0,
          0,
          0,
          5.46,
          0,
          0,
          0,
          0,
          0,
          0,
          0,
          0,
          0,
          0,
          0,
          19.86,
          0,
          0,
          0,
          0,
          2100.4,
          0,
          0,
          0,
          108,
          0,
          0,
          217.16,
          0,
          0,
          0,
          0.05,
          48,
          0,
          0,
          5.12,
          0,
          0,
          0,
          0,
          7727.82,
          0,
          1990,
          72.35,
          14742,
          0,
          0,
          10270.49,
          1313.59,
          440,
          0,
          243.3,
          2510,
          0,
          0,
          69.3,
          1320,
          0,
          0,
          457,
          1931.59,
          0,
          0,
          5,
          0,
          0,
          777,
          256.61,
          0,
          0,
          1784,
          695.03,
          0,
          0,
          7248.02,
          0,
          175,
          0,
          1110,
          130.48,
          0,
          0,
          0,
          69.3,
          0,
          0,
          2250,
          0,
          420,
          0,
          130,
          4.05,
          1830,
          0,
          0,
          42.7,
          2210,
          0,
          80,
          0,
          5020,
          0,
          3644.2,
          193.885,
          2085.2,
          0,
          0,
          15038.175,
          2400,
          880,
          0,
          0,
          159.96,
          0,
          1856.5,
          172.896,
          174,
          0,
          0,
          204.574,
          359.58,
          0,
          0,
          50,
          0,
          0,
          89,
          0,
          0,
          0,
          0,
          0,
          0,
          0,
          0,
          0.75,
          0,
          0,
          0,
          0,
          5400,
          0,
          715,
          83.96,
          8870,
          0,
          0,
          4611.05,
          6880,
          0,
          1520,
          300,
          10422,
          0,
          2566,
          388.1251,
          12144,
          0,
          481,
          9199.27,
          5607.08,
          1400,
          0,
          123,
          36,
          0,
          0,
          5.45,
          0,
          0,
          0,
          5.16,
          0,
          0,
          105,
          0,
          0,
          0,
          322,
          32.53,
          0,
          0,
          0,
          13.92,
          0,
          0,
          0,
          36.47,
          0,
          0,
          0,
          1.52,
          0,
          0,
          60,
          0,
          0,
          0,
          0,
          30.67,
          0,
          0,
          0,
          1,
          0,
          0,
          75,
          0,
          1740,
          0,
          2142.25,
          26.3,
          3800,
          0,
          0,
          485.3851,
          4260,
          0,
          0,
          10,
          32.5,
          0,
          0,
          0,
          0,
          0,
          0,
          5.51,
          0,
          0,
          0,
          0,
          1760,
          0,
          941,
          127.8,
          3920,
          0,
          0,
          1320.7,
          0,
          0,
          155.3,
          0,
          7773.8,
          0,
          411,
          23.85,
          2400,
          0,
          0,
          9214.93,
          669.33,
          1180,
          0,
          344,
          0,
          0,
          1200,
          52.11,
          0,
          0,
          399,
          0.07,
          0,
          0,
          570,
          0,
          4844.08,
          0,
          2178.2,
          122.7,
          3664.801,
          0,
          0,
          13996.92,
          5740,
          2440,
          0,
          231.9,
          4162.5,
          0,
          2405.6,
          41.22,
          0,
          0,
          0,
          3973.6,
          2600,
          0,
          0,
          10,
          169.5,
          0,
          0,
          16.01,
          0,
          0,
          0,
          4.41,
          962.6,
          0,
          0,
          5,
          5469,
          0,
          501.6,
          25.1,
          6810,
          0,
          0,
          3180.61,
          11623.14,
          440,
          0,
          30,
          0,
          0,
          1252.15,
          67.87,
          450,
          0,
          730,
          592.85,
          0,
          0,
          1774.2,
          0,
          5390,
          0,
          986,
          121.95,
          2037,
          0,
          0,
          410.93,
          6850,
          0,
          355.2,
          0
         ]
        }
       ],
       "layout": {
        "font": {
         "family": "Rockwell"
        },
        "legend": {
         "title": {
          "text": "Indian States"
         },
         "tracegroupgap": 0
        },
        "template": {
         "data": {
          "bar": [
           {
            "error_x": {
             "color": "rgb(51,51,51)"
            },
            "error_y": {
             "color": "rgb(51,51,51)"
            },
            "marker": {
             "line": {
              "color": "rgb(237,237,237)",
              "width": 0.5
             }
            },
            "type": "bar"
           }
          ],
          "barpolar": [
           {
            "marker": {
             "line": {
              "color": "rgb(237,237,237)",
              "width": 0.5
             }
            },
            "type": "barpolar"
           }
          ],
          "carpet": [
           {
            "aaxis": {
             "endlinecolor": "rgb(51,51,51)",
             "gridcolor": "white",
             "linecolor": "white",
             "minorgridcolor": "white",
             "startlinecolor": "rgb(51,51,51)"
            },
            "baxis": {
             "endlinecolor": "rgb(51,51,51)",
             "gridcolor": "white",
             "linecolor": "white",
             "minorgridcolor": "white",
             "startlinecolor": "rgb(51,51,51)"
            },
            "type": "carpet"
           }
          ],
          "choropleth": [
           {
            "colorbar": {
             "outlinewidth": 0,
             "tickcolor": "rgb(237,237,237)",
             "ticklen": 6,
             "ticks": "inside"
            },
            "type": "choropleth"
           }
          ],
          "contour": [
           {
            "colorbar": {
             "outlinewidth": 0,
             "tickcolor": "rgb(237,237,237)",
             "ticklen": 6,
             "ticks": "inside"
            },
            "colorscale": [
             [
              0,
              "rgb(20,44,66)"
             ],
             [
              1,
              "rgb(90,179,244)"
             ]
            ],
            "type": "contour"
           }
          ],
          "contourcarpet": [
           {
            "colorbar": {
             "outlinewidth": 0,
             "tickcolor": "rgb(237,237,237)",
             "ticklen": 6,
             "ticks": "inside"
            },
            "type": "contourcarpet"
           }
          ],
          "heatmap": [
           {
            "colorbar": {
             "outlinewidth": 0,
             "tickcolor": "rgb(237,237,237)",
             "ticklen": 6,
             "ticks": "inside"
            },
            "colorscale": [
             [
              0,
              "rgb(20,44,66)"
             ],
             [
              1,
              "rgb(90,179,244)"
             ]
            ],
            "type": "heatmap"
           }
          ],
          "heatmapgl": [
           {
            "colorbar": {
             "outlinewidth": 0,
             "tickcolor": "rgb(237,237,237)",
             "ticklen": 6,
             "ticks": "inside"
            },
            "colorscale": [
             [
              0,
              "rgb(20,44,66)"
             ],
             [
              1,
              "rgb(90,179,244)"
             ]
            ],
            "type": "heatmapgl"
           }
          ],
          "histogram": [
           {
            "marker": {
             "colorbar": {
              "outlinewidth": 0,
              "tickcolor": "rgb(237,237,237)",
              "ticklen": 6,
              "ticks": "inside"
             }
            },
            "type": "histogram"
           }
          ],
          "histogram2d": [
           {
            "colorbar": {
             "outlinewidth": 0,
             "tickcolor": "rgb(237,237,237)",
             "ticklen": 6,
             "ticks": "inside"
            },
            "colorscale": [
             [
              0,
              "rgb(20,44,66)"
             ],
             [
              1,
              "rgb(90,179,244)"
             ]
            ],
            "type": "histogram2d"
           }
          ],
          "histogram2dcontour": [
           {
            "colorbar": {
             "outlinewidth": 0,
             "tickcolor": "rgb(237,237,237)",
             "ticklen": 6,
             "ticks": "inside"
            },
            "colorscale": [
             [
              0,
              "rgb(20,44,66)"
             ],
             [
              1,
              "rgb(90,179,244)"
             ]
            ],
            "type": "histogram2dcontour"
           }
          ],
          "mesh3d": [
           {
            "colorbar": {
             "outlinewidth": 0,
             "tickcolor": "rgb(237,237,237)",
             "ticklen": 6,
             "ticks": "inside"
            },
            "type": "mesh3d"
           }
          ],
          "parcoords": [
           {
            "line": {
             "colorbar": {
              "outlinewidth": 0,
              "tickcolor": "rgb(237,237,237)",
              "ticklen": 6,
              "ticks": "inside"
             }
            },
            "type": "parcoords"
           }
          ],
          "pie": [
           {
            "automargin": true,
            "type": "pie"
           }
          ],
          "scatter": [
           {
            "marker": {
             "colorbar": {
              "outlinewidth": 0,
              "tickcolor": "rgb(237,237,237)",
              "ticklen": 6,
              "ticks": "inside"
             }
            },
            "type": "scatter"
           }
          ],
          "scatter3d": [
           {
            "line": {
             "colorbar": {
              "outlinewidth": 0,
              "tickcolor": "rgb(237,237,237)",
              "ticklen": 6,
              "ticks": "inside"
             }
            },
            "marker": {
             "colorbar": {
              "outlinewidth": 0,
              "tickcolor": "rgb(237,237,237)",
              "ticklen": 6,
              "ticks": "inside"
             }
            },
            "type": "scatter3d"
           }
          ],
          "scattercarpet": [
           {
            "marker": {
             "colorbar": {
              "outlinewidth": 0,
              "tickcolor": "rgb(237,237,237)",
              "ticklen": 6,
              "ticks": "inside"
             }
            },
            "type": "scattercarpet"
           }
          ],
          "scattergeo": [
           {
            "marker": {
             "colorbar": {
              "outlinewidth": 0,
              "tickcolor": "rgb(237,237,237)",
              "ticklen": 6,
              "ticks": "inside"
             }
            },
            "type": "scattergeo"
           }
          ],
          "scattergl": [
           {
            "marker": {
             "colorbar": {
              "outlinewidth": 0,
              "tickcolor": "rgb(237,237,237)",
              "ticklen": 6,
              "ticks": "inside"
             }
            },
            "type": "scattergl"
           }
          ],
          "scattermapbox": [
           {
            "marker": {
             "colorbar": {
              "outlinewidth": 0,
              "tickcolor": "rgb(237,237,237)",
              "ticklen": 6,
              "ticks": "inside"
             }
            },
            "type": "scattermapbox"
           }
          ],
          "scatterpolar": [
           {
            "marker": {
             "colorbar": {
              "outlinewidth": 0,
              "tickcolor": "rgb(237,237,237)",
              "ticklen": 6,
              "ticks": "inside"
             }
            },
            "type": "scatterpolar"
           }
          ],
          "scatterpolargl": [
           {
            "marker": {
             "colorbar": {
              "outlinewidth": 0,
              "tickcolor": "rgb(237,237,237)",
              "ticklen": 6,
              "ticks": "inside"
             }
            },
            "type": "scatterpolargl"
           }
          ],
          "scatterternary": [
           {
            "marker": {
             "colorbar": {
              "outlinewidth": 0,
              "tickcolor": "rgb(237,237,237)",
              "ticklen": 6,
              "ticks": "inside"
             }
            },
            "type": "scatterternary"
           }
          ],
          "surface": [
           {
            "colorbar": {
             "outlinewidth": 0,
             "tickcolor": "rgb(237,237,237)",
             "ticklen": 6,
             "ticks": "inside"
            },
            "colorscale": [
             [
              0,
              "rgb(20,44,66)"
             ],
             [
              1,
              "rgb(90,179,244)"
             ]
            ],
            "type": "surface"
           }
          ],
          "table": [
           {
            "cells": {
             "fill": {
              "color": "rgb(237,237,237)"
             },
             "line": {
              "color": "white"
             }
            },
            "header": {
             "fill": {
              "color": "rgb(217,217,217)"
             },
             "line": {
              "color": "white"
             }
            },
            "type": "table"
           }
          ]
         },
         "layout": {
          "annotationdefaults": {
           "arrowhead": 0,
           "arrowwidth": 1
          },
          "coloraxis": {
           "colorbar": {
            "outlinewidth": 0,
            "tickcolor": "rgb(237,237,237)",
            "ticklen": 6,
            "ticks": "inside"
           }
          },
          "colorscale": {
           "sequential": [
            [
             0,
             "rgb(20,44,66)"
            ],
            [
             1,
             "rgb(90,179,244)"
            ]
           ],
           "sequentialminus": [
            [
             0,
             "rgb(20,44,66)"
            ],
            [
             1,
             "rgb(90,179,244)"
            ]
           ]
          },
          "colorway": [
           "#F8766D",
           "#A3A500",
           "#00BF7D",
           "#00B0F6",
           "#E76BF3"
          ],
          "font": {
           "color": "rgb(51,51,51)"
          },
          "geo": {
           "bgcolor": "white",
           "lakecolor": "white",
           "landcolor": "rgb(237,237,237)",
           "showlakes": true,
           "showland": true,
           "subunitcolor": "white"
          },
          "hoverlabel": {
           "align": "left"
          },
          "hovermode": "closest",
          "paper_bgcolor": "white",
          "plot_bgcolor": "rgb(237,237,237)",
          "polar": {
           "angularaxis": {
            "gridcolor": "white",
            "linecolor": "white",
            "showgrid": true,
            "tickcolor": "rgb(51,51,51)",
            "ticks": "outside"
           },
           "bgcolor": "rgb(237,237,237)",
           "radialaxis": {
            "gridcolor": "white",
            "linecolor": "white",
            "showgrid": true,
            "tickcolor": "rgb(51,51,51)",
            "ticks": "outside"
           }
          },
          "scene": {
           "xaxis": {
            "backgroundcolor": "rgb(237,237,237)",
            "gridcolor": "white",
            "gridwidth": 2,
            "linecolor": "white",
            "showbackground": true,
            "showgrid": true,
            "tickcolor": "rgb(51,51,51)",
            "ticks": "outside",
            "zerolinecolor": "white"
           },
           "yaxis": {
            "backgroundcolor": "rgb(237,237,237)",
            "gridcolor": "white",
            "gridwidth": 2,
            "linecolor": "white",
            "showbackground": true,
            "showgrid": true,
            "tickcolor": "rgb(51,51,51)",
            "ticks": "outside",
            "zerolinecolor": "white"
           },
           "zaxis": {
            "backgroundcolor": "rgb(237,237,237)",
            "gridcolor": "white",
            "gridwidth": 2,
            "linecolor": "white",
            "showbackground": true,
            "showgrid": true,
            "tickcolor": "rgb(51,51,51)",
            "ticks": "outside",
            "zerolinecolor": "white"
           }
          },
          "shapedefaults": {
           "fillcolor": "black",
           "line": {
            "width": 0
           },
           "opacity": 0.3
          },
          "ternary": {
           "aaxis": {
            "gridcolor": "white",
            "linecolor": "white",
            "showgrid": true,
            "tickcolor": "rgb(51,51,51)",
            "ticks": "outside"
           },
           "baxis": {
            "gridcolor": "white",
            "linecolor": "white",
            "showgrid": true,
            "tickcolor": "rgb(51,51,51)",
            "ticks": "outside"
           },
           "bgcolor": "rgb(237,237,237)",
           "caxis": {
            "gridcolor": "white",
            "linecolor": "white",
            "showgrid": true,
            "tickcolor": "rgb(51,51,51)",
            "ticks": "outside"
           }
          },
          "xaxis": {
           "automargin": true,
           "gridcolor": "white",
           "linecolor": "white",
           "showgrid": true,
           "tickcolor": "rgb(51,51,51)",
           "ticks": "outside",
           "title": {
            "standoff": 15
           },
           "zerolinecolor": "white"
          },
          "yaxis": {
           "automargin": true,
           "gridcolor": "white",
           "linecolor": "white",
           "showgrid": true,
           "tickcolor": "rgb(51,51,51)",
           "ticks": "outside",
           "title": {
            "standoff": 15
           },
           "zerolinecolor": "white"
          }
         }
        },
        "title": {
         "text": "<br>State wise</br>Installed</br>Capacity </br>in MW"
        },
        "uniformtext": {
         "minsize": 4,
         "mode": "hide"
        }
       }
      },
      "text/html": [
       "<div>\n",
       "        \n",
       "        \n",
       "            <div id=\"5f9c75cd-5560-4086-8ed9-072523ba1b9e\" class=\"plotly-graph-div\" style=\"height:525px; width:100%;\"></div>\n",
       "            <script type=\"text/javascript\">\n",
       "                require([\"plotly\"], function(Plotly) {\n",
       "                    window.PLOTLYENV=window.PLOTLYENV || {};\n",
       "                    \n",
       "                if (document.getElementById(\"5f9c75cd-5560-4086-8ed9-072523ba1b9e\")) {\n",
       "                    Plotly.newPlot(\n",
       "                        '5f9c75cd-5560-4086-8ed9-072523ba1b9e',\n",
       "                        [{\"domain\": {\"x\": [0.0, 1.0], \"y\": [0.0, 1.0]}, \"hole\": 0.4, \"hovertemplate\": \"State=%{label}<br>Installed Capacity=%{value}<extra></extra>\", \"labels\": [\"Andaman & Nicobar Islands\", \"Andaman & Nicobar Islands\", \"Andaman & Nicobar Islands\", \"Andaman & Nicobar Islands\", \"Andaman & Nicobar Islands\", \"Andaman & Nicobar Islands\", \"Andaman & Nicobar Islands\", \"Andaman & Nicobar Islands\", \"Andaman & Nicobar Islands\", \"Andaman & Nicobar Islands\", \"Andaman & Nicobar Islands\", \"Andaman & Nicobar Islands\", \"Andhra Pradesh\", \"Andhra Pradesh\", \"Andhra Pradesh\", \"Andhra Pradesh\", \"Andhra Pradesh\", \"Andhra Pradesh\", \"Andhra Pradesh\", \"Andhra Pradesh\", \"Andhra Pradesh\", \"Andhra Pradesh\", \"Andhra Pradesh\", \"Andhra Pradesh\", \"Arunachal Pradesh\", \"Arunachal Pradesh\", \"Arunachal Pradesh\", \"Arunachal Pradesh\", \"Arunachal Pradesh\", \"Arunachal Pradesh\", \"Arunachal Pradesh\", \"Arunachal Pradesh\", \"Arunachal Pradesh\", \"Arunachal Pradesh\", \"Arunachal Pradesh\", \"Arunachal Pradesh\", \"Assam\", \"Assam\", \"Assam\", \"Assam\", \"Assam\", \"Assam\", \"Assam\", \"Assam\", \"Assam\", \"Assam\", \"Assam\", \"Assam\", \"Bihar\", \"Bihar\", \"Bihar\", \"Bihar\", \"Bihar\", \"Bihar\", \"Bihar\", \"Bihar\", \"Bihar\", \"Bihar\", \"Bihar\", \"Bihar\", \"Chandigarh\", \"Chandigarh\", \"Chandigarh\", \"Chandigarh\", \"Chandigarh\", \"Chandigarh\", \"Chandigarh\", \"Chandigarh\", \"Chandigarh\", \"Chandigarh\", \"Chandigarh\", \"Chandigarh\", \"Chhatisgarh\", \"Chhatisgarh\", \"Chhatisgarh\", \"Chhatisgarh\", \"Chhatisgarh\", \"Chhatisgarh\", \"Chhatisgarh\", \"Chhatisgarh\", \"Chhatisgarh\", \"Chhatisgarh\", \"Chhatisgarh\", \"Chhatisgarh\", \"Dadra & Nagar Haveli\", \"Dadra & Nagar Haveli\", \"Dadra & Nagar Haveli\", \"Dadra & Nagar Haveli\", \"Dadra & Nagar Haveli\", \"Dadra & Nagar Haveli\", \"Dadra & Nagar Haveli\", \"Dadra & Nagar Haveli\", \"Dadra & Nagar Haveli\", \"Dadra & Nagar Haveli\", \"Dadra & Nagar Haveli\", \"Dadra & Nagar Haveli\", \"Daman & Diu\", \"Daman & Diu\", \"Daman & Diu\", \"Daman & Diu\", \"Daman & Diu\", \"Daman & Diu\", \"Daman & Diu\", \"Daman & Diu\", \"Daman & Diu\", \"Daman & Diu\", \"Daman & Diu\", \"Daman & Diu\", \"Delhi\", \"Delhi\", \"Delhi\", \"Delhi\", \"Delhi\", \"Delhi\", \"Delhi\", \"Delhi\", \"Goa\", \"Goa\", \"Goa\", \"Goa\", \"Goa\", \"Goa\", \"Goa\", \"Goa\", \"Goa\", \"Goa\", \"Goa\", \"Goa\", \"Gujarat\", \"Gujarat\", \"Gujarat\", \"Gujarat\", \"Gujarat\", \"Gujarat\", \"Gujarat\", \"Gujarat\", \"Gujarat\", \"Gujarat\", \"Gujarat\", \"Gujarat\", \"Haryana\", \"Haryana\", \"Haryana\", \"Haryana\", \"Haryana\", \"Haryana\", \"Haryana\", \"Haryana\", \"Haryana\", \"Haryana\", \"Haryana\", \"Haryana\", \"Himachal Pradesh\", \"Himachal Pradesh\", \"Himachal Pradesh\", \"Himachal Pradesh\", \"Himachal Pradesh\", \"Himachal Pradesh\", \"Himachal Pradesh\", \"Himachal Pradesh\", \"Himachal Pradesh\", \"Himachal Pradesh\", \"Himachal Pradesh\", \"Himachal Pradesh\", \"Jammu and Kashmir\", \"Jammu and Kashmir\", \"Jammu and Kashmir\", \"Jammu and Kashmir\", \"Jammu and Kashmir\", \"Jammu and Kashmir\", \"Jammu and Kashmir\", \"Jammu and Kashmir\", \"Jammu and Kashmir\", \"Jammu and Kashmir\", \"Jammu and Kashmir\", \"Jammu and Kashmir\", \"Jharkhand\", \"Jharkhand\", \"Jharkhand\", \"Jharkhand\", \"Jharkhand\", \"Jharkhand\", \"Jharkhand\", \"Jharkhand\", \"Jharkhand\", \"Jharkhand\", \"Jharkhand\", \"Jharkhand\", \"Karnataka\", \"Karnataka\", \"Karnataka\", \"Karnataka\", \"Karnataka\", \"Karnataka\", \"Karnataka\", \"Karnataka\", \"Karnataka\", \"Karnataka\", \"Karnataka\", \"Karnataka\", \"Kerala\", \"Kerala\", \"Kerala\", \"Kerala\", \"Kerala\", \"Kerala\", \"Kerala\", \"Kerala\", \"Kerala\", \"Kerala\", \"Kerala\", \"Kerala\", \"Ladakh\", \"Ladakh\", \"Ladakh\", \"Ladakh\", \"Lakshadweep\", \"Lakshadweep\", \"Lakshadweep\", \"Lakshadweep\", \"Lakshadweep\", \"Lakshadweep\", \"Lakshadweep\", \"Lakshadweep\", \"Lakshadweep\", \"Lakshadweep\", \"Lakshadweep\", \"Lakshadweep\", \"Madhya Pradesh\", \"Madhya Pradesh\", \"Madhya Pradesh\", \"Madhya Pradesh\", \"Madhya Pradesh\", \"Madhya Pradesh\", \"Madhya Pradesh\", \"Madhya Pradesh\", \"Madhya Pradesh\", \"Madhya Pradesh\", \"Madhya Pradesh\", \"Madhya Pradesh\", \"Maharashtra\", \"Maharashtra\", \"Maharashtra\", \"Maharashtra\", \"Maharashtra\", \"Maharashtra\", \"Maharashtra\", \"Maharashtra\", \"Maharashtra\", \"Maharashtra\", \"Maharashtra\", \"Maharashtra\", \"Manipur\", \"Manipur\", \"Manipur\", \"Manipur\", \"Manipur\", \"Manipur\", \"Manipur\", \"Manipur\", \"Manipur\", \"Manipur\", \"Manipur\", \"Manipur\", \"Meghalaya\", \"Meghalaya\", \"Meghalaya\", \"Meghalaya\", \"Meghalaya\", \"Meghalaya\", \"Meghalaya\", \"Meghalaya\", \"Mizoram\", \"Mizoram\", \"Mizoram\", \"Mizoram\", \"Mizoram\", \"Mizoram\", \"Mizoram\", \"Mizoram\", \"Mizoram\", \"Mizoram\", \"Mizoram\", \"Mizoram\", \"Nagaland\", \"Nagaland\", \"Nagaland\", \"Nagaland\", \"Nagaland\", \"Nagaland\", \"Nagaland\", \"Nagaland\", \"Nagaland\", \"Nagaland\", \"Nagaland\", \"Nagaland\", \"Odisha\", \"Odisha\", \"Odisha\", \"Odisha\", \"Odisha\", \"Odisha\", \"Odisha\", \"Odisha\", \"Odisha\", \"Odisha\", \"Odisha\", \"Odisha\", \"Puducherry\", \"Puducherry\", \"Puducherry\", \"Puducherry\", \"Puducherry\", \"Puducherry\", \"Puducherry\", \"Puducherry\", \"Puducherry\", \"Puducherry\", \"Puducherry\", \"Puducherry\", \"Punjab\", \"Punjab\", \"Punjab\", \"Punjab\", \"Punjab\", \"Punjab\", \"Punjab\", \"Punjab\", \"Punjab\", \"Punjab\", \"Punjab\", \"Punjab\", \"Rajasthan\", \"Rajasthan\", \"Rajasthan\", \"Rajasthan\", \"Rajasthan\", \"Rajasthan\", \"Rajasthan\", \"Rajasthan\", \"Rajasthan\", \"Rajasthan\", \"Rajasthan\", \"Rajasthan\", \"Sikkim\", \"Sikkim\", \"Sikkim\", \"Sikkim\", \"Sikkim\", \"Sikkim\", \"Sikkim\", \"Sikkim\", \"Sikkim\", \"Sikkim\", \"Sikkim\", \"Sikkim\", \"Tamil Nadu\", \"Tamil Nadu\", \"Tamil Nadu\", \"Tamil Nadu\", \"Tamil Nadu\", \"Tamil Nadu\", \"Tamil Nadu\", \"Tamil Nadu\", \"Tamil Nadu\", \"Tamil Nadu\", \"Tamil Nadu\", \"Tamil Nadu\", \"Telangana\", \"Telangana\", \"Telangana\", \"Telangana\", \"Telangana\", \"Telangana\", \"Telangana\", \"Telangana\", \"Telangana\", \"Telangana\", \"Telangana\", \"Telangana\", \"Tripura\", \"Tripura\", \"Tripura\", \"Tripura\", \"Tripura\", \"Tripura\", \"Tripura\", \"Tripura\", \"Tripura\", \"Tripura\", \"Tripura\", \"Tripura\", \"Uttar Pradesh\", \"Uttar Pradesh\", \"Uttar Pradesh\", \"Uttar Pradesh\", \"Uttar Pradesh\", \"Uttar Pradesh\", \"Uttar Pradesh\", \"Uttar Pradesh\", \"Uttar Pradesh\", \"Uttar Pradesh\", \"Uttar Pradesh\", \"Uttar Pradesh\", \"Uttarakhand\", \"Uttarakhand\", \"Uttarakhand\", \"Uttarakhand\", \"Uttarakhand\", \"Uttarakhand\", \"Uttarakhand\", \"Uttarakhand\", \"Uttarakhand\", \"Uttarakhand\", \"Uttarakhand\", \"Uttarakhand\", \"West Bengal\", \"West Bengal\", \"West Bengal\", \"West Bengal\", \"West Bengal\", \"West Bengal\", \"West Bengal\", \"West Bengal\", \"West Bengal\", \"West Bengal\", \"West Bengal\", \"West Bengal\"], \"legendgroup\": \"\", \"name\": \"\", \"showlegend\": true, \"type\": \"pie\", \"values\": [40.048, 0.0, 0.0, 5.25, 0.0, 0.0, 0.0, 7.09, 0.0, 0.0, 0.0, 5.1, 5245.4, 0.0, 1610.0, 56.176, 9279.944, 0.0, 0.0, 8058.744, 2000.0, 0.0, 0.0, 250.0, 0.0, 0.0, 0.0, 107.105, 0.0, 0.0, 0.0, 29.61, 0.0, 0.0, 815.0, 0.0, 328.205, 0.0, 100.0, 5.01, 24.5, 0.0, 0.0, 45.33, 1041.0, 0.0, 250.0, 25.0, 0.0, 0.0, 0.0, 70.7, 0.0, 0.0, 0.0, 272.77, 6390.0, 0.0, 0.0, 0.0, 0.0, 0.0, 0.0, 0.0, 0.0, 0.0, 0.0, 40.55, 0.0, 0.0, 0.0, 0.0, 3080.0, 0.0, 120.0, 11.05, 13168.0, 0.0, 0.0, 540.8, 6880.0, 0.0, 0.0, 0.0, 0.0, 0.0, 0.0, 0.0, 0.0, 0.0, 0.0, 5.46, 0.0, 0.0, 0.0, 0.0, 0.0, 0.0, 0.0, 0.0, 0.0, 0.0, 0.0, 19.86, 0.0, 0.0, 0.0, 0.0, 2100.4, 0.0, 0.0, 0.0, 108.0, 0.0, 0.0, 217.16, 0.0, 0.0, 0.0, 0.05, 48.0, 0.0, 0.0, 5.12, 0.0, 0.0, 0.0, 0.0, 7727.82, 0.0, 1990.0, 72.35, 14742.0, 0.0, 0.0, 10270.49, 1313.59, 440.0, 0.0, 243.3, 2510.0, 0.0, 0.0, 69.3, 1320.0, 0.0, 0.0, 457.0, 1931.59, 0.0, 0.0, 5.0, 0.0, 0.0, 777.0, 256.61, 0.0, 0.0, 1784.0, 695.03, 0.0, 0.0, 7248.02, 0.0, 175.0, 0.0, 1110.0, 130.48, 0.0, 0.0, 0.0, 69.3, 0.0, 0.0, 2250.0, 0.0, 420.0, 0.0, 130.0, 4.05, 1830.0, 0.0, 0.0, 42.7, 2210.0, 0.0, 80.0, 0.0, 5020.0, 0.0, 3644.2, 193.885, 2085.2, 0.0, 0.0, 15038.175, 2400.0, 880.0, 0.0, 0.0, 159.96, 0.0, 1856.5, 172.896, 174.0, 0.0, 0.0, 204.574, 359.58, 0.0, 0.0, 50.0, 0.0, 0.0, 89.0, 0.0, 0.0, 0.0, 0.0, 0.0, 0.0, 0.0, 0.0, 0.75, 0.0, 0.0, 0.0, 0.0, 5400.0, 0.0, 715.0, 83.96, 8870.0, 0.0, 0.0, 4611.05, 6880.0, 0.0, 1520.0, 300.0, 10422.0, 0.0, 2566.0, 388.1251, 12144.0, 0.0, 481.0, 9199.27, 5607.08, 1400.0, 0.0, 123.0, 36.0, 0.0, 0.0, 5.45, 0.0, 0.0, 0.0, 5.16, 0.0, 0.0, 105.0, 0.0, 0.0, 0.0, 322.0, 32.53, 0.0, 0.0, 0.0, 13.92, 0.0, 0.0, 0.0, 36.47, 0.0, 0.0, 0.0, 1.52, 0.0, 0.0, 60.0, 0.0, 0.0, 0.0, 0.0, 30.67, 0.0, 0.0, 0.0, 1.0, 0.0, 0.0, 75.0, 0.0, 1740.0, 0.0, 2142.25, 26.3, 3800.0, 0.0, 0.0, 485.3851, 4260.0, 0.0, 0.0, 10.0, 32.5, 0.0, 0.0, 0.0, 0.0, 0.0, 0.0, 5.51, 0.0, 0.0, 0.0, 0.0, 1760.0, 0.0, 941.0, 127.8, 3920.0, 0.0, 0.0, 1320.7, 0.0, 0.0, 155.3, 0.0, 7773.8, 0.0, 411.0, 23.85, 2400.0, 0.0, 0.0, 9214.93, 669.33, 1180.0, 0.0, 344.0, 0.0, 0.0, 1200.0, 52.11, 0.0, 0.0, 399.0, 0.07, 0.0, 0.0, 570.0, 0.0, 4844.08, 0.0, 2178.2, 122.7, 3664.801, 0.0, 0.0, 13996.92, 5740.0, 2440.0, 0.0, 231.9, 4162.5, 0.0, 2405.6, 41.22, 0.0, 0.0, 0.0, 3973.6, 2600.0, 0.0, 0.0, 10.0, 169.5, 0.0, 0.0, 16.01, 0.0, 0.0, 0.0, 4.41, 962.6, 0.0, 0.0, 5.0, 5469.0, 0.0, 501.6, 25.1, 6810.0, 0.0, 0.0, 3180.61, 11623.14, 440.0, 0.0, 30.0, 0.0, 0.0, 1252.15, 67.87, 450.0, 0.0, 730.0, 592.85, 0.0, 0.0, 1774.2, 0.0, 5390.0, 0.0, 986.0, 121.95, 2037.0, 0.0, 0.0, 410.93, 6850.0, 0.0, 355.2, 0.0]}],\n",
       "                        {\"font\": {\"family\": \"Rockwell\"}, \"legend\": {\"title\": {\"text\": \"Indian States\"}, \"tracegroupgap\": 0}, \"template\": {\"data\": {\"bar\": [{\"error_x\": {\"color\": \"rgb(51,51,51)\"}, \"error_y\": {\"color\": \"rgb(51,51,51)\"}, \"marker\": {\"line\": {\"color\": \"rgb(237,237,237)\", \"width\": 0.5}}, \"type\": \"bar\"}], \"barpolar\": [{\"marker\": {\"line\": {\"color\": \"rgb(237,237,237)\", \"width\": 0.5}}, \"type\": \"barpolar\"}], \"carpet\": [{\"aaxis\": {\"endlinecolor\": \"rgb(51,51,51)\", \"gridcolor\": \"white\", \"linecolor\": \"white\", \"minorgridcolor\": \"white\", \"startlinecolor\": \"rgb(51,51,51)\"}, \"baxis\": {\"endlinecolor\": \"rgb(51,51,51)\", \"gridcolor\": \"white\", \"linecolor\": \"white\", \"minorgridcolor\": \"white\", \"startlinecolor\": \"rgb(51,51,51)\"}, \"type\": \"carpet\"}], \"choropleth\": [{\"colorbar\": {\"outlinewidth\": 0, \"tickcolor\": \"rgb(237,237,237)\", \"ticklen\": 6, \"ticks\": \"inside\"}, \"type\": \"choropleth\"}], \"contour\": [{\"colorbar\": {\"outlinewidth\": 0, \"tickcolor\": \"rgb(237,237,237)\", \"ticklen\": 6, \"ticks\": \"inside\"}, \"colorscale\": [[0, \"rgb(20,44,66)\"], [1, \"rgb(90,179,244)\"]], \"type\": \"contour\"}], \"contourcarpet\": [{\"colorbar\": {\"outlinewidth\": 0, \"tickcolor\": \"rgb(237,237,237)\", \"ticklen\": 6, \"ticks\": \"inside\"}, \"type\": \"contourcarpet\"}], \"heatmap\": [{\"colorbar\": {\"outlinewidth\": 0, \"tickcolor\": \"rgb(237,237,237)\", \"ticklen\": 6, \"ticks\": \"inside\"}, \"colorscale\": [[0, \"rgb(20,44,66)\"], [1, \"rgb(90,179,244)\"]], \"type\": \"heatmap\"}], \"heatmapgl\": [{\"colorbar\": {\"outlinewidth\": 0, \"tickcolor\": \"rgb(237,237,237)\", \"ticklen\": 6, \"ticks\": \"inside\"}, \"colorscale\": [[0, \"rgb(20,44,66)\"], [1, \"rgb(90,179,244)\"]], \"type\": \"heatmapgl\"}], \"histogram\": [{\"marker\": {\"colorbar\": {\"outlinewidth\": 0, \"tickcolor\": \"rgb(237,237,237)\", \"ticklen\": 6, \"ticks\": \"inside\"}}, \"type\": \"histogram\"}], \"histogram2d\": [{\"colorbar\": {\"outlinewidth\": 0, \"tickcolor\": \"rgb(237,237,237)\", \"ticklen\": 6, \"ticks\": \"inside\"}, \"colorscale\": [[0, \"rgb(20,44,66)\"], [1, \"rgb(90,179,244)\"]], \"type\": \"histogram2d\"}], \"histogram2dcontour\": [{\"colorbar\": {\"outlinewidth\": 0, \"tickcolor\": \"rgb(237,237,237)\", \"ticklen\": 6, \"ticks\": \"inside\"}, \"colorscale\": [[0, \"rgb(20,44,66)\"], [1, \"rgb(90,179,244)\"]], \"type\": \"histogram2dcontour\"}], \"mesh3d\": [{\"colorbar\": {\"outlinewidth\": 0, \"tickcolor\": \"rgb(237,237,237)\", \"ticklen\": 6, \"ticks\": \"inside\"}, \"type\": \"mesh3d\"}], \"parcoords\": [{\"line\": {\"colorbar\": {\"outlinewidth\": 0, \"tickcolor\": \"rgb(237,237,237)\", \"ticklen\": 6, \"ticks\": \"inside\"}}, \"type\": \"parcoords\"}], \"pie\": [{\"automargin\": true, \"type\": \"pie\"}], \"scatter\": [{\"marker\": {\"colorbar\": {\"outlinewidth\": 0, \"tickcolor\": \"rgb(237,237,237)\", \"ticklen\": 6, \"ticks\": \"inside\"}}, \"type\": \"scatter\"}], \"scatter3d\": [{\"line\": {\"colorbar\": {\"outlinewidth\": 0, \"tickcolor\": \"rgb(237,237,237)\", \"ticklen\": 6, \"ticks\": \"inside\"}}, \"marker\": {\"colorbar\": {\"outlinewidth\": 0, \"tickcolor\": \"rgb(237,237,237)\", \"ticklen\": 6, \"ticks\": \"inside\"}}, \"type\": \"scatter3d\"}], \"scattercarpet\": [{\"marker\": {\"colorbar\": {\"outlinewidth\": 0, \"tickcolor\": \"rgb(237,237,237)\", \"ticklen\": 6, \"ticks\": \"inside\"}}, \"type\": \"scattercarpet\"}], \"scattergeo\": [{\"marker\": {\"colorbar\": {\"outlinewidth\": 0, \"tickcolor\": \"rgb(237,237,237)\", \"ticklen\": 6, \"ticks\": \"inside\"}}, \"type\": \"scattergeo\"}], \"scattergl\": [{\"marker\": {\"colorbar\": {\"outlinewidth\": 0, \"tickcolor\": \"rgb(237,237,237)\", \"ticklen\": 6, \"ticks\": \"inside\"}}, \"type\": \"scattergl\"}], \"scattermapbox\": [{\"marker\": {\"colorbar\": {\"outlinewidth\": 0, \"tickcolor\": \"rgb(237,237,237)\", \"ticklen\": 6, \"ticks\": \"inside\"}}, \"type\": \"scattermapbox\"}], \"scatterpolar\": [{\"marker\": {\"colorbar\": {\"outlinewidth\": 0, \"tickcolor\": \"rgb(237,237,237)\", \"ticklen\": 6, \"ticks\": \"inside\"}}, \"type\": \"scatterpolar\"}], \"scatterpolargl\": [{\"marker\": {\"colorbar\": {\"outlinewidth\": 0, \"tickcolor\": \"rgb(237,237,237)\", \"ticklen\": 6, \"ticks\": \"inside\"}}, \"type\": \"scatterpolargl\"}], \"scatterternary\": [{\"marker\": {\"colorbar\": {\"outlinewidth\": 0, \"tickcolor\": \"rgb(237,237,237)\", \"ticklen\": 6, \"ticks\": \"inside\"}}, \"type\": \"scatterternary\"}], \"surface\": [{\"colorbar\": {\"outlinewidth\": 0, \"tickcolor\": \"rgb(237,237,237)\", \"ticklen\": 6, \"ticks\": \"inside\"}, \"colorscale\": [[0, \"rgb(20,44,66)\"], [1, \"rgb(90,179,244)\"]], \"type\": \"surface\"}], \"table\": [{\"cells\": {\"fill\": {\"color\": \"rgb(237,237,237)\"}, \"line\": {\"color\": \"white\"}}, \"header\": {\"fill\": {\"color\": \"rgb(217,217,217)\"}, \"line\": {\"color\": \"white\"}}, \"type\": \"table\"}]}, \"layout\": {\"annotationdefaults\": {\"arrowhead\": 0, \"arrowwidth\": 1}, \"coloraxis\": {\"colorbar\": {\"outlinewidth\": 0, \"tickcolor\": \"rgb(237,237,237)\", \"ticklen\": 6, \"ticks\": \"inside\"}}, \"colorscale\": {\"sequential\": [[0, \"rgb(20,44,66)\"], [1, \"rgb(90,179,244)\"]], \"sequentialminus\": [[0, \"rgb(20,44,66)\"], [1, \"rgb(90,179,244)\"]]}, \"colorway\": [\"#F8766D\", \"#A3A500\", \"#00BF7D\", \"#00B0F6\", \"#E76BF3\"], \"font\": {\"color\": \"rgb(51,51,51)\"}, \"geo\": {\"bgcolor\": \"white\", \"lakecolor\": \"white\", \"landcolor\": \"rgb(237,237,237)\", \"showlakes\": true, \"showland\": true, \"subunitcolor\": \"white\"}, \"hoverlabel\": {\"align\": \"left\"}, \"hovermode\": \"closest\", \"paper_bgcolor\": \"white\", \"plot_bgcolor\": \"rgb(237,237,237)\", \"polar\": {\"angularaxis\": {\"gridcolor\": \"white\", \"linecolor\": \"white\", \"showgrid\": true, \"tickcolor\": \"rgb(51,51,51)\", \"ticks\": \"outside\"}, \"bgcolor\": \"rgb(237,237,237)\", \"radialaxis\": {\"gridcolor\": \"white\", \"linecolor\": \"white\", \"showgrid\": true, \"tickcolor\": \"rgb(51,51,51)\", \"ticks\": \"outside\"}}, \"scene\": {\"xaxis\": {\"backgroundcolor\": \"rgb(237,237,237)\", \"gridcolor\": \"white\", \"gridwidth\": 2, \"linecolor\": \"white\", \"showbackground\": true, \"showgrid\": true, \"tickcolor\": \"rgb(51,51,51)\", \"ticks\": \"outside\", \"zerolinecolor\": \"white\"}, \"yaxis\": {\"backgroundcolor\": \"rgb(237,237,237)\", \"gridcolor\": \"white\", \"gridwidth\": 2, \"linecolor\": \"white\", \"showbackground\": true, \"showgrid\": true, \"tickcolor\": \"rgb(51,51,51)\", \"ticks\": \"outside\", \"zerolinecolor\": \"white\"}, \"zaxis\": {\"backgroundcolor\": \"rgb(237,237,237)\", \"gridcolor\": \"white\", \"gridwidth\": 2, \"linecolor\": \"white\", \"showbackground\": true, \"showgrid\": true, \"tickcolor\": \"rgb(51,51,51)\", \"ticks\": \"outside\", \"zerolinecolor\": \"white\"}}, \"shapedefaults\": {\"fillcolor\": \"black\", \"line\": {\"width\": 0}, \"opacity\": 0.3}, \"ternary\": {\"aaxis\": {\"gridcolor\": \"white\", \"linecolor\": \"white\", \"showgrid\": true, \"tickcolor\": \"rgb(51,51,51)\", \"ticks\": \"outside\"}, \"baxis\": {\"gridcolor\": \"white\", \"linecolor\": \"white\", \"showgrid\": true, \"tickcolor\": \"rgb(51,51,51)\", \"ticks\": \"outside\"}, \"bgcolor\": \"rgb(237,237,237)\", \"caxis\": {\"gridcolor\": \"white\", \"linecolor\": \"white\", \"showgrid\": true, \"tickcolor\": \"rgb(51,51,51)\", \"ticks\": \"outside\"}}, \"xaxis\": {\"automargin\": true, \"gridcolor\": \"white\", \"linecolor\": \"white\", \"showgrid\": true, \"tickcolor\": \"rgb(51,51,51)\", \"ticks\": \"outside\", \"title\": {\"standoff\": 15}, \"zerolinecolor\": \"white\"}, \"yaxis\": {\"automargin\": true, \"gridcolor\": \"white\", \"linecolor\": \"white\", \"showgrid\": true, \"tickcolor\": \"rgb(51,51,51)\", \"ticks\": \"outside\", \"title\": {\"standoff\": 15}, \"zerolinecolor\": \"white\"}}}, \"title\": {\"text\": \"<br>State wise</br>Installed</br>Capacity </br>in MW\"}, \"uniformtext\": {\"minsize\": 4, \"mode\": \"hide\"}},\n",
       "                        {\"responsive\": true}\n",
       "                    ).then(function(){\n",
       "                            \n",
       "var gd = document.getElementById('5f9c75cd-5560-4086-8ed9-072523ba1b9e');\n",
       "var x = new MutationObserver(function (mutations, observer) {{\n",
       "        var display = window.getComputedStyle(gd).display;\n",
       "        if (!display || display === 'none') {{\n",
       "            console.log([gd, 'removed!']);\n",
       "            Plotly.purge(gd);\n",
       "            observer.disconnect();\n",
       "        }}\n",
       "}});\n",
       "\n",
       "// Listen for the removal of the full notebook cells\n",
       "var notebookContainer = gd.closest('#notebook-container');\n",
       "if (notebookContainer) {{\n",
       "    x.observe(notebookContainer, {childList: true});\n",
       "}}\n",
       "\n",
       "// Listen for the clearing of the current output cell\n",
       "var outputEl = gd.closest('.output');\n",
       "if (outputEl) {{\n",
       "    x.observe(outputEl, {childList: true});\n",
       "}}\n",
       "\n",
       "                        })\n",
       "                };\n",
       "                });\n",
       "            </script>\n",
       "        </div>"
      ]
     },
     "metadata": {},
     "output_type": "display_data"
    }
   ],
   "source": [
    "fig1=px.pie(Data1,names=\"State\",values=\"Installed Capacity\",title='<br>''State wise''</br>''Installed' '</br>''Capacity ''</br>''in MW',\n",
    "          hole=0.4,template=\"ggplot2\")\n",
    "fig1.update_layout(uniformtext_minsize=4, uniformtext_mode='hide',font_family=\"Rockwell\",legend=dict(title=\"Indian States\"))\n",
    "fig1.show()"
   ]
  },
  {
   "cell_type": "code",
   "execution_count": 38,
   "metadata": {},
   "outputs": [
    {
     "data": {
      "text/plain": [
       "'https://plotly.com/~bmodi700/11/'"
      ]
     },
     "execution_count": 38,
     "metadata": {},
     "output_type": "execute_result"
    }
   ],
   "source": [
    "py.plot(fig1, filename = 'State wise Installed Power Capacity ', auto_open=True)"
   ]
  },
  {
   "cell_type": "code",
   "execution_count": 11,
   "metadata": {},
   "outputs": [
    {
     "data": {
      "application/vnd.plotly.v1+json": {
       "config": {
        "plotlyServerURL": "https://plot.ly"
       },
       "data": [
        {
         "domain": {
          "x": [
           0,
           1
          ],
          "y": [
           0,
           1
          ]
         },
         "hovertemplate": "Sector=%{label}<br>Installed Capacity=%{value}<extra></extra>",
         "labels": [
          "STATE SECTOR",
          "STATE SECTOR",
          "STATE SECTOR",
          "STATE SECTOR",
          "PVT SECTOR",
          "PVT SECTOR",
          "PVT SECTOR",
          "PVT SECTOR",
          "CENTRAL SECTOR",
          "CENTRAL SECTOR",
          "CENTRAL SECTOR",
          "CENTRAL SECTOR",
          "STATE SECTOR",
          "STATE SECTOR",
          "STATE SECTOR",
          "STATE SECTOR",
          "PVT SECTOR",
          "PVT SECTOR",
          "PVT SECTOR",
          "PVT SECTOR",
          "CENTRAL SECTOR",
          "CENTRAL SECTOR",
          "CENTRAL SECTOR",
          "CENTRAL SECTOR",
          "STATE SECTOR",
          "STATE SECTOR",
          "STATE SECTOR",
          "STATE SECTOR",
          "PVT SECTOR",
          "PVT SECTOR",
          "PVT SECTOR",
          "PVT SECTOR",
          "CENTRAL SECTOR",
          "CENTRAL SECTOR",
          "CENTRAL SECTOR",
          "CENTRAL SECTOR",
          "STATE SECTOR",
          "STATE SECTOR",
          "STATE SECTOR",
          "STATE SECTOR",
          "PVT SECTOR",
          "PVT SECTOR",
          "PVT SECTOR",
          "PVT SECTOR",
          "CENTRAL SECTOR",
          "CENTRAL SECTOR",
          "CENTRAL SECTOR",
          "CENTRAL SECTOR",
          "STATE SECTOR",
          "STATE SECTOR",
          "STATE SECTOR",
          "STATE SECTOR",
          "PVT SECTOR",
          "PVT SECTOR",
          "PVT SECTOR",
          "PVT SECTOR",
          "CENTRAL SECTOR",
          "CENTRAL SECTOR",
          "CENTRAL SECTOR",
          "CENTRAL SECTOR",
          "STATE SECTOR",
          "STATE SECTOR",
          "STATE SECTOR",
          "STATE SECTOR",
          "PVT SECTOR",
          "PVT SECTOR",
          "PVT SECTOR",
          "PVT SECTOR",
          "CENTRAL SECTOR",
          "CENTRAL SECTOR",
          "CENTRAL SECTOR",
          "CENTRAL SECTOR",
          "STATE SECTOR",
          "STATE SECTOR",
          "STATE SECTOR",
          "STATE SECTOR",
          "PVT SECTOR",
          "PVT SECTOR",
          "PVT SECTOR",
          "PVT SECTOR",
          "CENTRAL SECTOR",
          "CENTRAL SECTOR",
          "CENTRAL SECTOR",
          "CENTRAL SECTOR",
          "STATE SECTOR",
          "STATE SECTOR",
          "STATE SECTOR",
          "STATE SECTOR",
          "PVT SECTOR",
          "PVT SECTOR",
          "PVT SECTOR",
          "PVT SECTOR",
          "CENTRAL SECTOR",
          "CENTRAL SECTOR",
          "CENTRAL SECTOR",
          "CENTRAL SECTOR",
          "STATE SECTOR",
          "STATE SECTOR",
          "STATE SECTOR",
          "STATE SECTOR",
          "PVT SECTOR",
          "PVT SECTOR",
          "PVT SECTOR",
          "PVT SECTOR",
          "CENTRAL SECTOR",
          "CENTRAL SECTOR",
          "CENTRAL SECTOR",
          "CENTRAL SECTOR",
          "STATE SECTOR",
          "STATE SECTOR",
          "STATE SECTOR",
          "STATE SECTOR",
          "PVT SECTOR",
          "PVT SECTOR",
          "PVT SECTOR",
          "PVT SECTOR",
          "STATE SECTOR",
          "STATE SECTOR",
          "STATE SECTOR",
          "STATE SECTOR",
          "PVT SECTOR",
          "PVT SECTOR",
          "PVT SECTOR",
          "PVT SECTOR",
          "CENTRAL SECTOR",
          "CENTRAL SECTOR",
          "CENTRAL SECTOR",
          "CENTRAL SECTOR",
          "STATE SECTOR",
          "STATE SECTOR",
          "STATE SECTOR",
          "STATE SECTOR",
          "PVT SECTOR",
          "PVT SECTOR",
          "PVT SECTOR",
          "PVT SECTOR",
          "CENTRAL SECTOR",
          "CENTRAL SECTOR",
          "CENTRAL SECTOR",
          "CENTRAL SECTOR",
          "STATE SECTOR",
          "STATE SECTOR",
          "STATE SECTOR",
          "STATE SECTOR",
          "PVT SECTOR",
          "PVT SECTOR",
          "PVT SECTOR",
          "PVT SECTOR",
          "CENTRAL SECTOR",
          "CENTRAL SECTOR",
          "CENTRAL SECTOR",
          "CENTRAL SECTOR",
          "STATE SECTOR",
          "STATE SECTOR",
          "STATE SECTOR",
          "STATE SECTOR",
          "PVT SECTOR",
          "PVT SECTOR",
          "PVT SECTOR",
          "PVT SECTOR",
          "CENTRAL SECTOR",
          "CENTRAL SECTOR",
          "CENTRAL SECTOR",
          "CENTRAL SECTOR",
          "STATE SECTOR",
          "STATE SECTOR",
          "STATE SECTOR",
          "STATE SECTOR",
          "PVT SECTOR",
          "PVT SECTOR",
          "PVT SECTOR",
          "PVT SECTOR",
          "CENTRAL SECTOR",
          "CENTRAL SECTOR",
          "CENTRAL SECTOR",
          "CENTRAL SECTOR",
          "STATE SECTOR",
          "STATE SECTOR",
          "STATE SECTOR",
          "STATE SECTOR",
          "PVT SECTOR",
          "PVT SECTOR",
          "PVT SECTOR",
          "PVT SECTOR",
          "CENTRAL SECTOR",
          "CENTRAL SECTOR",
          "CENTRAL SECTOR",
          "CENTRAL SECTOR",
          "STATE SECTOR",
          "STATE SECTOR",
          "STATE SECTOR",
          "STATE SECTOR",
          "PVT SECTOR",
          "PVT SECTOR",
          "PVT SECTOR",
          "PVT SECTOR",
          "CENTRAL SECTOR",
          "CENTRAL SECTOR",
          "CENTRAL SECTOR",
          "CENTRAL SECTOR",
          "STATE SECTOR",
          "STATE SECTOR",
          "STATE SECTOR",
          "STATE SECTOR",
          "PVT SECTOR",
          "PVT SECTOR",
          "PVT SECTOR",
          "PVT SECTOR",
          "CENTRAL SECTOR",
          "CENTRAL SECTOR",
          "CENTRAL SECTOR",
          "CENTRAL SECTOR",
          "CENTRAL SECTOR",
          "CENTRAL SECTOR",
          "CENTRAL SECTOR",
          "CENTRAL SECTOR",
          "STATE SECTOR",
          "STATE SECTOR",
          "STATE SECTOR",
          "STATE SECTOR",
          "PVT SECTOR",
          "PVT SECTOR",
          "PVT SECTOR",
          "PVT SECTOR",
          "CENTRAL SECTOR",
          "CENTRAL SECTOR",
          "CENTRAL SECTOR",
          "CENTRAL SECTOR",
          "STATE SECTOR",
          "STATE SECTOR",
          "STATE SECTOR",
          "STATE SECTOR",
          "PVT SECTOR",
          "PVT SECTOR",
          "PVT SECTOR",
          "PVT SECTOR",
          "CENTRAL SECTOR",
          "CENTRAL SECTOR",
          "CENTRAL SECTOR",
          "CENTRAL SECTOR",
          "STATE SECTOR",
          "STATE SECTOR",
          "STATE SECTOR",
          "STATE SECTOR",
          "PVT SECTOR",
          "PVT SECTOR",
          "PVT SECTOR",
          "PVT SECTOR",
          "CENTRAL SECTOR",
          "CENTRAL SECTOR",
          "CENTRAL SECTOR",
          "CENTRAL SECTOR",
          "STATE SECTOR",
          "STATE SECTOR",
          "STATE SECTOR",
          "STATE SECTOR",
          "PVT SECTOR",
          "PVT SECTOR",
          "PVT SECTOR",
          "PVT SECTOR",
          "CENTRAL SECTOR",
          "CENTRAL SECTOR",
          "CENTRAL SECTOR",
          "CENTRAL SECTOR",
          "STATE SECTOR",
          "STATE SECTOR",
          "STATE SECTOR",
          "STATE SECTOR",
          "PVT SECTOR",
          "PVT SECTOR",
          "PVT SECTOR",
          "PVT SECTOR",
          "STATE SECTOR",
          "STATE SECTOR",
          "STATE SECTOR",
          "STATE SECTOR",
          "PVT SECTOR",
          "PVT SECTOR",
          "PVT SECTOR",
          "PVT SECTOR",
          "CENTRAL SECTOR",
          "CENTRAL SECTOR",
          "CENTRAL SECTOR",
          "CENTRAL SECTOR",
          "STATE SECTOR",
          "STATE SECTOR",
          "STATE SECTOR",
          "STATE SECTOR",
          "PVT SECTOR",
          "PVT SECTOR",
          "PVT SECTOR",
          "PVT SECTOR",
          "CENTRAL SECTOR",
          "CENTRAL SECTOR",
          "CENTRAL SECTOR",
          "CENTRAL SECTOR",
          "STATE SECTOR",
          "STATE SECTOR",
          "STATE SECTOR",
          "STATE SECTOR",
          "PVT SECTOR",
          "PVT SECTOR",
          "PVT SECTOR",
          "PVT SECTOR",
          "CENTRAL SECTOR",
          "CENTRAL SECTOR",
          "CENTRAL SECTOR",
          "CENTRAL SECTOR",
          "STATE SECTOR",
          "STATE SECTOR",
          "STATE SECTOR",
          "STATE SECTOR",
          "PVT SECTOR",
          "PVT SECTOR",
          "PVT SECTOR",
          "PVT SECTOR",
          "CENTRAL SECTOR",
          "CENTRAL SECTOR",
          "CENTRAL SECTOR",
          "CENTRAL SECTOR",
          "STATE SECTOR",
          "STATE SECTOR",
          "STATE SECTOR",
          "STATE SECTOR",
          "PVT SECTOR",
          "PVT SECTOR",
          "PVT SECTOR",
          "PVT SECTOR",
          "CENTRAL SECTOR",
          "CENTRAL SECTOR",
          "CENTRAL SECTOR",
          "CENTRAL SECTOR",
          "STATE SECTOR",
          "STATE SECTOR",
          "STATE SECTOR",
          "STATE SECTOR",
          "PVT SECTOR",
          "PVT SECTOR",
          "PVT SECTOR",
          "PVT SECTOR",
          "CENTRAL SECTOR",
          "CENTRAL SECTOR",
          "CENTRAL SECTOR",
          "CENTRAL SECTOR",
          "STATE SECTOR",
          "STATE SECTOR",
          "STATE SECTOR",
          "STATE SECTOR",
          "PVT SECTOR",
          "PVT SECTOR",
          "PVT SECTOR",
          "PVT SECTOR",
          "CENTRAL SECTOR",
          "CENTRAL SECTOR",
          "CENTRAL SECTOR",
          "CENTRAL SECTOR",
          "STATE SECTOR",
          "STATE SECTOR",
          "STATE SECTOR",
          "STATE SECTOR",
          "PVT SECTOR",
          "PVT SECTOR",
          "PVT SECTOR",
          "PVT SECTOR",
          "CENTRAL SECTOR",
          "CENTRAL SECTOR",
          "CENTRAL SECTOR",
          "CENTRAL SECTOR",
          "STATE SECTOR",
          "STATE SECTOR",
          "STATE SECTOR",
          "STATE SECTOR",
          "PVT SECTOR",
          "PVT SECTOR",
          "PVT SECTOR",
          "PVT SECTOR",
          "CENTRAL SECTOR",
          "CENTRAL SECTOR",
          "CENTRAL SECTOR",
          "CENTRAL SECTOR",
          "STATE SECTOR",
          "STATE SECTOR",
          "STATE SECTOR",
          "STATE SECTOR",
          "PVT SECTOR",
          "PVT SECTOR",
          "PVT SECTOR",
          "PVT SECTOR",
          "CENTRAL SECTOR",
          "CENTRAL SECTOR",
          "CENTRAL SECTOR",
          "CENTRAL SECTOR",
          "STATE SECTOR",
          "STATE SECTOR",
          "STATE SECTOR",
          "STATE SECTOR",
          "PVT SECTOR",
          "PVT SECTOR",
          "PVT SECTOR",
          "PVT SECTOR",
          "CENTRAL SECTOR",
          "CENTRAL SECTOR",
          "CENTRAL SECTOR",
          "CENTRAL SECTOR",
          "STATE SECTOR",
          "STATE SECTOR",
          "STATE SECTOR",
          "STATE SECTOR",
          "PVT SECTOR",
          "PVT SECTOR",
          "PVT SECTOR",
          "PVT SECTOR",
          "CENTRAL SECTOR",
          "CENTRAL SECTOR",
          "CENTRAL SECTOR",
          "CENTRAL SECTOR",
          "STATE SECTOR",
          "STATE SECTOR",
          "STATE SECTOR",
          "STATE SECTOR",
          "PVT SECTOR",
          "PVT SECTOR",
          "PVT SECTOR",
          "PVT SECTOR",
          "CENTRAL SECTOR",
          "CENTRAL SECTOR",
          "CENTRAL SECTOR",
          "CENTRAL SECTOR"
         ],
         "legendgroup": "",
         "name": "",
         "showlegend": true,
         "type": "pie",
         "values": [
          40.048,
          0,
          0,
          5.25,
          0,
          0,
          0,
          7.09,
          0,
          0,
          0,
          5.1,
          5245.4,
          0,
          1610,
          56.176,
          9279.944,
          0,
          0,
          8058.744,
          2000,
          0,
          0,
          250,
          0,
          0,
          0,
          107.105,
          0,
          0,
          0,
          29.61,
          0,
          0,
          815,
          0,
          328.205,
          0,
          100,
          5.01,
          24.5,
          0,
          0,
          45.33,
          1041,
          0,
          250,
          25,
          0,
          0,
          0,
          70.7,
          0,
          0,
          0,
          272.77,
          6390,
          0,
          0,
          0,
          0,
          0,
          0,
          0,
          0,
          0,
          0,
          40.55,
          0,
          0,
          0,
          0,
          3080,
          0,
          120,
          11.05,
          13168,
          0,
          0,
          540.8,
          6880,
          0,
          0,
          0,
          0,
          0,
          0,
          0,
          0,
          0,
          0,
          5.46,
          0,
          0,
          0,
          0,
          0,
          0,
          0,
          0,
          0,
          0,
          0,
          19.86,
          0,
          0,
          0,
          0,
          2100.4,
          0,
          0,
          0,
          108,
          0,
          0,
          217.16,
          0,
          0,
          0,
          0.05,
          48,
          0,
          0,
          5.12,
          0,
          0,
          0,
          0,
          7727.82,
          0,
          1990,
          72.35,
          14742,
          0,
          0,
          10270.49,
          1313.59,
          440,
          0,
          243.3,
          2510,
          0,
          0,
          69.3,
          1320,
          0,
          0,
          457,
          1931.59,
          0,
          0,
          5,
          0,
          0,
          777,
          256.61,
          0,
          0,
          1784,
          695.03,
          0,
          0,
          7248.02,
          0,
          175,
          0,
          1110,
          130.48,
          0,
          0,
          0,
          69.3,
          0,
          0,
          2250,
          0,
          420,
          0,
          130,
          4.05,
          1830,
          0,
          0,
          42.7,
          2210,
          0,
          80,
          0,
          5020,
          0,
          3644.2,
          193.885,
          2085.2,
          0,
          0,
          15038.175,
          2400,
          880,
          0,
          0,
          159.96,
          0,
          1856.5,
          172.896,
          174,
          0,
          0,
          204.574,
          359.58,
          0,
          0,
          50,
          0,
          0,
          89,
          0,
          0,
          0,
          0,
          0,
          0,
          0,
          0,
          0.75,
          0,
          0,
          0,
          0,
          5400,
          0,
          715,
          83.96,
          8870,
          0,
          0,
          4611.05,
          6880,
          0,
          1520,
          300,
          10422,
          0,
          2566,
          388.1251,
          12144,
          0,
          481,
          9199.27,
          5607.08,
          1400,
          0,
          123,
          36,
          0,
          0,
          5.45,
          0,
          0,
          0,
          5.16,
          0,
          0,
          105,
          0,
          0,
          0,
          322,
          32.53,
          0,
          0,
          0,
          13.92,
          0,
          0,
          0,
          36.47,
          0,
          0,
          0,
          1.52,
          0,
          0,
          60,
          0,
          0,
          0,
          0,
          30.67,
          0,
          0,
          0,
          1,
          0,
          0,
          75,
          0,
          1740,
          0,
          2142.25,
          26.3,
          3800,
          0,
          0,
          485.3851,
          4260,
          0,
          0,
          10,
          32.5,
          0,
          0,
          0,
          0,
          0,
          0,
          5.51,
          0,
          0,
          0,
          0,
          1760,
          0,
          941,
          127.8,
          3920,
          0,
          0,
          1320.7,
          0,
          0,
          155.3,
          0,
          7773.8,
          0,
          411,
          23.85,
          2400,
          0,
          0,
          9214.93,
          669.33,
          1180,
          0,
          344,
          0,
          0,
          1200,
          52.11,
          0,
          0,
          399,
          0.07,
          0,
          0,
          570,
          0,
          4844.08,
          0,
          2178.2,
          122.7,
          3664.801,
          0,
          0,
          13996.92,
          5740,
          2440,
          0,
          231.9,
          4162.5,
          0,
          2405.6,
          41.22,
          0,
          0,
          0,
          3973.6,
          2600,
          0,
          0,
          10,
          169.5,
          0,
          0,
          16.01,
          0,
          0,
          0,
          4.41,
          962.6,
          0,
          0,
          5,
          5469,
          0,
          501.6,
          25.1,
          6810,
          0,
          0,
          3180.61,
          11623.14,
          440,
          0,
          30,
          0,
          0,
          1252.15,
          67.87,
          450,
          0,
          730,
          592.85,
          0,
          0,
          1774.2,
          0,
          5390,
          0,
          986,
          121.95,
          2037,
          0,
          0,
          410.93,
          6850,
          0,
          355.2,
          0
         ]
        }
       ],
       "layout": {
        "font": {
         "family": "Rockwell"
        },
        "legend": {
         "title": {
          "text": "Generation Sector"
         },
         "tracegroupgap": 0
        },
        "template": {
         "data": {
          "bar": [
           {
            "error_x": {
             "color": "#2a3f5f"
            },
            "error_y": {
             "color": "#2a3f5f"
            },
            "marker": {
             "line": {
              "color": "#E5ECF6",
              "width": 0.5
             }
            },
            "type": "bar"
           }
          ],
          "barpolar": [
           {
            "marker": {
             "line": {
              "color": "#E5ECF6",
              "width": 0.5
             }
            },
            "type": "barpolar"
           }
          ],
          "carpet": [
           {
            "aaxis": {
             "endlinecolor": "#2a3f5f",
             "gridcolor": "white",
             "linecolor": "white",
             "minorgridcolor": "white",
             "startlinecolor": "#2a3f5f"
            },
            "baxis": {
             "endlinecolor": "#2a3f5f",
             "gridcolor": "white",
             "linecolor": "white",
             "minorgridcolor": "white",
             "startlinecolor": "#2a3f5f"
            },
            "type": "carpet"
           }
          ],
          "choropleth": [
           {
            "colorbar": {
             "outlinewidth": 0,
             "ticks": ""
            },
            "type": "choropleth"
           }
          ],
          "contour": [
           {
            "colorbar": {
             "outlinewidth": 0,
             "ticks": ""
            },
            "colorscale": [
             [
              0,
              "#0d0887"
             ],
             [
              0.1111111111111111,
              "#46039f"
             ],
             [
              0.2222222222222222,
              "#7201a8"
             ],
             [
              0.3333333333333333,
              "#9c179e"
             ],
             [
              0.4444444444444444,
              "#bd3786"
             ],
             [
              0.5555555555555556,
              "#d8576b"
             ],
             [
              0.6666666666666666,
              "#ed7953"
             ],
             [
              0.7777777777777778,
              "#fb9f3a"
             ],
             [
              0.8888888888888888,
              "#fdca26"
             ],
             [
              1,
              "#f0f921"
             ]
            ],
            "type": "contour"
           }
          ],
          "contourcarpet": [
           {
            "colorbar": {
             "outlinewidth": 0,
             "ticks": ""
            },
            "type": "contourcarpet"
           }
          ],
          "heatmap": [
           {
            "colorbar": {
             "outlinewidth": 0,
             "ticks": ""
            },
            "colorscale": [
             [
              0,
              "#0d0887"
             ],
             [
              0.1111111111111111,
              "#46039f"
             ],
             [
              0.2222222222222222,
              "#7201a8"
             ],
             [
              0.3333333333333333,
              "#9c179e"
             ],
             [
              0.4444444444444444,
              "#bd3786"
             ],
             [
              0.5555555555555556,
              "#d8576b"
             ],
             [
              0.6666666666666666,
              "#ed7953"
             ],
             [
              0.7777777777777778,
              "#fb9f3a"
             ],
             [
              0.8888888888888888,
              "#fdca26"
             ],
             [
              1,
              "#f0f921"
             ]
            ],
            "type": "heatmap"
           }
          ],
          "heatmapgl": [
           {
            "colorbar": {
             "outlinewidth": 0,
             "ticks": ""
            },
            "colorscale": [
             [
              0,
              "#0d0887"
             ],
             [
              0.1111111111111111,
              "#46039f"
             ],
             [
              0.2222222222222222,
              "#7201a8"
             ],
             [
              0.3333333333333333,
              "#9c179e"
             ],
             [
              0.4444444444444444,
              "#bd3786"
             ],
             [
              0.5555555555555556,
              "#d8576b"
             ],
             [
              0.6666666666666666,
              "#ed7953"
             ],
             [
              0.7777777777777778,
              "#fb9f3a"
             ],
             [
              0.8888888888888888,
              "#fdca26"
             ],
             [
              1,
              "#f0f921"
             ]
            ],
            "type": "heatmapgl"
           }
          ],
          "histogram": [
           {
            "marker": {
             "colorbar": {
              "outlinewidth": 0,
              "ticks": ""
             }
            },
            "type": "histogram"
           }
          ],
          "histogram2d": [
           {
            "colorbar": {
             "outlinewidth": 0,
             "ticks": ""
            },
            "colorscale": [
             [
              0,
              "#0d0887"
             ],
             [
              0.1111111111111111,
              "#46039f"
             ],
             [
              0.2222222222222222,
              "#7201a8"
             ],
             [
              0.3333333333333333,
              "#9c179e"
             ],
             [
              0.4444444444444444,
              "#bd3786"
             ],
             [
              0.5555555555555556,
              "#d8576b"
             ],
             [
              0.6666666666666666,
              "#ed7953"
             ],
             [
              0.7777777777777778,
              "#fb9f3a"
             ],
             [
              0.8888888888888888,
              "#fdca26"
             ],
             [
              1,
              "#f0f921"
             ]
            ],
            "type": "histogram2d"
           }
          ],
          "histogram2dcontour": [
           {
            "colorbar": {
             "outlinewidth": 0,
             "ticks": ""
            },
            "colorscale": [
             [
              0,
              "#0d0887"
             ],
             [
              0.1111111111111111,
              "#46039f"
             ],
             [
              0.2222222222222222,
              "#7201a8"
             ],
             [
              0.3333333333333333,
              "#9c179e"
             ],
             [
              0.4444444444444444,
              "#bd3786"
             ],
             [
              0.5555555555555556,
              "#d8576b"
             ],
             [
              0.6666666666666666,
              "#ed7953"
             ],
             [
              0.7777777777777778,
              "#fb9f3a"
             ],
             [
              0.8888888888888888,
              "#fdca26"
             ],
             [
              1,
              "#f0f921"
             ]
            ],
            "type": "histogram2dcontour"
           }
          ],
          "mesh3d": [
           {
            "colorbar": {
             "outlinewidth": 0,
             "ticks": ""
            },
            "type": "mesh3d"
           }
          ],
          "parcoords": [
           {
            "line": {
             "colorbar": {
              "outlinewidth": 0,
              "ticks": ""
             }
            },
            "type": "parcoords"
           }
          ],
          "pie": [
           {
            "automargin": true,
            "type": "pie"
           }
          ],
          "scatter": [
           {
            "marker": {
             "colorbar": {
              "outlinewidth": 0,
              "ticks": ""
             }
            },
            "type": "scatter"
           }
          ],
          "scatter3d": [
           {
            "line": {
             "colorbar": {
              "outlinewidth": 0,
              "ticks": ""
             }
            },
            "marker": {
             "colorbar": {
              "outlinewidth": 0,
              "ticks": ""
             }
            },
            "type": "scatter3d"
           }
          ],
          "scattercarpet": [
           {
            "marker": {
             "colorbar": {
              "outlinewidth": 0,
              "ticks": ""
             }
            },
            "type": "scattercarpet"
           }
          ],
          "scattergeo": [
           {
            "marker": {
             "colorbar": {
              "outlinewidth": 0,
              "ticks": ""
             }
            },
            "type": "scattergeo"
           }
          ],
          "scattergl": [
           {
            "marker": {
             "colorbar": {
              "outlinewidth": 0,
              "ticks": ""
             }
            },
            "type": "scattergl"
           }
          ],
          "scattermapbox": [
           {
            "marker": {
             "colorbar": {
              "outlinewidth": 0,
              "ticks": ""
             }
            },
            "type": "scattermapbox"
           }
          ],
          "scatterpolar": [
           {
            "marker": {
             "colorbar": {
              "outlinewidth": 0,
              "ticks": ""
             }
            },
            "type": "scatterpolar"
           }
          ],
          "scatterpolargl": [
           {
            "marker": {
             "colorbar": {
              "outlinewidth": 0,
              "ticks": ""
             }
            },
            "type": "scatterpolargl"
           }
          ],
          "scatterternary": [
           {
            "marker": {
             "colorbar": {
              "outlinewidth": 0,
              "ticks": ""
             }
            },
            "type": "scatterternary"
           }
          ],
          "surface": [
           {
            "colorbar": {
             "outlinewidth": 0,
             "ticks": ""
            },
            "colorscale": [
             [
              0,
              "#0d0887"
             ],
             [
              0.1111111111111111,
              "#46039f"
             ],
             [
              0.2222222222222222,
              "#7201a8"
             ],
             [
              0.3333333333333333,
              "#9c179e"
             ],
             [
              0.4444444444444444,
              "#bd3786"
             ],
             [
              0.5555555555555556,
              "#d8576b"
             ],
             [
              0.6666666666666666,
              "#ed7953"
             ],
             [
              0.7777777777777778,
              "#fb9f3a"
             ],
             [
              0.8888888888888888,
              "#fdca26"
             ],
             [
              1,
              "#f0f921"
             ]
            ],
            "type": "surface"
           }
          ],
          "table": [
           {
            "cells": {
             "fill": {
              "color": "#EBF0F8"
             },
             "line": {
              "color": "white"
             }
            },
            "header": {
             "fill": {
              "color": "#C8D4E3"
             },
             "line": {
              "color": "white"
             }
            },
            "type": "table"
           }
          ]
         },
         "layout": {
          "annotationdefaults": {
           "arrowcolor": "#2a3f5f",
           "arrowhead": 0,
           "arrowwidth": 1
          },
          "coloraxis": {
           "colorbar": {
            "outlinewidth": 0,
            "ticks": ""
           }
          },
          "colorscale": {
           "diverging": [
            [
             0,
             "#8e0152"
            ],
            [
             0.1,
             "#c51b7d"
            ],
            [
             0.2,
             "#de77ae"
            ],
            [
             0.3,
             "#f1b6da"
            ],
            [
             0.4,
             "#fde0ef"
            ],
            [
             0.5,
             "#f7f7f7"
            ],
            [
             0.6,
             "#e6f5d0"
            ],
            [
             0.7,
             "#b8e186"
            ],
            [
             0.8,
             "#7fbc41"
            ],
            [
             0.9,
             "#4d9221"
            ],
            [
             1,
             "#276419"
            ]
           ],
           "sequential": [
            [
             0,
             "#0d0887"
            ],
            [
             0.1111111111111111,
             "#46039f"
            ],
            [
             0.2222222222222222,
             "#7201a8"
            ],
            [
             0.3333333333333333,
             "#9c179e"
            ],
            [
             0.4444444444444444,
             "#bd3786"
            ],
            [
             0.5555555555555556,
             "#d8576b"
            ],
            [
             0.6666666666666666,
             "#ed7953"
            ],
            [
             0.7777777777777778,
             "#fb9f3a"
            ],
            [
             0.8888888888888888,
             "#fdca26"
            ],
            [
             1,
             "#f0f921"
            ]
           ],
           "sequentialminus": [
            [
             0,
             "#0d0887"
            ],
            [
             0.1111111111111111,
             "#46039f"
            ],
            [
             0.2222222222222222,
             "#7201a8"
            ],
            [
             0.3333333333333333,
             "#9c179e"
            ],
            [
             0.4444444444444444,
             "#bd3786"
            ],
            [
             0.5555555555555556,
             "#d8576b"
            ],
            [
             0.6666666666666666,
             "#ed7953"
            ],
            [
             0.7777777777777778,
             "#fb9f3a"
            ],
            [
             0.8888888888888888,
             "#fdca26"
            ],
            [
             1,
             "#f0f921"
            ]
           ]
          },
          "colorway": [
           "#636efa",
           "#EF553B",
           "#00cc96",
           "#ab63fa",
           "#FFA15A",
           "#19d3f3",
           "#FF6692",
           "#B6E880",
           "#FF97FF",
           "#FECB52"
          ],
          "font": {
           "color": "#2a3f5f"
          },
          "geo": {
           "bgcolor": "white",
           "lakecolor": "white",
           "landcolor": "#E5ECF6",
           "showlakes": true,
           "showland": true,
           "subunitcolor": "white"
          },
          "hoverlabel": {
           "align": "left"
          },
          "hovermode": "closest",
          "mapbox": {
           "style": "light"
          },
          "paper_bgcolor": "white",
          "plot_bgcolor": "#E5ECF6",
          "polar": {
           "angularaxis": {
            "gridcolor": "white",
            "linecolor": "white",
            "ticks": ""
           },
           "bgcolor": "#E5ECF6",
           "radialaxis": {
            "gridcolor": "white",
            "linecolor": "white",
            "ticks": ""
           }
          },
          "scene": {
           "xaxis": {
            "backgroundcolor": "#E5ECF6",
            "gridcolor": "white",
            "gridwidth": 2,
            "linecolor": "white",
            "showbackground": true,
            "ticks": "",
            "zerolinecolor": "white"
           },
           "yaxis": {
            "backgroundcolor": "#E5ECF6",
            "gridcolor": "white",
            "gridwidth": 2,
            "linecolor": "white",
            "showbackground": true,
            "ticks": "",
            "zerolinecolor": "white"
           },
           "zaxis": {
            "backgroundcolor": "#E5ECF6",
            "gridcolor": "white",
            "gridwidth": 2,
            "linecolor": "white",
            "showbackground": true,
            "ticks": "",
            "zerolinecolor": "white"
           }
          },
          "shapedefaults": {
           "line": {
            "color": "#2a3f5f"
           }
          },
          "ternary": {
           "aaxis": {
            "gridcolor": "white",
            "linecolor": "white",
            "ticks": ""
           },
           "baxis": {
            "gridcolor": "white",
            "linecolor": "white",
            "ticks": ""
           },
           "bgcolor": "#E5ECF6",
           "caxis": {
            "gridcolor": "white",
            "linecolor": "white",
            "ticks": ""
           }
          },
          "title": {
           "x": 0.05
          },
          "xaxis": {
           "automargin": true,
           "gridcolor": "white",
           "linecolor": "white",
           "ticks": "",
           "title": {
            "standoff": 15
           },
           "zerolinecolor": "white",
           "zerolinewidth": 2
          },
          "yaxis": {
           "automargin": true,
           "gridcolor": "white",
           "linecolor": "white",
           "ticks": "",
           "title": {
            "standoff": 15
           },
           "zerolinecolor": "white",
           "zerolinewidth": 2
          }
         }
        },
        "title": {
         "text": "Sector wise Capacity Distrubution"
        }
       }
      },
      "text/html": [
       "<div>\n",
       "        \n",
       "        \n",
       "            <div id=\"4ead81da-ae91-4880-9744-69e72b88bcda\" class=\"plotly-graph-div\" style=\"height:525px; width:100%;\"></div>\n",
       "            <script type=\"text/javascript\">\n",
       "                require([\"plotly\"], function(Plotly) {\n",
       "                    window.PLOTLYENV=window.PLOTLYENV || {};\n",
       "                    \n",
       "                if (document.getElementById(\"4ead81da-ae91-4880-9744-69e72b88bcda\")) {\n",
       "                    Plotly.newPlot(\n",
       "                        '4ead81da-ae91-4880-9744-69e72b88bcda',\n",
       "                        [{\"domain\": {\"x\": [0.0, 1.0], \"y\": [0.0, 1.0]}, \"hovertemplate\": \"Sector=%{label}<br>Installed Capacity=%{value}<extra></extra>\", \"labels\": [\"STATE SECTOR\", \"STATE SECTOR\", \"STATE SECTOR\", \"STATE SECTOR\", \"PVT SECTOR\", \"PVT SECTOR\", \"PVT SECTOR\", \"PVT SECTOR\", \"CENTRAL SECTOR\", \"CENTRAL SECTOR\", \"CENTRAL SECTOR\", \"CENTRAL SECTOR\", \"STATE SECTOR\", \"STATE SECTOR\", \"STATE SECTOR\", \"STATE SECTOR\", \"PVT SECTOR\", \"PVT SECTOR\", \"PVT SECTOR\", \"PVT SECTOR\", \"CENTRAL SECTOR\", \"CENTRAL SECTOR\", \"CENTRAL SECTOR\", \"CENTRAL SECTOR\", \"STATE SECTOR\", \"STATE SECTOR\", \"STATE SECTOR\", \"STATE SECTOR\", \"PVT SECTOR\", \"PVT SECTOR\", \"PVT SECTOR\", \"PVT SECTOR\", \"CENTRAL SECTOR\", \"CENTRAL SECTOR\", \"CENTRAL SECTOR\", \"CENTRAL SECTOR\", \"STATE SECTOR\", \"STATE SECTOR\", \"STATE SECTOR\", \"STATE SECTOR\", \"PVT SECTOR\", \"PVT SECTOR\", \"PVT SECTOR\", \"PVT SECTOR\", \"CENTRAL SECTOR\", \"CENTRAL SECTOR\", \"CENTRAL SECTOR\", \"CENTRAL SECTOR\", \"STATE SECTOR\", \"STATE SECTOR\", \"STATE SECTOR\", \"STATE SECTOR\", \"PVT SECTOR\", \"PVT SECTOR\", \"PVT SECTOR\", \"PVT SECTOR\", \"CENTRAL SECTOR\", \"CENTRAL SECTOR\", \"CENTRAL SECTOR\", \"CENTRAL SECTOR\", \"STATE SECTOR\", \"STATE SECTOR\", \"STATE SECTOR\", \"STATE SECTOR\", \"PVT SECTOR\", \"PVT SECTOR\", \"PVT SECTOR\", \"PVT SECTOR\", \"CENTRAL SECTOR\", \"CENTRAL SECTOR\", \"CENTRAL SECTOR\", \"CENTRAL SECTOR\", \"STATE SECTOR\", \"STATE SECTOR\", \"STATE SECTOR\", \"STATE SECTOR\", \"PVT SECTOR\", \"PVT SECTOR\", \"PVT SECTOR\", \"PVT SECTOR\", \"CENTRAL SECTOR\", \"CENTRAL SECTOR\", \"CENTRAL SECTOR\", \"CENTRAL SECTOR\", \"STATE SECTOR\", \"STATE SECTOR\", \"STATE SECTOR\", \"STATE SECTOR\", \"PVT SECTOR\", \"PVT SECTOR\", \"PVT SECTOR\", \"PVT SECTOR\", \"CENTRAL SECTOR\", \"CENTRAL SECTOR\", \"CENTRAL SECTOR\", \"CENTRAL SECTOR\", \"STATE SECTOR\", \"STATE SECTOR\", \"STATE SECTOR\", \"STATE SECTOR\", \"PVT SECTOR\", \"PVT SECTOR\", \"PVT SECTOR\", \"PVT SECTOR\", \"CENTRAL SECTOR\", \"CENTRAL SECTOR\", \"CENTRAL SECTOR\", \"CENTRAL SECTOR\", \"STATE SECTOR\", \"STATE SECTOR\", \"STATE SECTOR\", \"STATE SECTOR\", \"PVT SECTOR\", \"PVT SECTOR\", \"PVT SECTOR\", \"PVT SECTOR\", \"STATE SECTOR\", \"STATE SECTOR\", \"STATE SECTOR\", \"STATE SECTOR\", \"PVT SECTOR\", \"PVT SECTOR\", \"PVT SECTOR\", \"PVT SECTOR\", \"CENTRAL SECTOR\", \"CENTRAL SECTOR\", \"CENTRAL SECTOR\", \"CENTRAL SECTOR\", \"STATE SECTOR\", \"STATE SECTOR\", \"STATE SECTOR\", \"STATE SECTOR\", \"PVT SECTOR\", \"PVT SECTOR\", \"PVT SECTOR\", \"PVT SECTOR\", \"CENTRAL SECTOR\", \"CENTRAL SECTOR\", \"CENTRAL SECTOR\", \"CENTRAL SECTOR\", \"STATE SECTOR\", \"STATE SECTOR\", \"STATE SECTOR\", \"STATE SECTOR\", \"PVT SECTOR\", \"PVT SECTOR\", \"PVT SECTOR\", \"PVT SECTOR\", \"CENTRAL SECTOR\", \"CENTRAL SECTOR\", \"CENTRAL SECTOR\", \"CENTRAL SECTOR\", \"STATE SECTOR\", \"STATE SECTOR\", \"STATE SECTOR\", \"STATE SECTOR\", \"PVT SECTOR\", \"PVT SECTOR\", \"PVT SECTOR\", \"PVT SECTOR\", \"CENTRAL SECTOR\", \"CENTRAL SECTOR\", \"CENTRAL SECTOR\", \"CENTRAL SECTOR\", \"STATE SECTOR\", \"STATE SECTOR\", \"STATE SECTOR\", \"STATE SECTOR\", \"PVT SECTOR\", \"PVT SECTOR\", \"PVT SECTOR\", \"PVT SECTOR\", \"CENTRAL SECTOR\", \"CENTRAL SECTOR\", \"CENTRAL SECTOR\", \"CENTRAL SECTOR\", \"STATE SECTOR\", \"STATE SECTOR\", \"STATE SECTOR\", \"STATE SECTOR\", \"PVT SECTOR\", \"PVT SECTOR\", \"PVT SECTOR\", \"PVT SECTOR\", \"CENTRAL SECTOR\", \"CENTRAL SECTOR\", \"CENTRAL SECTOR\", \"CENTRAL SECTOR\", \"STATE SECTOR\", \"STATE SECTOR\", \"STATE SECTOR\", \"STATE SECTOR\", \"PVT SECTOR\", \"PVT SECTOR\", \"PVT SECTOR\", \"PVT SECTOR\", \"CENTRAL SECTOR\", \"CENTRAL SECTOR\", \"CENTRAL SECTOR\", \"CENTRAL SECTOR\", \"STATE SECTOR\", \"STATE SECTOR\", \"STATE SECTOR\", \"STATE SECTOR\", \"PVT SECTOR\", \"PVT SECTOR\", \"PVT SECTOR\", \"PVT SECTOR\", \"CENTRAL SECTOR\", \"CENTRAL SECTOR\", \"CENTRAL SECTOR\", \"CENTRAL SECTOR\", \"CENTRAL SECTOR\", \"CENTRAL SECTOR\", \"CENTRAL SECTOR\", \"CENTRAL SECTOR\", \"STATE SECTOR\", \"STATE SECTOR\", \"STATE SECTOR\", \"STATE SECTOR\", \"PVT SECTOR\", \"PVT SECTOR\", \"PVT SECTOR\", \"PVT SECTOR\", \"CENTRAL SECTOR\", \"CENTRAL SECTOR\", \"CENTRAL SECTOR\", \"CENTRAL SECTOR\", \"STATE SECTOR\", \"STATE SECTOR\", \"STATE SECTOR\", \"STATE SECTOR\", \"PVT SECTOR\", \"PVT SECTOR\", \"PVT SECTOR\", \"PVT SECTOR\", \"CENTRAL SECTOR\", \"CENTRAL SECTOR\", \"CENTRAL SECTOR\", \"CENTRAL SECTOR\", \"STATE SECTOR\", \"STATE SECTOR\", \"STATE SECTOR\", \"STATE SECTOR\", \"PVT SECTOR\", \"PVT SECTOR\", \"PVT SECTOR\", \"PVT SECTOR\", \"CENTRAL SECTOR\", \"CENTRAL SECTOR\", \"CENTRAL SECTOR\", \"CENTRAL SECTOR\", \"STATE SECTOR\", \"STATE SECTOR\", \"STATE SECTOR\", \"STATE SECTOR\", \"PVT SECTOR\", \"PVT SECTOR\", \"PVT SECTOR\", \"PVT SECTOR\", \"CENTRAL SECTOR\", \"CENTRAL SECTOR\", \"CENTRAL SECTOR\", \"CENTRAL SECTOR\", \"STATE SECTOR\", \"STATE SECTOR\", \"STATE SECTOR\", \"STATE SECTOR\", \"PVT SECTOR\", \"PVT SECTOR\", \"PVT SECTOR\", \"PVT SECTOR\", \"STATE SECTOR\", \"STATE SECTOR\", \"STATE SECTOR\", \"STATE SECTOR\", \"PVT SECTOR\", \"PVT SECTOR\", \"PVT SECTOR\", \"PVT SECTOR\", \"CENTRAL SECTOR\", \"CENTRAL SECTOR\", \"CENTRAL SECTOR\", \"CENTRAL SECTOR\", \"STATE SECTOR\", \"STATE SECTOR\", \"STATE SECTOR\", \"STATE SECTOR\", \"PVT SECTOR\", \"PVT SECTOR\", \"PVT SECTOR\", \"PVT SECTOR\", \"CENTRAL SECTOR\", \"CENTRAL SECTOR\", \"CENTRAL SECTOR\", \"CENTRAL SECTOR\", \"STATE SECTOR\", \"STATE SECTOR\", \"STATE SECTOR\", \"STATE SECTOR\", \"PVT SECTOR\", \"PVT SECTOR\", \"PVT SECTOR\", \"PVT SECTOR\", \"CENTRAL SECTOR\", \"CENTRAL SECTOR\", \"CENTRAL SECTOR\", \"CENTRAL SECTOR\", \"STATE SECTOR\", \"STATE SECTOR\", \"STATE SECTOR\", \"STATE SECTOR\", \"PVT SECTOR\", \"PVT SECTOR\", \"PVT SECTOR\", \"PVT SECTOR\", \"CENTRAL SECTOR\", \"CENTRAL SECTOR\", \"CENTRAL SECTOR\", \"CENTRAL SECTOR\", \"STATE SECTOR\", \"STATE SECTOR\", \"STATE SECTOR\", \"STATE SECTOR\", \"PVT SECTOR\", \"PVT SECTOR\", \"PVT SECTOR\", \"PVT SECTOR\", \"CENTRAL SECTOR\", \"CENTRAL SECTOR\", \"CENTRAL SECTOR\", \"CENTRAL SECTOR\", \"STATE SECTOR\", \"STATE SECTOR\", \"STATE SECTOR\", \"STATE SECTOR\", \"PVT SECTOR\", \"PVT SECTOR\", \"PVT SECTOR\", \"PVT SECTOR\", \"CENTRAL SECTOR\", \"CENTRAL SECTOR\", \"CENTRAL SECTOR\", \"CENTRAL SECTOR\", \"STATE SECTOR\", \"STATE SECTOR\", \"STATE SECTOR\", \"STATE SECTOR\", \"PVT SECTOR\", \"PVT SECTOR\", \"PVT SECTOR\", \"PVT SECTOR\", \"CENTRAL SECTOR\", \"CENTRAL SECTOR\", \"CENTRAL SECTOR\", \"CENTRAL SECTOR\", \"STATE SECTOR\", \"STATE SECTOR\", \"STATE SECTOR\", \"STATE SECTOR\", \"PVT SECTOR\", \"PVT SECTOR\", \"PVT SECTOR\", \"PVT SECTOR\", \"CENTRAL SECTOR\", \"CENTRAL SECTOR\", \"CENTRAL SECTOR\", \"CENTRAL SECTOR\", \"STATE SECTOR\", \"STATE SECTOR\", \"STATE SECTOR\", \"STATE SECTOR\", \"PVT SECTOR\", \"PVT SECTOR\", \"PVT SECTOR\", \"PVT SECTOR\", \"CENTRAL SECTOR\", \"CENTRAL SECTOR\", \"CENTRAL SECTOR\", \"CENTRAL SECTOR\", \"STATE SECTOR\", \"STATE SECTOR\", \"STATE SECTOR\", \"STATE SECTOR\", \"PVT SECTOR\", \"PVT SECTOR\", \"PVT SECTOR\", \"PVT SECTOR\", \"CENTRAL SECTOR\", \"CENTRAL SECTOR\", \"CENTRAL SECTOR\", \"CENTRAL SECTOR\", \"STATE SECTOR\", \"STATE SECTOR\", \"STATE SECTOR\", \"STATE SECTOR\", \"PVT SECTOR\", \"PVT SECTOR\", \"PVT SECTOR\", \"PVT SECTOR\", \"CENTRAL SECTOR\", \"CENTRAL SECTOR\", \"CENTRAL SECTOR\", \"CENTRAL SECTOR\", \"STATE SECTOR\", \"STATE SECTOR\", \"STATE SECTOR\", \"STATE SECTOR\", \"PVT SECTOR\", \"PVT SECTOR\", \"PVT SECTOR\", \"PVT SECTOR\", \"CENTRAL SECTOR\", \"CENTRAL SECTOR\", \"CENTRAL SECTOR\", \"CENTRAL SECTOR\", \"STATE SECTOR\", \"STATE SECTOR\", \"STATE SECTOR\", \"STATE SECTOR\", \"PVT SECTOR\", \"PVT SECTOR\", \"PVT SECTOR\", \"PVT SECTOR\", \"CENTRAL SECTOR\", \"CENTRAL SECTOR\", \"CENTRAL SECTOR\", \"CENTRAL SECTOR\"], \"legendgroup\": \"\", \"name\": \"\", \"showlegend\": true, \"type\": \"pie\", \"values\": [40.048, 0.0, 0.0, 5.25, 0.0, 0.0, 0.0, 7.09, 0.0, 0.0, 0.0, 5.1, 5245.4, 0.0, 1610.0, 56.176, 9279.944, 0.0, 0.0, 8058.744, 2000.0, 0.0, 0.0, 250.0, 0.0, 0.0, 0.0, 107.105, 0.0, 0.0, 0.0, 29.61, 0.0, 0.0, 815.0, 0.0, 328.205, 0.0, 100.0, 5.01, 24.5, 0.0, 0.0, 45.33, 1041.0, 0.0, 250.0, 25.0, 0.0, 0.0, 0.0, 70.7, 0.0, 0.0, 0.0, 272.77, 6390.0, 0.0, 0.0, 0.0, 0.0, 0.0, 0.0, 0.0, 0.0, 0.0, 0.0, 40.55, 0.0, 0.0, 0.0, 0.0, 3080.0, 0.0, 120.0, 11.05, 13168.0, 0.0, 0.0, 540.8, 6880.0, 0.0, 0.0, 0.0, 0.0, 0.0, 0.0, 0.0, 0.0, 0.0, 0.0, 5.46, 0.0, 0.0, 0.0, 0.0, 0.0, 0.0, 0.0, 0.0, 0.0, 0.0, 0.0, 19.86, 0.0, 0.0, 0.0, 0.0, 2100.4, 0.0, 0.0, 0.0, 108.0, 0.0, 0.0, 217.16, 0.0, 0.0, 0.0, 0.05, 48.0, 0.0, 0.0, 5.12, 0.0, 0.0, 0.0, 0.0, 7727.82, 0.0, 1990.0, 72.35, 14742.0, 0.0, 0.0, 10270.49, 1313.59, 440.0, 0.0, 243.3, 2510.0, 0.0, 0.0, 69.3, 1320.0, 0.0, 0.0, 457.0, 1931.59, 0.0, 0.0, 5.0, 0.0, 0.0, 777.0, 256.61, 0.0, 0.0, 1784.0, 695.03, 0.0, 0.0, 7248.02, 0.0, 175.0, 0.0, 1110.0, 130.48, 0.0, 0.0, 0.0, 69.3, 0.0, 0.0, 2250.0, 0.0, 420.0, 0.0, 130.0, 4.05, 1830.0, 0.0, 0.0, 42.7, 2210.0, 0.0, 80.0, 0.0, 5020.0, 0.0, 3644.2, 193.885, 2085.2, 0.0, 0.0, 15038.175, 2400.0, 880.0, 0.0, 0.0, 159.96, 0.0, 1856.5, 172.896, 174.0, 0.0, 0.0, 204.574, 359.58, 0.0, 0.0, 50.0, 0.0, 0.0, 89.0, 0.0, 0.0, 0.0, 0.0, 0.0, 0.0, 0.0, 0.0, 0.75, 0.0, 0.0, 0.0, 0.0, 5400.0, 0.0, 715.0, 83.96, 8870.0, 0.0, 0.0, 4611.05, 6880.0, 0.0, 1520.0, 300.0, 10422.0, 0.0, 2566.0, 388.1251, 12144.0, 0.0, 481.0, 9199.27, 5607.08, 1400.0, 0.0, 123.0, 36.0, 0.0, 0.0, 5.45, 0.0, 0.0, 0.0, 5.16, 0.0, 0.0, 105.0, 0.0, 0.0, 0.0, 322.0, 32.53, 0.0, 0.0, 0.0, 13.92, 0.0, 0.0, 0.0, 36.47, 0.0, 0.0, 0.0, 1.52, 0.0, 0.0, 60.0, 0.0, 0.0, 0.0, 0.0, 30.67, 0.0, 0.0, 0.0, 1.0, 0.0, 0.0, 75.0, 0.0, 1740.0, 0.0, 2142.25, 26.3, 3800.0, 0.0, 0.0, 485.3851, 4260.0, 0.0, 0.0, 10.0, 32.5, 0.0, 0.0, 0.0, 0.0, 0.0, 0.0, 5.51, 0.0, 0.0, 0.0, 0.0, 1760.0, 0.0, 941.0, 127.8, 3920.0, 0.0, 0.0, 1320.7, 0.0, 0.0, 155.3, 0.0, 7773.8, 0.0, 411.0, 23.85, 2400.0, 0.0, 0.0, 9214.93, 669.33, 1180.0, 0.0, 344.0, 0.0, 0.0, 1200.0, 52.11, 0.0, 0.0, 399.0, 0.07, 0.0, 0.0, 570.0, 0.0, 4844.08, 0.0, 2178.2, 122.7, 3664.801, 0.0, 0.0, 13996.92, 5740.0, 2440.0, 0.0, 231.9, 4162.5, 0.0, 2405.6, 41.22, 0.0, 0.0, 0.0, 3973.6, 2600.0, 0.0, 0.0, 10.0, 169.5, 0.0, 0.0, 16.01, 0.0, 0.0, 0.0, 4.41, 962.6, 0.0, 0.0, 5.0, 5469.0, 0.0, 501.6, 25.1, 6810.0, 0.0, 0.0, 3180.61, 11623.14, 440.0, 0.0, 30.0, 0.0, 0.0, 1252.15, 67.87, 450.0, 0.0, 730.0, 592.85, 0.0, 0.0, 1774.2, 0.0, 5390.0, 0.0, 986.0, 121.95, 2037.0, 0.0, 0.0, 410.93, 6850.0, 0.0, 355.2, 0.0]}],\n",
       "                        {\"font\": {\"family\": \"Rockwell\"}, \"legend\": {\"title\": {\"text\": \"Generation Sector\"}, \"tracegroupgap\": 0}, \"template\": {\"data\": {\"bar\": [{\"error_x\": {\"color\": \"#2a3f5f\"}, \"error_y\": {\"color\": \"#2a3f5f\"}, \"marker\": {\"line\": {\"color\": \"#E5ECF6\", \"width\": 0.5}}, \"type\": \"bar\"}], \"barpolar\": [{\"marker\": {\"line\": {\"color\": \"#E5ECF6\", \"width\": 0.5}}, \"type\": \"barpolar\"}], \"carpet\": [{\"aaxis\": {\"endlinecolor\": \"#2a3f5f\", \"gridcolor\": \"white\", \"linecolor\": \"white\", \"minorgridcolor\": \"white\", \"startlinecolor\": \"#2a3f5f\"}, \"baxis\": {\"endlinecolor\": \"#2a3f5f\", \"gridcolor\": \"white\", \"linecolor\": \"white\", \"minorgridcolor\": \"white\", \"startlinecolor\": \"#2a3f5f\"}, \"type\": \"carpet\"}], \"choropleth\": [{\"colorbar\": {\"outlinewidth\": 0, \"ticks\": \"\"}, \"type\": \"choropleth\"}], \"contour\": [{\"colorbar\": {\"outlinewidth\": 0, \"ticks\": \"\"}, \"colorscale\": [[0.0, \"#0d0887\"], [0.1111111111111111, \"#46039f\"], [0.2222222222222222, \"#7201a8\"], [0.3333333333333333, \"#9c179e\"], [0.4444444444444444, \"#bd3786\"], [0.5555555555555556, \"#d8576b\"], [0.6666666666666666, \"#ed7953\"], [0.7777777777777778, \"#fb9f3a\"], [0.8888888888888888, \"#fdca26\"], [1.0, \"#f0f921\"]], \"type\": \"contour\"}], \"contourcarpet\": [{\"colorbar\": {\"outlinewidth\": 0, \"ticks\": \"\"}, \"type\": \"contourcarpet\"}], \"heatmap\": [{\"colorbar\": {\"outlinewidth\": 0, \"ticks\": \"\"}, \"colorscale\": [[0.0, \"#0d0887\"], [0.1111111111111111, \"#46039f\"], [0.2222222222222222, \"#7201a8\"], [0.3333333333333333, \"#9c179e\"], [0.4444444444444444, \"#bd3786\"], [0.5555555555555556, \"#d8576b\"], [0.6666666666666666, \"#ed7953\"], [0.7777777777777778, \"#fb9f3a\"], [0.8888888888888888, \"#fdca26\"], [1.0, \"#f0f921\"]], \"type\": \"heatmap\"}], \"heatmapgl\": [{\"colorbar\": {\"outlinewidth\": 0, \"ticks\": \"\"}, \"colorscale\": [[0.0, \"#0d0887\"], [0.1111111111111111, \"#46039f\"], [0.2222222222222222, \"#7201a8\"], [0.3333333333333333, \"#9c179e\"], [0.4444444444444444, \"#bd3786\"], [0.5555555555555556, \"#d8576b\"], [0.6666666666666666, \"#ed7953\"], [0.7777777777777778, \"#fb9f3a\"], [0.8888888888888888, \"#fdca26\"], [1.0, \"#f0f921\"]], \"type\": \"heatmapgl\"}], \"histogram\": [{\"marker\": {\"colorbar\": {\"outlinewidth\": 0, \"ticks\": \"\"}}, \"type\": \"histogram\"}], \"histogram2d\": [{\"colorbar\": {\"outlinewidth\": 0, \"ticks\": \"\"}, \"colorscale\": [[0.0, \"#0d0887\"], [0.1111111111111111, \"#46039f\"], [0.2222222222222222, \"#7201a8\"], [0.3333333333333333, \"#9c179e\"], [0.4444444444444444, \"#bd3786\"], [0.5555555555555556, \"#d8576b\"], [0.6666666666666666, \"#ed7953\"], [0.7777777777777778, \"#fb9f3a\"], [0.8888888888888888, \"#fdca26\"], [1.0, \"#f0f921\"]], \"type\": \"histogram2d\"}], \"histogram2dcontour\": [{\"colorbar\": {\"outlinewidth\": 0, \"ticks\": \"\"}, \"colorscale\": [[0.0, \"#0d0887\"], [0.1111111111111111, \"#46039f\"], [0.2222222222222222, \"#7201a8\"], [0.3333333333333333, \"#9c179e\"], [0.4444444444444444, \"#bd3786\"], [0.5555555555555556, \"#d8576b\"], [0.6666666666666666, \"#ed7953\"], [0.7777777777777778, \"#fb9f3a\"], [0.8888888888888888, \"#fdca26\"], [1.0, \"#f0f921\"]], \"type\": \"histogram2dcontour\"}], \"mesh3d\": [{\"colorbar\": {\"outlinewidth\": 0, \"ticks\": \"\"}, \"type\": \"mesh3d\"}], \"parcoords\": [{\"line\": {\"colorbar\": {\"outlinewidth\": 0, \"ticks\": \"\"}}, \"type\": \"parcoords\"}], \"pie\": [{\"automargin\": true, \"type\": \"pie\"}], \"scatter\": [{\"marker\": {\"colorbar\": {\"outlinewidth\": 0, \"ticks\": \"\"}}, \"type\": \"scatter\"}], \"scatter3d\": [{\"line\": {\"colorbar\": {\"outlinewidth\": 0, \"ticks\": \"\"}}, \"marker\": {\"colorbar\": {\"outlinewidth\": 0, \"ticks\": \"\"}}, \"type\": \"scatter3d\"}], \"scattercarpet\": [{\"marker\": {\"colorbar\": {\"outlinewidth\": 0, \"ticks\": \"\"}}, \"type\": \"scattercarpet\"}], \"scattergeo\": [{\"marker\": {\"colorbar\": {\"outlinewidth\": 0, \"ticks\": \"\"}}, \"type\": \"scattergeo\"}], \"scattergl\": [{\"marker\": {\"colorbar\": {\"outlinewidth\": 0, \"ticks\": \"\"}}, \"type\": \"scattergl\"}], \"scattermapbox\": [{\"marker\": {\"colorbar\": {\"outlinewidth\": 0, \"ticks\": \"\"}}, \"type\": \"scattermapbox\"}], \"scatterpolar\": [{\"marker\": {\"colorbar\": {\"outlinewidth\": 0, \"ticks\": \"\"}}, \"type\": \"scatterpolar\"}], \"scatterpolargl\": [{\"marker\": {\"colorbar\": {\"outlinewidth\": 0, \"ticks\": \"\"}}, \"type\": \"scatterpolargl\"}], \"scatterternary\": [{\"marker\": {\"colorbar\": {\"outlinewidth\": 0, \"ticks\": \"\"}}, \"type\": \"scatterternary\"}], \"surface\": [{\"colorbar\": {\"outlinewidth\": 0, \"ticks\": \"\"}, \"colorscale\": [[0.0, \"#0d0887\"], [0.1111111111111111, \"#46039f\"], [0.2222222222222222, \"#7201a8\"], [0.3333333333333333, \"#9c179e\"], [0.4444444444444444, \"#bd3786\"], [0.5555555555555556, \"#d8576b\"], [0.6666666666666666, \"#ed7953\"], [0.7777777777777778, \"#fb9f3a\"], [0.8888888888888888, \"#fdca26\"], [1.0, \"#f0f921\"]], \"type\": \"surface\"}], \"table\": [{\"cells\": {\"fill\": {\"color\": \"#EBF0F8\"}, \"line\": {\"color\": \"white\"}}, \"header\": {\"fill\": {\"color\": \"#C8D4E3\"}, \"line\": {\"color\": \"white\"}}, \"type\": \"table\"}]}, \"layout\": {\"annotationdefaults\": {\"arrowcolor\": \"#2a3f5f\", \"arrowhead\": 0, \"arrowwidth\": 1}, \"coloraxis\": {\"colorbar\": {\"outlinewidth\": 0, \"ticks\": \"\"}}, \"colorscale\": {\"diverging\": [[0, \"#8e0152\"], [0.1, \"#c51b7d\"], [0.2, \"#de77ae\"], [0.3, \"#f1b6da\"], [0.4, \"#fde0ef\"], [0.5, \"#f7f7f7\"], [0.6, \"#e6f5d0\"], [0.7, \"#b8e186\"], [0.8, \"#7fbc41\"], [0.9, \"#4d9221\"], [1, \"#276419\"]], \"sequential\": [[0.0, \"#0d0887\"], [0.1111111111111111, \"#46039f\"], [0.2222222222222222, \"#7201a8\"], [0.3333333333333333, \"#9c179e\"], [0.4444444444444444, \"#bd3786\"], [0.5555555555555556, \"#d8576b\"], [0.6666666666666666, \"#ed7953\"], [0.7777777777777778, \"#fb9f3a\"], [0.8888888888888888, \"#fdca26\"], [1.0, \"#f0f921\"]], \"sequentialminus\": [[0.0, \"#0d0887\"], [0.1111111111111111, \"#46039f\"], [0.2222222222222222, \"#7201a8\"], [0.3333333333333333, \"#9c179e\"], [0.4444444444444444, \"#bd3786\"], [0.5555555555555556, \"#d8576b\"], [0.6666666666666666, \"#ed7953\"], [0.7777777777777778, \"#fb9f3a\"], [0.8888888888888888, \"#fdca26\"], [1.0, \"#f0f921\"]]}, \"colorway\": [\"#636efa\", \"#EF553B\", \"#00cc96\", \"#ab63fa\", \"#FFA15A\", \"#19d3f3\", \"#FF6692\", \"#B6E880\", \"#FF97FF\", \"#FECB52\"], \"font\": {\"color\": \"#2a3f5f\"}, \"geo\": {\"bgcolor\": \"white\", \"lakecolor\": \"white\", \"landcolor\": \"#E5ECF6\", \"showlakes\": true, \"showland\": true, \"subunitcolor\": \"white\"}, \"hoverlabel\": {\"align\": \"left\"}, \"hovermode\": \"closest\", \"mapbox\": {\"style\": \"light\"}, \"paper_bgcolor\": \"white\", \"plot_bgcolor\": \"#E5ECF6\", \"polar\": {\"angularaxis\": {\"gridcolor\": \"white\", \"linecolor\": \"white\", \"ticks\": \"\"}, \"bgcolor\": \"#E5ECF6\", \"radialaxis\": {\"gridcolor\": \"white\", \"linecolor\": \"white\", \"ticks\": \"\"}}, \"scene\": {\"xaxis\": {\"backgroundcolor\": \"#E5ECF6\", \"gridcolor\": \"white\", \"gridwidth\": 2, \"linecolor\": \"white\", \"showbackground\": true, \"ticks\": \"\", \"zerolinecolor\": \"white\"}, \"yaxis\": {\"backgroundcolor\": \"#E5ECF6\", \"gridcolor\": \"white\", \"gridwidth\": 2, \"linecolor\": \"white\", \"showbackground\": true, \"ticks\": \"\", \"zerolinecolor\": \"white\"}, \"zaxis\": {\"backgroundcolor\": \"#E5ECF6\", \"gridcolor\": \"white\", \"gridwidth\": 2, \"linecolor\": \"white\", \"showbackground\": true, \"ticks\": \"\", \"zerolinecolor\": \"white\"}}, \"shapedefaults\": {\"line\": {\"color\": \"#2a3f5f\"}}, \"ternary\": {\"aaxis\": {\"gridcolor\": \"white\", \"linecolor\": \"white\", \"ticks\": \"\"}, \"baxis\": {\"gridcolor\": \"white\", \"linecolor\": \"white\", \"ticks\": \"\"}, \"bgcolor\": \"#E5ECF6\", \"caxis\": {\"gridcolor\": \"white\", \"linecolor\": \"white\", \"ticks\": \"\"}}, \"title\": {\"x\": 0.05}, \"xaxis\": {\"automargin\": true, \"gridcolor\": \"white\", \"linecolor\": \"white\", \"ticks\": \"\", \"title\": {\"standoff\": 15}, \"zerolinecolor\": \"white\", \"zerolinewidth\": 2}, \"yaxis\": {\"automargin\": true, \"gridcolor\": \"white\", \"linecolor\": \"white\", \"ticks\": \"\", \"title\": {\"standoff\": 15}, \"zerolinecolor\": \"white\", \"zerolinewidth\": 2}}}, \"title\": {\"text\": \"Sector wise Capacity Distrubution\"}},\n",
       "                        {\"responsive\": true}\n",
       "                    ).then(function(){\n",
       "                            \n",
       "var gd = document.getElementById('4ead81da-ae91-4880-9744-69e72b88bcda');\n",
       "var x = new MutationObserver(function (mutations, observer) {{\n",
       "        var display = window.getComputedStyle(gd).display;\n",
       "        if (!display || display === 'none') {{\n",
       "            console.log([gd, 'removed!']);\n",
       "            Plotly.purge(gd);\n",
       "            observer.disconnect();\n",
       "        }}\n",
       "}});\n",
       "\n",
       "// Listen for the removal of the full notebook cells\n",
       "var notebookContainer = gd.closest('#notebook-container');\n",
       "if (notebookContainer) {{\n",
       "    x.observe(notebookContainer, {childList: true});\n",
       "}}\n",
       "\n",
       "// Listen for the clearing of the current output cell\n",
       "var outputEl = gd.closest('.output');\n",
       "if (outputEl) {{\n",
       "    x.observe(outputEl, {childList: true});\n",
       "}}\n",
       "\n",
       "                        })\n",
       "                };\n",
       "                });\n",
       "            </script>\n",
       "        </div>"
      ]
     },
     "metadata": {},
     "output_type": "display_data"
    }
   ],
   "source": [
    "fig3=px.pie(Data1,names=\"Sector\",values=\"Installed Capacity\",title=\"Sector wise Capacity Distrubution\")\n",
    "fig3.update_layout(font_family=\"Rockwell\",\n",
    "    legend=dict(title=\"Generation Sector\"))\n",
    "fig3.show()"
   ]
  },
  {
   "cell_type": "code",
   "execution_count": 12,
   "metadata": {},
   "outputs": [
    {
     "data": {
      "application/vnd.plotly.v1+json": {
       "config": {
        "plotlyServerURL": "https://plot.ly"
       },
       "data": [
        {
         "domain": {
          "x": [
           0,
           1
          ],
          "y": [
           0,
           1
          ]
         },
         "hovertemplate": "Mode=%{label}<br>Installed Capacity=%{value}<extra></extra>",
         "labels": [
          "Thermal",
          "Nuclear",
          "Hydro",
          "RES",
          "Thermal",
          "Nuclear",
          "Hydro",
          "RES",
          "Thermal",
          "Nuclear",
          "Hydro",
          "RES",
          "Thermal",
          "Nuclear",
          "Hydro",
          "RES",
          "Thermal",
          "Nuclear",
          "Hydro",
          "RES",
          "Thermal",
          "Nuclear",
          "Hydro",
          "RES",
          "Thermal",
          "Nuclear",
          "Hydro",
          "RES",
          "Thermal",
          "Nuclear",
          "Hydro",
          "RES",
          "Thermal",
          "Nuclear",
          "Hydro",
          "RES",
          "Thermal",
          "Nuclear",
          "Hydro",
          "RES",
          "Thermal",
          "Nuclear",
          "Hydro",
          "RES",
          "Thermal",
          "Nuclear",
          "Hydro",
          "RES",
          "Thermal",
          "Nuclear",
          "Hydro",
          "RES",
          "Thermal",
          "Nuclear",
          "Hydro",
          "RES",
          "Thermal",
          "Nuclear",
          "Hydro",
          "RES",
          "Thermal",
          "Nuclear",
          "Hydro",
          "RES",
          "Thermal",
          "Nuclear",
          "Hydro",
          "RES",
          "Thermal",
          "Nuclear",
          "Hydro",
          "RES",
          "Thermal",
          "Nuclear",
          "Hydro",
          "RES",
          "Thermal",
          "Nuclear",
          "Hydro",
          "RES",
          "Thermal",
          "Nuclear",
          "Hydro",
          "RES",
          "Thermal",
          "Nuclear",
          "Hydro",
          "RES",
          "Thermal",
          "Nuclear",
          "Hydro",
          "RES",
          "Thermal",
          "Nuclear",
          "Hydro",
          "RES",
          "Thermal",
          "Nuclear",
          "Hydro",
          "RES",
          "Thermal",
          "Nuclear",
          "Hydro",
          "RES",
          "Thermal",
          "Nuclear",
          "Hydro",
          "RES",
          "Thermal",
          "Nuclear",
          "Hydro",
          "RES",
          "Thermal",
          "Nuclear",
          "Hydro",
          "RES",
          "Thermal",
          "Nuclear",
          "Hydro",
          "RES",
          "Thermal",
          "Nuclear",
          "Hydro",
          "RES",
          "Thermal",
          "Nuclear",
          "Hydro",
          "RES",
          "Thermal",
          "Nuclear",
          "Hydro",
          "RES",
          "Thermal",
          "Nuclear",
          "Hydro",
          "RES",
          "Thermal",
          "Nuclear",
          "Hydro",
          "RES",
          "Thermal",
          "Nuclear",
          "Hydro",
          "RES",
          "Thermal",
          "Nuclear",
          "Hydro",
          "RES",
          "Thermal",
          "Nuclear",
          "Hydro",
          "RES",
          "Thermal",
          "Nuclear",
          "Hydro",
          "RES",
          "Thermal",
          "Nuclear",
          "Hydro",
          "RES",
          "Thermal",
          "Nuclear",
          "Hydro",
          "RES",
          "Thermal",
          "Nuclear",
          "Hydro",
          "RES",
          "Thermal",
          "Nuclear",
          "Hydro",
          "RES",
          "Thermal",
          "Nuclear",
          "Hydro",
          "RES",
          "Thermal",
          "Nuclear",
          "Hydro",
          "RES",
          "Thermal",
          "Nuclear",
          "Hydro",
          "RES",
          "Thermal",
          "Nuclear",
          "Hydro",
          "RES",
          "Thermal",
          "Nuclear",
          "Hydro",
          "RES",
          "Thermal",
          "Nuclear",
          "Hydro",
          "RES",
          "Thermal",
          "Nuclear",
          "Hydro",
          "RES",
          "Thermal",
          "Nuclear",
          "Hydro",
          "RES",
          "Thermal",
          "Nuclear",
          "Hydro",
          "RES",
          "Thermal",
          "Nuclear",
          "Hydro",
          "RES",
          "Thermal",
          "Nuclear",
          "Hydro",
          "RES",
          "Thermal",
          "Nuclear",
          "Hydro",
          "RES",
          "Thermal",
          "Nuclear",
          "Hydro",
          "RES",
          "Thermal",
          "Nuclear",
          "Hydro",
          "RES",
          "Thermal",
          "Nuclear",
          "Hydro",
          "RES",
          "Thermal",
          "Nuclear",
          "Hydro",
          "RES",
          "Thermal",
          "Nuclear",
          "Hydro",
          "RES",
          "Thermal",
          "Nuclear",
          "Hydro",
          "RES",
          "Thermal",
          "Nuclear",
          "Hydro",
          "RES",
          "Thermal",
          "Nuclear",
          "Hydro",
          "RES",
          "Thermal",
          "Nuclear",
          "Hydro",
          "RES",
          "Thermal",
          "Nuclear",
          "Hydro",
          "RES",
          "Thermal",
          "Nuclear",
          "Hydro",
          "RES",
          "Thermal",
          "Nuclear",
          "Hydro",
          "RES",
          "Thermal",
          "Nuclear",
          "Hydro",
          "RES",
          "Thermal",
          "Nuclear",
          "Hydro",
          "RES",
          "Thermal",
          "Nuclear",
          "Hydro",
          "RES",
          "Thermal",
          "Nuclear",
          "Hydro",
          "RES",
          "Thermal",
          "Nuclear",
          "Hydro",
          "RES",
          "Thermal",
          "Nuclear",
          "Hydro",
          "RES",
          "Thermal",
          "Nuclear",
          "Hydro",
          "RES",
          "Thermal",
          "Nuclear",
          "Hydro",
          "RES",
          "Thermal",
          "Nuclear",
          "Hydro",
          "RES",
          "Thermal",
          "Nuclear",
          "Hydro",
          "RES",
          "Thermal",
          "Nuclear",
          "Hydro",
          "RES",
          "Thermal",
          "Nuclear",
          "Hydro",
          "RES",
          "Thermal",
          "Nuclear",
          "Hydro",
          "RES",
          "Thermal",
          "Nuclear",
          "Hydro",
          "RES",
          "Thermal",
          "Nuclear",
          "Hydro",
          "RES",
          "Thermal",
          "Nuclear",
          "Hydro",
          "RES",
          "Thermal",
          "Nuclear",
          "Hydro",
          "RES",
          "Thermal",
          "Nuclear",
          "Hydro",
          "RES",
          "Thermal",
          "Nuclear",
          "Hydro",
          "RES",
          "Thermal",
          "Nuclear",
          "Hydro",
          "RES",
          "Thermal",
          "Nuclear",
          "Hydro",
          "RES",
          "Thermal",
          "Nuclear",
          "Hydro",
          "RES",
          "Thermal",
          "Nuclear",
          "Hydro",
          "RES",
          "Thermal",
          "Nuclear",
          "Hydro",
          "RES",
          "Thermal",
          "Nuclear",
          "Hydro",
          "RES",
          "Thermal",
          "Nuclear",
          "Hydro",
          "RES",
          "Thermal",
          "Nuclear",
          "Hydro",
          "RES",
          "Thermal",
          "Nuclear",
          "Hydro",
          "RES",
          "Thermal",
          "Nuclear",
          "Hydro",
          "RES",
          "Thermal",
          "Nuclear",
          "Hydro",
          "RES",
          "Thermal",
          "Nuclear",
          "Hydro",
          "RES",
          "Thermal",
          "Nuclear",
          "Hydro",
          "RES",
          "Thermal",
          "Nuclear",
          "Hydro",
          "RES",
          "Thermal",
          "Nuclear",
          "Hydro",
          "RES",
          "Thermal",
          "Nuclear",
          "Hydro",
          "RES",
          "Thermal",
          "Nuclear",
          "Hydro",
          "RES",
          "Thermal",
          "Nuclear",
          "Hydro",
          "RES",
          "Thermal",
          "Nuclear",
          "Hydro",
          "RES",
          "Thermal",
          "Nuclear",
          "Hydro",
          "RES",
          "Thermal",
          "Nuclear",
          "Hydro",
          "RES"
         ],
         "legendgroup": "",
         "name": "",
         "showlegend": true,
         "type": "pie",
         "values": [
          40.048,
          0,
          0,
          5.25,
          0,
          0,
          0,
          7.09,
          0,
          0,
          0,
          5.1,
          5245.4,
          0,
          1610,
          56.176,
          9279.944,
          0,
          0,
          8058.744,
          2000,
          0,
          0,
          250,
          0,
          0,
          0,
          107.105,
          0,
          0,
          0,
          29.61,
          0,
          0,
          815,
          0,
          328.205,
          0,
          100,
          5.01,
          24.5,
          0,
          0,
          45.33,
          1041,
          0,
          250,
          25,
          0,
          0,
          0,
          70.7,
          0,
          0,
          0,
          272.77,
          6390,
          0,
          0,
          0,
          0,
          0,
          0,
          0,
          0,
          0,
          0,
          40.55,
          0,
          0,
          0,
          0,
          3080,
          0,
          120,
          11.05,
          13168,
          0,
          0,
          540.8,
          6880,
          0,
          0,
          0,
          0,
          0,
          0,
          0,
          0,
          0,
          0,
          5.46,
          0,
          0,
          0,
          0,
          0,
          0,
          0,
          0,
          0,
          0,
          0,
          19.86,
          0,
          0,
          0,
          0,
          2100.4,
          0,
          0,
          0,
          108,
          0,
          0,
          217.16,
          0,
          0,
          0,
          0.05,
          48,
          0,
          0,
          5.12,
          0,
          0,
          0,
          0,
          7727.82,
          0,
          1990,
          72.35,
          14742,
          0,
          0,
          10270.49,
          1313.59,
          440,
          0,
          243.3,
          2510,
          0,
          0,
          69.3,
          1320,
          0,
          0,
          457,
          1931.59,
          0,
          0,
          5,
          0,
          0,
          777,
          256.61,
          0,
          0,
          1784,
          695.03,
          0,
          0,
          7248.02,
          0,
          175,
          0,
          1110,
          130.48,
          0,
          0,
          0,
          69.3,
          0,
          0,
          2250,
          0,
          420,
          0,
          130,
          4.05,
          1830,
          0,
          0,
          42.7,
          2210,
          0,
          80,
          0,
          5020,
          0,
          3644.2,
          193.885,
          2085.2,
          0,
          0,
          15038.175,
          2400,
          880,
          0,
          0,
          159.96,
          0,
          1856.5,
          172.896,
          174,
          0,
          0,
          204.574,
          359.58,
          0,
          0,
          50,
          0,
          0,
          89,
          0,
          0,
          0,
          0,
          0,
          0,
          0,
          0,
          0.75,
          0,
          0,
          0,
          0,
          5400,
          0,
          715,
          83.96,
          8870,
          0,
          0,
          4611.05,
          6880,
          0,
          1520,
          300,
          10422,
          0,
          2566,
          388.1251,
          12144,
          0,
          481,
          9199.27,
          5607.08,
          1400,
          0,
          123,
          36,
          0,
          0,
          5.45,
          0,
          0,
          0,
          5.16,
          0,
          0,
          105,
          0,
          0,
          0,
          322,
          32.53,
          0,
          0,
          0,
          13.92,
          0,
          0,
          0,
          36.47,
          0,
          0,
          0,
          1.52,
          0,
          0,
          60,
          0,
          0,
          0,
          0,
          30.67,
          0,
          0,
          0,
          1,
          0,
          0,
          75,
          0,
          1740,
          0,
          2142.25,
          26.3,
          3800,
          0,
          0,
          485.3851,
          4260,
          0,
          0,
          10,
          32.5,
          0,
          0,
          0,
          0,
          0,
          0,
          5.51,
          0,
          0,
          0,
          0,
          1760,
          0,
          941,
          127.8,
          3920,
          0,
          0,
          1320.7,
          0,
          0,
          155.3,
          0,
          7773.8,
          0,
          411,
          23.85,
          2400,
          0,
          0,
          9214.93,
          669.33,
          1180,
          0,
          344,
          0,
          0,
          1200,
          52.11,
          0,
          0,
          399,
          0.07,
          0,
          0,
          570,
          0,
          4844.08,
          0,
          2178.2,
          122.7,
          3664.801,
          0,
          0,
          13996.92,
          5740,
          2440,
          0,
          231.9,
          4162.5,
          0,
          2405.6,
          41.22,
          0,
          0,
          0,
          3973.6,
          2600,
          0,
          0,
          10,
          169.5,
          0,
          0,
          16.01,
          0,
          0,
          0,
          4.41,
          962.6,
          0,
          0,
          5,
          5469,
          0,
          501.6,
          25.1,
          6810,
          0,
          0,
          3180.61,
          11623.14,
          440,
          0,
          30,
          0,
          0,
          1252.15,
          67.87,
          450,
          0,
          730,
          592.85,
          0,
          0,
          1774.2,
          0,
          5390,
          0,
          986,
          121.95,
          2037,
          0,
          0,
          410.93,
          6850,
          0,
          355.2,
          0
         ]
        }
       ],
       "layout": {
        "font": {
         "family": "Rockwell"
        },
        "legend": {
         "title": {
          "text": "Generation Source"
         },
         "tracegroupgap": 0
        },
        "template": {
         "data": {
          "bar": [
           {
            "error_x": {
             "color": "#2a3f5f"
            },
            "error_y": {
             "color": "#2a3f5f"
            },
            "marker": {
             "line": {
              "color": "#E5ECF6",
              "width": 0.5
             }
            },
            "type": "bar"
           }
          ],
          "barpolar": [
           {
            "marker": {
             "line": {
              "color": "#E5ECF6",
              "width": 0.5
             }
            },
            "type": "barpolar"
           }
          ],
          "carpet": [
           {
            "aaxis": {
             "endlinecolor": "#2a3f5f",
             "gridcolor": "white",
             "linecolor": "white",
             "minorgridcolor": "white",
             "startlinecolor": "#2a3f5f"
            },
            "baxis": {
             "endlinecolor": "#2a3f5f",
             "gridcolor": "white",
             "linecolor": "white",
             "minorgridcolor": "white",
             "startlinecolor": "#2a3f5f"
            },
            "type": "carpet"
           }
          ],
          "choropleth": [
           {
            "colorbar": {
             "outlinewidth": 0,
             "ticks": ""
            },
            "type": "choropleth"
           }
          ],
          "contour": [
           {
            "colorbar": {
             "outlinewidth": 0,
             "ticks": ""
            },
            "colorscale": [
             [
              0,
              "#0d0887"
             ],
             [
              0.1111111111111111,
              "#46039f"
             ],
             [
              0.2222222222222222,
              "#7201a8"
             ],
             [
              0.3333333333333333,
              "#9c179e"
             ],
             [
              0.4444444444444444,
              "#bd3786"
             ],
             [
              0.5555555555555556,
              "#d8576b"
             ],
             [
              0.6666666666666666,
              "#ed7953"
             ],
             [
              0.7777777777777778,
              "#fb9f3a"
             ],
             [
              0.8888888888888888,
              "#fdca26"
             ],
             [
              1,
              "#f0f921"
             ]
            ],
            "type": "contour"
           }
          ],
          "contourcarpet": [
           {
            "colorbar": {
             "outlinewidth": 0,
             "ticks": ""
            },
            "type": "contourcarpet"
           }
          ],
          "heatmap": [
           {
            "colorbar": {
             "outlinewidth": 0,
             "ticks": ""
            },
            "colorscale": [
             [
              0,
              "#0d0887"
             ],
             [
              0.1111111111111111,
              "#46039f"
             ],
             [
              0.2222222222222222,
              "#7201a8"
             ],
             [
              0.3333333333333333,
              "#9c179e"
             ],
             [
              0.4444444444444444,
              "#bd3786"
             ],
             [
              0.5555555555555556,
              "#d8576b"
             ],
             [
              0.6666666666666666,
              "#ed7953"
             ],
             [
              0.7777777777777778,
              "#fb9f3a"
             ],
             [
              0.8888888888888888,
              "#fdca26"
             ],
             [
              1,
              "#f0f921"
             ]
            ],
            "type": "heatmap"
           }
          ],
          "heatmapgl": [
           {
            "colorbar": {
             "outlinewidth": 0,
             "ticks": ""
            },
            "colorscale": [
             [
              0,
              "#0d0887"
             ],
             [
              0.1111111111111111,
              "#46039f"
             ],
             [
              0.2222222222222222,
              "#7201a8"
             ],
             [
              0.3333333333333333,
              "#9c179e"
             ],
             [
              0.4444444444444444,
              "#bd3786"
             ],
             [
              0.5555555555555556,
              "#d8576b"
             ],
             [
              0.6666666666666666,
              "#ed7953"
             ],
             [
              0.7777777777777778,
              "#fb9f3a"
             ],
             [
              0.8888888888888888,
              "#fdca26"
             ],
             [
              1,
              "#f0f921"
             ]
            ],
            "type": "heatmapgl"
           }
          ],
          "histogram": [
           {
            "marker": {
             "colorbar": {
              "outlinewidth": 0,
              "ticks": ""
             }
            },
            "type": "histogram"
           }
          ],
          "histogram2d": [
           {
            "colorbar": {
             "outlinewidth": 0,
             "ticks": ""
            },
            "colorscale": [
             [
              0,
              "#0d0887"
             ],
             [
              0.1111111111111111,
              "#46039f"
             ],
             [
              0.2222222222222222,
              "#7201a8"
             ],
             [
              0.3333333333333333,
              "#9c179e"
             ],
             [
              0.4444444444444444,
              "#bd3786"
             ],
             [
              0.5555555555555556,
              "#d8576b"
             ],
             [
              0.6666666666666666,
              "#ed7953"
             ],
             [
              0.7777777777777778,
              "#fb9f3a"
             ],
             [
              0.8888888888888888,
              "#fdca26"
             ],
             [
              1,
              "#f0f921"
             ]
            ],
            "type": "histogram2d"
           }
          ],
          "histogram2dcontour": [
           {
            "colorbar": {
             "outlinewidth": 0,
             "ticks": ""
            },
            "colorscale": [
             [
              0,
              "#0d0887"
             ],
             [
              0.1111111111111111,
              "#46039f"
             ],
             [
              0.2222222222222222,
              "#7201a8"
             ],
             [
              0.3333333333333333,
              "#9c179e"
             ],
             [
              0.4444444444444444,
              "#bd3786"
             ],
             [
              0.5555555555555556,
              "#d8576b"
             ],
             [
              0.6666666666666666,
              "#ed7953"
             ],
             [
              0.7777777777777778,
              "#fb9f3a"
             ],
             [
              0.8888888888888888,
              "#fdca26"
             ],
             [
              1,
              "#f0f921"
             ]
            ],
            "type": "histogram2dcontour"
           }
          ],
          "mesh3d": [
           {
            "colorbar": {
             "outlinewidth": 0,
             "ticks": ""
            },
            "type": "mesh3d"
           }
          ],
          "parcoords": [
           {
            "line": {
             "colorbar": {
              "outlinewidth": 0,
              "ticks": ""
             }
            },
            "type": "parcoords"
           }
          ],
          "pie": [
           {
            "automargin": true,
            "type": "pie"
           }
          ],
          "scatter": [
           {
            "marker": {
             "colorbar": {
              "outlinewidth": 0,
              "ticks": ""
             }
            },
            "type": "scatter"
           }
          ],
          "scatter3d": [
           {
            "line": {
             "colorbar": {
              "outlinewidth": 0,
              "ticks": ""
             }
            },
            "marker": {
             "colorbar": {
              "outlinewidth": 0,
              "ticks": ""
             }
            },
            "type": "scatter3d"
           }
          ],
          "scattercarpet": [
           {
            "marker": {
             "colorbar": {
              "outlinewidth": 0,
              "ticks": ""
             }
            },
            "type": "scattercarpet"
           }
          ],
          "scattergeo": [
           {
            "marker": {
             "colorbar": {
              "outlinewidth": 0,
              "ticks": ""
             }
            },
            "type": "scattergeo"
           }
          ],
          "scattergl": [
           {
            "marker": {
             "colorbar": {
              "outlinewidth": 0,
              "ticks": ""
             }
            },
            "type": "scattergl"
           }
          ],
          "scattermapbox": [
           {
            "marker": {
             "colorbar": {
              "outlinewidth": 0,
              "ticks": ""
             }
            },
            "type": "scattermapbox"
           }
          ],
          "scatterpolar": [
           {
            "marker": {
             "colorbar": {
              "outlinewidth": 0,
              "ticks": ""
             }
            },
            "type": "scatterpolar"
           }
          ],
          "scatterpolargl": [
           {
            "marker": {
             "colorbar": {
              "outlinewidth": 0,
              "ticks": ""
             }
            },
            "type": "scatterpolargl"
           }
          ],
          "scatterternary": [
           {
            "marker": {
             "colorbar": {
              "outlinewidth": 0,
              "ticks": ""
             }
            },
            "type": "scatterternary"
           }
          ],
          "surface": [
           {
            "colorbar": {
             "outlinewidth": 0,
             "ticks": ""
            },
            "colorscale": [
             [
              0,
              "#0d0887"
             ],
             [
              0.1111111111111111,
              "#46039f"
             ],
             [
              0.2222222222222222,
              "#7201a8"
             ],
             [
              0.3333333333333333,
              "#9c179e"
             ],
             [
              0.4444444444444444,
              "#bd3786"
             ],
             [
              0.5555555555555556,
              "#d8576b"
             ],
             [
              0.6666666666666666,
              "#ed7953"
             ],
             [
              0.7777777777777778,
              "#fb9f3a"
             ],
             [
              0.8888888888888888,
              "#fdca26"
             ],
             [
              1,
              "#f0f921"
             ]
            ],
            "type": "surface"
           }
          ],
          "table": [
           {
            "cells": {
             "fill": {
              "color": "#EBF0F8"
             },
             "line": {
              "color": "white"
             }
            },
            "header": {
             "fill": {
              "color": "#C8D4E3"
             },
             "line": {
              "color": "white"
             }
            },
            "type": "table"
           }
          ]
         },
         "layout": {
          "annotationdefaults": {
           "arrowcolor": "#2a3f5f",
           "arrowhead": 0,
           "arrowwidth": 1
          },
          "coloraxis": {
           "colorbar": {
            "outlinewidth": 0,
            "ticks": ""
           }
          },
          "colorscale": {
           "diverging": [
            [
             0,
             "#8e0152"
            ],
            [
             0.1,
             "#c51b7d"
            ],
            [
             0.2,
             "#de77ae"
            ],
            [
             0.3,
             "#f1b6da"
            ],
            [
             0.4,
             "#fde0ef"
            ],
            [
             0.5,
             "#f7f7f7"
            ],
            [
             0.6,
             "#e6f5d0"
            ],
            [
             0.7,
             "#b8e186"
            ],
            [
             0.8,
             "#7fbc41"
            ],
            [
             0.9,
             "#4d9221"
            ],
            [
             1,
             "#276419"
            ]
           ],
           "sequential": [
            [
             0,
             "#0d0887"
            ],
            [
             0.1111111111111111,
             "#46039f"
            ],
            [
             0.2222222222222222,
             "#7201a8"
            ],
            [
             0.3333333333333333,
             "#9c179e"
            ],
            [
             0.4444444444444444,
             "#bd3786"
            ],
            [
             0.5555555555555556,
             "#d8576b"
            ],
            [
             0.6666666666666666,
             "#ed7953"
            ],
            [
             0.7777777777777778,
             "#fb9f3a"
            ],
            [
             0.8888888888888888,
             "#fdca26"
            ],
            [
             1,
             "#f0f921"
            ]
           ],
           "sequentialminus": [
            [
             0,
             "#0d0887"
            ],
            [
             0.1111111111111111,
             "#46039f"
            ],
            [
             0.2222222222222222,
             "#7201a8"
            ],
            [
             0.3333333333333333,
             "#9c179e"
            ],
            [
             0.4444444444444444,
             "#bd3786"
            ],
            [
             0.5555555555555556,
             "#d8576b"
            ],
            [
             0.6666666666666666,
             "#ed7953"
            ],
            [
             0.7777777777777778,
             "#fb9f3a"
            ],
            [
             0.8888888888888888,
             "#fdca26"
            ],
            [
             1,
             "#f0f921"
            ]
           ]
          },
          "colorway": [
           "#636efa",
           "#EF553B",
           "#00cc96",
           "#ab63fa",
           "#FFA15A",
           "#19d3f3",
           "#FF6692",
           "#B6E880",
           "#FF97FF",
           "#FECB52"
          ],
          "font": {
           "color": "#2a3f5f"
          },
          "geo": {
           "bgcolor": "white",
           "lakecolor": "white",
           "landcolor": "#E5ECF6",
           "showlakes": true,
           "showland": true,
           "subunitcolor": "white"
          },
          "hoverlabel": {
           "align": "left"
          },
          "hovermode": "closest",
          "mapbox": {
           "style": "light"
          },
          "paper_bgcolor": "white",
          "plot_bgcolor": "#E5ECF6",
          "polar": {
           "angularaxis": {
            "gridcolor": "white",
            "linecolor": "white",
            "ticks": ""
           },
           "bgcolor": "#E5ECF6",
           "radialaxis": {
            "gridcolor": "white",
            "linecolor": "white",
            "ticks": ""
           }
          },
          "scene": {
           "xaxis": {
            "backgroundcolor": "#E5ECF6",
            "gridcolor": "white",
            "gridwidth": 2,
            "linecolor": "white",
            "showbackground": true,
            "ticks": "",
            "zerolinecolor": "white"
           },
           "yaxis": {
            "backgroundcolor": "#E5ECF6",
            "gridcolor": "white",
            "gridwidth": 2,
            "linecolor": "white",
            "showbackground": true,
            "ticks": "",
            "zerolinecolor": "white"
           },
           "zaxis": {
            "backgroundcolor": "#E5ECF6",
            "gridcolor": "white",
            "gridwidth": 2,
            "linecolor": "white",
            "showbackground": true,
            "ticks": "",
            "zerolinecolor": "white"
           }
          },
          "shapedefaults": {
           "line": {
            "color": "#2a3f5f"
           }
          },
          "ternary": {
           "aaxis": {
            "gridcolor": "white",
            "linecolor": "white",
            "ticks": ""
           },
           "baxis": {
            "gridcolor": "white",
            "linecolor": "white",
            "ticks": ""
           },
           "bgcolor": "#E5ECF6",
           "caxis": {
            "gridcolor": "white",
            "linecolor": "white",
            "ticks": ""
           }
          },
          "title": {
           "x": 0.05
          },
          "xaxis": {
           "automargin": true,
           "gridcolor": "white",
           "linecolor": "white",
           "ticks": "",
           "title": {
            "standoff": 15
           },
           "zerolinecolor": "white",
           "zerolinewidth": 2
          },
          "yaxis": {
           "automargin": true,
           "gridcolor": "white",
           "linecolor": "white",
           "ticks": "",
           "title": {
            "standoff": 15
           },
           "zerolinecolor": "white",
           "zerolinewidth": 2
          }
         }
        },
        "title": {
         "text": "Sector wise Capacity Distrubution"
        }
       }
      },
      "text/html": [
       "<div>\n",
       "        \n",
       "        \n",
       "            <div id=\"1c6dc6f7-edcb-412b-8555-978ff5d10b75\" class=\"plotly-graph-div\" style=\"height:525px; width:100%;\"></div>\n",
       "            <script type=\"text/javascript\">\n",
       "                require([\"plotly\"], function(Plotly) {\n",
       "                    window.PLOTLYENV=window.PLOTLYENV || {};\n",
       "                    \n",
       "                if (document.getElementById(\"1c6dc6f7-edcb-412b-8555-978ff5d10b75\")) {\n",
       "                    Plotly.newPlot(\n",
       "                        '1c6dc6f7-edcb-412b-8555-978ff5d10b75',\n",
       "                        [{\"domain\": {\"x\": [0.0, 1.0], \"y\": [0.0, 1.0]}, \"hovertemplate\": \"Mode=%{label}<br>Installed Capacity=%{value}<extra></extra>\", \"labels\": [\"Thermal\", \"Nuclear\", \"Hydro\", \"RES\", \"Thermal\", \"Nuclear\", \"Hydro\", \"RES\", \"Thermal\", \"Nuclear\", \"Hydro\", \"RES\", \"Thermal\", \"Nuclear\", \"Hydro\", \"RES\", \"Thermal\", \"Nuclear\", \"Hydro\", \"RES\", \"Thermal\", \"Nuclear\", \"Hydro\", \"RES\", \"Thermal\", \"Nuclear\", \"Hydro\", \"RES\", \"Thermal\", \"Nuclear\", \"Hydro\", \"RES\", \"Thermal\", \"Nuclear\", \"Hydro\", \"RES\", \"Thermal\", \"Nuclear\", \"Hydro\", \"RES\", \"Thermal\", \"Nuclear\", \"Hydro\", \"RES\", \"Thermal\", \"Nuclear\", \"Hydro\", \"RES\", \"Thermal\", \"Nuclear\", \"Hydro\", \"RES\", \"Thermal\", \"Nuclear\", \"Hydro\", \"RES\", \"Thermal\", \"Nuclear\", \"Hydro\", \"RES\", \"Thermal\", \"Nuclear\", \"Hydro\", \"RES\", \"Thermal\", \"Nuclear\", \"Hydro\", \"RES\", \"Thermal\", \"Nuclear\", \"Hydro\", \"RES\", \"Thermal\", \"Nuclear\", \"Hydro\", \"RES\", \"Thermal\", \"Nuclear\", \"Hydro\", \"RES\", \"Thermal\", \"Nuclear\", \"Hydro\", \"RES\", \"Thermal\", \"Nuclear\", \"Hydro\", \"RES\", \"Thermal\", \"Nuclear\", \"Hydro\", \"RES\", \"Thermal\", \"Nuclear\", \"Hydro\", \"RES\", \"Thermal\", \"Nuclear\", \"Hydro\", \"RES\", \"Thermal\", \"Nuclear\", \"Hydro\", \"RES\", \"Thermal\", \"Nuclear\", \"Hydro\", \"RES\", \"Thermal\", \"Nuclear\", \"Hydro\", \"RES\", \"Thermal\", \"Nuclear\", \"Hydro\", \"RES\", \"Thermal\", \"Nuclear\", \"Hydro\", \"RES\", \"Thermal\", \"Nuclear\", \"Hydro\", \"RES\", \"Thermal\", \"Nuclear\", \"Hydro\", \"RES\", \"Thermal\", \"Nuclear\", \"Hydro\", \"RES\", \"Thermal\", \"Nuclear\", \"Hydro\", \"RES\", \"Thermal\", \"Nuclear\", \"Hydro\", \"RES\", \"Thermal\", \"Nuclear\", \"Hydro\", \"RES\", \"Thermal\", \"Nuclear\", \"Hydro\", \"RES\", \"Thermal\", \"Nuclear\", \"Hydro\", \"RES\", \"Thermal\", \"Nuclear\", \"Hydro\", \"RES\", \"Thermal\", \"Nuclear\", \"Hydro\", \"RES\", \"Thermal\", \"Nuclear\", \"Hydro\", \"RES\", \"Thermal\", \"Nuclear\", \"Hydro\", \"RES\", \"Thermal\", \"Nuclear\", \"Hydro\", \"RES\", \"Thermal\", \"Nuclear\", \"Hydro\", \"RES\", \"Thermal\", \"Nuclear\", \"Hydro\", \"RES\", \"Thermal\", \"Nuclear\", \"Hydro\", \"RES\", \"Thermal\", \"Nuclear\", \"Hydro\", \"RES\", \"Thermal\", \"Nuclear\", \"Hydro\", \"RES\", \"Thermal\", \"Nuclear\", \"Hydro\", \"RES\", \"Thermal\", \"Nuclear\", \"Hydro\", \"RES\", \"Thermal\", \"Nuclear\", \"Hydro\", \"RES\", \"Thermal\", \"Nuclear\", \"Hydro\", \"RES\", \"Thermal\", \"Nuclear\", \"Hydro\", \"RES\", \"Thermal\", \"Nuclear\", \"Hydro\", \"RES\", \"Thermal\", \"Nuclear\", \"Hydro\", \"RES\", \"Thermal\", \"Nuclear\", \"Hydro\", \"RES\", \"Thermal\", \"Nuclear\", \"Hydro\", \"RES\", \"Thermal\", \"Nuclear\", \"Hydro\", \"RES\", \"Thermal\", \"Nuclear\", \"Hydro\", \"RES\", \"Thermal\", \"Nuclear\", \"Hydro\", \"RES\", \"Thermal\", \"Nuclear\", \"Hydro\", \"RES\", \"Thermal\", \"Nuclear\", \"Hydro\", \"RES\", \"Thermal\", \"Nuclear\", \"Hydro\", \"RES\", \"Thermal\", \"Nuclear\", \"Hydro\", \"RES\", \"Thermal\", \"Nuclear\", \"Hydro\", \"RES\", \"Thermal\", \"Nuclear\", \"Hydro\", \"RES\", \"Thermal\", \"Nuclear\", \"Hydro\", \"RES\", \"Thermal\", \"Nuclear\", \"Hydro\", \"RES\", \"Thermal\", \"Nuclear\", \"Hydro\", \"RES\", \"Thermal\", \"Nuclear\", \"Hydro\", \"RES\", \"Thermal\", \"Nuclear\", \"Hydro\", \"RES\", \"Thermal\", \"Nuclear\", \"Hydro\", \"RES\", \"Thermal\", \"Nuclear\", \"Hydro\", \"RES\", \"Thermal\", \"Nuclear\", \"Hydro\", \"RES\", \"Thermal\", \"Nuclear\", \"Hydro\", \"RES\", \"Thermal\", \"Nuclear\", \"Hydro\", \"RES\", \"Thermal\", \"Nuclear\", \"Hydro\", \"RES\", \"Thermal\", \"Nuclear\", \"Hydro\", \"RES\", \"Thermal\", \"Nuclear\", \"Hydro\", \"RES\", \"Thermal\", \"Nuclear\", \"Hydro\", \"RES\", \"Thermal\", \"Nuclear\", \"Hydro\", \"RES\", \"Thermal\", \"Nuclear\", \"Hydro\", \"RES\", \"Thermal\", \"Nuclear\", \"Hydro\", \"RES\", \"Thermal\", \"Nuclear\", \"Hydro\", \"RES\", \"Thermal\", \"Nuclear\", \"Hydro\", \"RES\", \"Thermal\", \"Nuclear\", \"Hydro\", \"RES\", \"Thermal\", \"Nuclear\", \"Hydro\", \"RES\", \"Thermal\", \"Nuclear\", \"Hydro\", \"RES\", \"Thermal\", \"Nuclear\", \"Hydro\", \"RES\", \"Thermal\", \"Nuclear\", \"Hydro\", \"RES\", \"Thermal\", \"Nuclear\", \"Hydro\", \"RES\", \"Thermal\", \"Nuclear\", \"Hydro\", \"RES\", \"Thermal\", \"Nuclear\", \"Hydro\", \"RES\", \"Thermal\", \"Nuclear\", \"Hydro\", \"RES\", \"Thermal\", \"Nuclear\", \"Hydro\", \"RES\", \"Thermal\", \"Nuclear\", \"Hydro\", \"RES\", \"Thermal\", \"Nuclear\", \"Hydro\", \"RES\", \"Thermal\", \"Nuclear\", \"Hydro\", \"RES\", \"Thermal\", \"Nuclear\", \"Hydro\", \"RES\", \"Thermal\", \"Nuclear\", \"Hydro\", \"RES\", \"Thermal\", \"Nuclear\", \"Hydro\", \"RES\", \"Thermal\", \"Nuclear\", \"Hydro\", \"RES\", \"Thermal\", \"Nuclear\", \"Hydro\", \"RES\", \"Thermal\", \"Nuclear\", \"Hydro\", \"RES\", \"Thermal\", \"Nuclear\", \"Hydro\", \"RES\", \"Thermal\", \"Nuclear\", \"Hydro\", \"RES\", \"Thermal\", \"Nuclear\", \"Hydro\", \"RES\"], \"legendgroup\": \"\", \"name\": \"\", \"showlegend\": true, \"type\": \"pie\", \"values\": [40.048, 0.0, 0.0, 5.25, 0.0, 0.0, 0.0, 7.09, 0.0, 0.0, 0.0, 5.1, 5245.4, 0.0, 1610.0, 56.176, 9279.944, 0.0, 0.0, 8058.744, 2000.0, 0.0, 0.0, 250.0, 0.0, 0.0, 0.0, 107.105, 0.0, 0.0, 0.0, 29.61, 0.0, 0.0, 815.0, 0.0, 328.205, 0.0, 100.0, 5.01, 24.5, 0.0, 0.0, 45.33, 1041.0, 0.0, 250.0, 25.0, 0.0, 0.0, 0.0, 70.7, 0.0, 0.0, 0.0, 272.77, 6390.0, 0.0, 0.0, 0.0, 0.0, 0.0, 0.0, 0.0, 0.0, 0.0, 0.0, 40.55, 0.0, 0.0, 0.0, 0.0, 3080.0, 0.0, 120.0, 11.05, 13168.0, 0.0, 0.0, 540.8, 6880.0, 0.0, 0.0, 0.0, 0.0, 0.0, 0.0, 0.0, 0.0, 0.0, 0.0, 5.46, 0.0, 0.0, 0.0, 0.0, 0.0, 0.0, 0.0, 0.0, 0.0, 0.0, 0.0, 19.86, 0.0, 0.0, 0.0, 0.0, 2100.4, 0.0, 0.0, 0.0, 108.0, 0.0, 0.0, 217.16, 0.0, 0.0, 0.0, 0.05, 48.0, 0.0, 0.0, 5.12, 0.0, 0.0, 0.0, 0.0, 7727.82, 0.0, 1990.0, 72.35, 14742.0, 0.0, 0.0, 10270.49, 1313.59, 440.0, 0.0, 243.3, 2510.0, 0.0, 0.0, 69.3, 1320.0, 0.0, 0.0, 457.0, 1931.59, 0.0, 0.0, 5.0, 0.0, 0.0, 777.0, 256.61, 0.0, 0.0, 1784.0, 695.03, 0.0, 0.0, 7248.02, 0.0, 175.0, 0.0, 1110.0, 130.48, 0.0, 0.0, 0.0, 69.3, 0.0, 0.0, 2250.0, 0.0, 420.0, 0.0, 130.0, 4.05, 1830.0, 0.0, 0.0, 42.7, 2210.0, 0.0, 80.0, 0.0, 5020.0, 0.0, 3644.2, 193.885, 2085.2, 0.0, 0.0, 15038.175, 2400.0, 880.0, 0.0, 0.0, 159.96, 0.0, 1856.5, 172.896, 174.0, 0.0, 0.0, 204.574, 359.58, 0.0, 0.0, 50.0, 0.0, 0.0, 89.0, 0.0, 0.0, 0.0, 0.0, 0.0, 0.0, 0.0, 0.0, 0.75, 0.0, 0.0, 0.0, 0.0, 5400.0, 0.0, 715.0, 83.96, 8870.0, 0.0, 0.0, 4611.05, 6880.0, 0.0, 1520.0, 300.0, 10422.0, 0.0, 2566.0, 388.1251, 12144.0, 0.0, 481.0, 9199.27, 5607.08, 1400.0, 0.0, 123.0, 36.0, 0.0, 0.0, 5.45, 0.0, 0.0, 0.0, 5.16, 0.0, 0.0, 105.0, 0.0, 0.0, 0.0, 322.0, 32.53, 0.0, 0.0, 0.0, 13.92, 0.0, 0.0, 0.0, 36.47, 0.0, 0.0, 0.0, 1.52, 0.0, 0.0, 60.0, 0.0, 0.0, 0.0, 0.0, 30.67, 0.0, 0.0, 0.0, 1.0, 0.0, 0.0, 75.0, 0.0, 1740.0, 0.0, 2142.25, 26.3, 3800.0, 0.0, 0.0, 485.3851, 4260.0, 0.0, 0.0, 10.0, 32.5, 0.0, 0.0, 0.0, 0.0, 0.0, 0.0, 5.51, 0.0, 0.0, 0.0, 0.0, 1760.0, 0.0, 941.0, 127.8, 3920.0, 0.0, 0.0, 1320.7, 0.0, 0.0, 155.3, 0.0, 7773.8, 0.0, 411.0, 23.85, 2400.0, 0.0, 0.0, 9214.93, 669.33, 1180.0, 0.0, 344.0, 0.0, 0.0, 1200.0, 52.11, 0.0, 0.0, 399.0, 0.07, 0.0, 0.0, 570.0, 0.0, 4844.08, 0.0, 2178.2, 122.7, 3664.801, 0.0, 0.0, 13996.92, 5740.0, 2440.0, 0.0, 231.9, 4162.5, 0.0, 2405.6, 41.22, 0.0, 0.0, 0.0, 3973.6, 2600.0, 0.0, 0.0, 10.0, 169.5, 0.0, 0.0, 16.01, 0.0, 0.0, 0.0, 4.41, 962.6, 0.0, 0.0, 5.0, 5469.0, 0.0, 501.6, 25.1, 6810.0, 0.0, 0.0, 3180.61, 11623.14, 440.0, 0.0, 30.0, 0.0, 0.0, 1252.15, 67.87, 450.0, 0.0, 730.0, 592.85, 0.0, 0.0, 1774.2, 0.0, 5390.0, 0.0, 986.0, 121.95, 2037.0, 0.0, 0.0, 410.93, 6850.0, 0.0, 355.2, 0.0]}],\n",
       "                        {\"font\": {\"family\": \"Rockwell\"}, \"legend\": {\"title\": {\"text\": \"Generation Source\"}, \"tracegroupgap\": 0}, \"template\": {\"data\": {\"bar\": [{\"error_x\": {\"color\": \"#2a3f5f\"}, \"error_y\": {\"color\": \"#2a3f5f\"}, \"marker\": {\"line\": {\"color\": \"#E5ECF6\", \"width\": 0.5}}, \"type\": \"bar\"}], \"barpolar\": [{\"marker\": {\"line\": {\"color\": \"#E5ECF6\", \"width\": 0.5}}, \"type\": \"barpolar\"}], \"carpet\": [{\"aaxis\": {\"endlinecolor\": \"#2a3f5f\", \"gridcolor\": \"white\", \"linecolor\": \"white\", \"minorgridcolor\": \"white\", \"startlinecolor\": \"#2a3f5f\"}, \"baxis\": {\"endlinecolor\": \"#2a3f5f\", \"gridcolor\": \"white\", \"linecolor\": \"white\", \"minorgridcolor\": \"white\", \"startlinecolor\": \"#2a3f5f\"}, \"type\": \"carpet\"}], \"choropleth\": [{\"colorbar\": {\"outlinewidth\": 0, \"ticks\": \"\"}, \"type\": \"choropleth\"}], \"contour\": [{\"colorbar\": {\"outlinewidth\": 0, \"ticks\": \"\"}, \"colorscale\": [[0.0, \"#0d0887\"], [0.1111111111111111, \"#46039f\"], [0.2222222222222222, \"#7201a8\"], [0.3333333333333333, \"#9c179e\"], [0.4444444444444444, \"#bd3786\"], [0.5555555555555556, \"#d8576b\"], [0.6666666666666666, \"#ed7953\"], [0.7777777777777778, \"#fb9f3a\"], [0.8888888888888888, \"#fdca26\"], [1.0, \"#f0f921\"]], \"type\": \"contour\"}], \"contourcarpet\": [{\"colorbar\": {\"outlinewidth\": 0, \"ticks\": \"\"}, \"type\": \"contourcarpet\"}], \"heatmap\": [{\"colorbar\": {\"outlinewidth\": 0, \"ticks\": \"\"}, \"colorscale\": [[0.0, \"#0d0887\"], [0.1111111111111111, \"#46039f\"], [0.2222222222222222, \"#7201a8\"], [0.3333333333333333, \"#9c179e\"], [0.4444444444444444, \"#bd3786\"], [0.5555555555555556, \"#d8576b\"], [0.6666666666666666, \"#ed7953\"], [0.7777777777777778, \"#fb9f3a\"], [0.8888888888888888, \"#fdca26\"], [1.0, \"#f0f921\"]], \"type\": \"heatmap\"}], \"heatmapgl\": [{\"colorbar\": {\"outlinewidth\": 0, \"ticks\": \"\"}, \"colorscale\": [[0.0, \"#0d0887\"], [0.1111111111111111, \"#46039f\"], [0.2222222222222222, \"#7201a8\"], [0.3333333333333333, \"#9c179e\"], [0.4444444444444444, \"#bd3786\"], [0.5555555555555556, \"#d8576b\"], [0.6666666666666666, \"#ed7953\"], [0.7777777777777778, \"#fb9f3a\"], [0.8888888888888888, \"#fdca26\"], [1.0, \"#f0f921\"]], \"type\": \"heatmapgl\"}], \"histogram\": [{\"marker\": {\"colorbar\": {\"outlinewidth\": 0, \"ticks\": \"\"}}, \"type\": \"histogram\"}], \"histogram2d\": [{\"colorbar\": {\"outlinewidth\": 0, \"ticks\": \"\"}, \"colorscale\": [[0.0, \"#0d0887\"], [0.1111111111111111, \"#46039f\"], [0.2222222222222222, \"#7201a8\"], [0.3333333333333333, \"#9c179e\"], [0.4444444444444444, \"#bd3786\"], [0.5555555555555556, \"#d8576b\"], [0.6666666666666666, \"#ed7953\"], [0.7777777777777778, \"#fb9f3a\"], [0.8888888888888888, \"#fdca26\"], [1.0, \"#f0f921\"]], \"type\": \"histogram2d\"}], \"histogram2dcontour\": [{\"colorbar\": {\"outlinewidth\": 0, \"ticks\": \"\"}, \"colorscale\": [[0.0, \"#0d0887\"], [0.1111111111111111, \"#46039f\"], [0.2222222222222222, \"#7201a8\"], [0.3333333333333333, \"#9c179e\"], [0.4444444444444444, \"#bd3786\"], [0.5555555555555556, \"#d8576b\"], [0.6666666666666666, \"#ed7953\"], [0.7777777777777778, \"#fb9f3a\"], [0.8888888888888888, \"#fdca26\"], [1.0, \"#f0f921\"]], \"type\": \"histogram2dcontour\"}], \"mesh3d\": [{\"colorbar\": {\"outlinewidth\": 0, \"ticks\": \"\"}, \"type\": \"mesh3d\"}], \"parcoords\": [{\"line\": {\"colorbar\": {\"outlinewidth\": 0, \"ticks\": \"\"}}, \"type\": \"parcoords\"}], \"pie\": [{\"automargin\": true, \"type\": \"pie\"}], \"scatter\": [{\"marker\": {\"colorbar\": {\"outlinewidth\": 0, \"ticks\": \"\"}}, \"type\": \"scatter\"}], \"scatter3d\": [{\"line\": {\"colorbar\": {\"outlinewidth\": 0, \"ticks\": \"\"}}, \"marker\": {\"colorbar\": {\"outlinewidth\": 0, \"ticks\": \"\"}}, \"type\": \"scatter3d\"}], \"scattercarpet\": [{\"marker\": {\"colorbar\": {\"outlinewidth\": 0, \"ticks\": \"\"}}, \"type\": \"scattercarpet\"}], \"scattergeo\": [{\"marker\": {\"colorbar\": {\"outlinewidth\": 0, \"ticks\": \"\"}}, \"type\": \"scattergeo\"}], \"scattergl\": [{\"marker\": {\"colorbar\": {\"outlinewidth\": 0, \"ticks\": \"\"}}, \"type\": \"scattergl\"}], \"scattermapbox\": [{\"marker\": {\"colorbar\": {\"outlinewidth\": 0, \"ticks\": \"\"}}, \"type\": \"scattermapbox\"}], \"scatterpolar\": [{\"marker\": {\"colorbar\": {\"outlinewidth\": 0, \"ticks\": \"\"}}, \"type\": \"scatterpolar\"}], \"scatterpolargl\": [{\"marker\": {\"colorbar\": {\"outlinewidth\": 0, \"ticks\": \"\"}}, \"type\": \"scatterpolargl\"}], \"scatterternary\": [{\"marker\": {\"colorbar\": {\"outlinewidth\": 0, \"ticks\": \"\"}}, \"type\": \"scatterternary\"}], \"surface\": [{\"colorbar\": {\"outlinewidth\": 0, \"ticks\": \"\"}, \"colorscale\": [[0.0, \"#0d0887\"], [0.1111111111111111, \"#46039f\"], [0.2222222222222222, \"#7201a8\"], [0.3333333333333333, \"#9c179e\"], [0.4444444444444444, \"#bd3786\"], [0.5555555555555556, \"#d8576b\"], [0.6666666666666666, \"#ed7953\"], [0.7777777777777778, \"#fb9f3a\"], [0.8888888888888888, \"#fdca26\"], [1.0, \"#f0f921\"]], \"type\": \"surface\"}], \"table\": [{\"cells\": {\"fill\": {\"color\": \"#EBF0F8\"}, \"line\": {\"color\": \"white\"}}, \"header\": {\"fill\": {\"color\": \"#C8D4E3\"}, \"line\": {\"color\": \"white\"}}, \"type\": \"table\"}]}, \"layout\": {\"annotationdefaults\": {\"arrowcolor\": \"#2a3f5f\", \"arrowhead\": 0, \"arrowwidth\": 1}, \"coloraxis\": {\"colorbar\": {\"outlinewidth\": 0, \"ticks\": \"\"}}, \"colorscale\": {\"diverging\": [[0, \"#8e0152\"], [0.1, \"#c51b7d\"], [0.2, \"#de77ae\"], [0.3, \"#f1b6da\"], [0.4, \"#fde0ef\"], [0.5, \"#f7f7f7\"], [0.6, \"#e6f5d0\"], [0.7, \"#b8e186\"], [0.8, \"#7fbc41\"], [0.9, \"#4d9221\"], [1, \"#276419\"]], \"sequential\": [[0.0, \"#0d0887\"], [0.1111111111111111, \"#46039f\"], [0.2222222222222222, \"#7201a8\"], [0.3333333333333333, \"#9c179e\"], [0.4444444444444444, \"#bd3786\"], [0.5555555555555556, \"#d8576b\"], [0.6666666666666666, \"#ed7953\"], [0.7777777777777778, \"#fb9f3a\"], [0.8888888888888888, \"#fdca26\"], [1.0, \"#f0f921\"]], \"sequentialminus\": [[0.0, \"#0d0887\"], [0.1111111111111111, \"#46039f\"], [0.2222222222222222, \"#7201a8\"], [0.3333333333333333, \"#9c179e\"], [0.4444444444444444, \"#bd3786\"], [0.5555555555555556, \"#d8576b\"], [0.6666666666666666, \"#ed7953\"], [0.7777777777777778, \"#fb9f3a\"], [0.8888888888888888, \"#fdca26\"], [1.0, \"#f0f921\"]]}, \"colorway\": [\"#636efa\", \"#EF553B\", \"#00cc96\", \"#ab63fa\", \"#FFA15A\", \"#19d3f3\", \"#FF6692\", \"#B6E880\", \"#FF97FF\", \"#FECB52\"], \"font\": {\"color\": \"#2a3f5f\"}, \"geo\": {\"bgcolor\": \"white\", \"lakecolor\": \"white\", \"landcolor\": \"#E5ECF6\", \"showlakes\": true, \"showland\": true, \"subunitcolor\": \"white\"}, \"hoverlabel\": {\"align\": \"left\"}, \"hovermode\": \"closest\", \"mapbox\": {\"style\": \"light\"}, \"paper_bgcolor\": \"white\", \"plot_bgcolor\": \"#E5ECF6\", \"polar\": {\"angularaxis\": {\"gridcolor\": \"white\", \"linecolor\": \"white\", \"ticks\": \"\"}, \"bgcolor\": \"#E5ECF6\", \"radialaxis\": {\"gridcolor\": \"white\", \"linecolor\": \"white\", \"ticks\": \"\"}}, \"scene\": {\"xaxis\": {\"backgroundcolor\": \"#E5ECF6\", \"gridcolor\": \"white\", \"gridwidth\": 2, \"linecolor\": \"white\", \"showbackground\": true, \"ticks\": \"\", \"zerolinecolor\": \"white\"}, \"yaxis\": {\"backgroundcolor\": \"#E5ECF6\", \"gridcolor\": \"white\", \"gridwidth\": 2, \"linecolor\": \"white\", \"showbackground\": true, \"ticks\": \"\", \"zerolinecolor\": \"white\"}, \"zaxis\": {\"backgroundcolor\": \"#E5ECF6\", \"gridcolor\": \"white\", \"gridwidth\": 2, \"linecolor\": \"white\", \"showbackground\": true, \"ticks\": \"\", \"zerolinecolor\": \"white\"}}, \"shapedefaults\": {\"line\": {\"color\": \"#2a3f5f\"}}, \"ternary\": {\"aaxis\": {\"gridcolor\": \"white\", \"linecolor\": \"white\", \"ticks\": \"\"}, \"baxis\": {\"gridcolor\": \"white\", \"linecolor\": \"white\", \"ticks\": \"\"}, \"bgcolor\": \"#E5ECF6\", \"caxis\": {\"gridcolor\": \"white\", \"linecolor\": \"white\", \"ticks\": \"\"}}, \"title\": {\"x\": 0.05}, \"xaxis\": {\"automargin\": true, \"gridcolor\": \"white\", \"linecolor\": \"white\", \"ticks\": \"\", \"title\": {\"standoff\": 15}, \"zerolinecolor\": \"white\", \"zerolinewidth\": 2}, \"yaxis\": {\"automargin\": true, \"gridcolor\": \"white\", \"linecolor\": \"white\", \"ticks\": \"\", \"title\": {\"standoff\": 15}, \"zerolinecolor\": \"white\", \"zerolinewidth\": 2}}}, \"title\": {\"text\": \"Sector wise Capacity Distrubution\"}},\n",
       "                        {\"responsive\": true}\n",
       "                    ).then(function(){\n",
       "                            \n",
       "var gd = document.getElementById('1c6dc6f7-edcb-412b-8555-978ff5d10b75');\n",
       "var x = new MutationObserver(function (mutations, observer) {{\n",
       "        var display = window.getComputedStyle(gd).display;\n",
       "        if (!display || display === 'none') {{\n",
       "            console.log([gd, 'removed!']);\n",
       "            Plotly.purge(gd);\n",
       "            observer.disconnect();\n",
       "        }}\n",
       "}});\n",
       "\n",
       "// Listen for the removal of the full notebook cells\n",
       "var notebookContainer = gd.closest('#notebook-container');\n",
       "if (notebookContainer) {{\n",
       "    x.observe(notebookContainer, {childList: true});\n",
       "}}\n",
       "\n",
       "// Listen for the clearing of the current output cell\n",
       "var outputEl = gd.closest('.output');\n",
       "if (outputEl) {{\n",
       "    x.observe(outputEl, {childList: true});\n",
       "}}\n",
       "\n",
       "                        })\n",
       "                };\n",
       "                });\n",
       "            </script>\n",
       "        </div>"
      ]
     },
     "metadata": {},
     "output_type": "display_data"
    }
   ],
   "source": [
    "fig4=px.pie(Data1,names=\"Mode\",values=\"Installed Capacity\",title=\"Sector wise Capacity Distrubution\")\n",
    "fig4.update_layout(font_family=\"Rockwell\",\n",
    "    legend=dict(title=\"Generation Source\"))\n",
    "fig4.show()"
   ]
  },
  {
   "cell_type": "code",
   "execution_count": null,
   "metadata": {},
   "outputs": [],
   "source": []
  },
  {
   "cell_type": "code",
   "execution_count": 13,
   "metadata": {},
   "outputs": [
    {
     "data": {
      "text/html": [
       "<div>\n",
       "<style scoped>\n",
       "    .dataframe tbody tr th:only-of-type {\n",
       "        vertical-align: middle;\n",
       "    }\n",
       "\n",
       "    .dataframe tbody tr th {\n",
       "        vertical-align: top;\n",
       "    }\n",
       "\n",
       "    .dataframe thead th {\n",
       "        text-align: right;\n",
       "    }\n",
       "</style>\n",
       "<table border=\"1\" class=\"dataframe\">\n",
       "  <thead>\n",
       "    <tr style=\"text-align: right;\">\n",
       "      <th></th>\n",
       "      <th>Date</th>\n",
       "      <th>State</th>\n",
       "      <th>Sector</th>\n",
       "      <th>Mode</th>\n",
       "      <th>Installed Capacity</th>\n",
       "      <th>Name of State / UT</th>\n",
       "      <th>State_Code</th>\n",
       "      <th>Latitude</th>\n",
       "      <th>Longitude</th>\n",
       "    </tr>\n",
       "  </thead>\n",
       "  <tbody>\n",
       "    <tr>\n",
       "      <td>0</td>\n",
       "      <td>03-05-2020</td>\n",
       "      <td>Andhra Pradesh</td>\n",
       "      <td>STATE SECTOR</td>\n",
       "      <td>Thermal</td>\n",
       "      <td>5245.400</td>\n",
       "      <td>Andhra Pradesh</td>\n",
       "      <td>AP</td>\n",
       "      <td>14.750429</td>\n",
       "      <td>78.570026</td>\n",
       "    </tr>\n",
       "    <tr>\n",
       "      <td>1</td>\n",
       "      <td>03-05-2020</td>\n",
       "      <td>Andhra Pradesh</td>\n",
       "      <td>STATE SECTOR</td>\n",
       "      <td>Nuclear</td>\n",
       "      <td>0.000</td>\n",
       "      <td>Andhra Pradesh</td>\n",
       "      <td>AP</td>\n",
       "      <td>14.750429</td>\n",
       "      <td>78.570026</td>\n",
       "    </tr>\n",
       "    <tr>\n",
       "      <td>2</td>\n",
       "      <td>03-05-2020</td>\n",
       "      <td>Andhra Pradesh</td>\n",
       "      <td>STATE SECTOR</td>\n",
       "      <td>Hydro</td>\n",
       "      <td>1610.000</td>\n",
       "      <td>Andhra Pradesh</td>\n",
       "      <td>AP</td>\n",
       "      <td>14.750429</td>\n",
       "      <td>78.570026</td>\n",
       "    </tr>\n",
       "    <tr>\n",
       "      <td>3</td>\n",
       "      <td>03-05-2020</td>\n",
       "      <td>Andhra Pradesh</td>\n",
       "      <td>STATE SECTOR</td>\n",
       "      <td>RES</td>\n",
       "      <td>56.176</td>\n",
       "      <td>Andhra Pradesh</td>\n",
       "      <td>AP</td>\n",
       "      <td>14.750429</td>\n",
       "      <td>78.570026</td>\n",
       "    </tr>\n",
       "    <tr>\n",
       "      <td>4</td>\n",
       "      <td>03-05-2020</td>\n",
       "      <td>Andhra Pradesh</td>\n",
       "      <td>PVT SECTOR</td>\n",
       "      <td>Thermal</td>\n",
       "      <td>9279.944</td>\n",
       "      <td>Andhra Pradesh</td>\n",
       "      <td>AP</td>\n",
       "      <td>14.750429</td>\n",
       "      <td>78.570026</td>\n",
       "    </tr>\n",
       "    <tr>\n",
       "      <td>...</td>\n",
       "      <td>...</td>\n",
       "      <td>...</td>\n",
       "      <td>...</td>\n",
       "      <td>...</td>\n",
       "      <td>...</td>\n",
       "      <td>...</td>\n",
       "      <td>...</td>\n",
       "      <td>...</td>\n",
       "      <td>...</td>\n",
       "    </tr>\n",
       "    <tr>\n",
       "      <td>375</td>\n",
       "      <td>03-05-2020</td>\n",
       "      <td>West Bengal</td>\n",
       "      <td>PVT SECTOR</td>\n",
       "      <td>RES</td>\n",
       "      <td>410.930</td>\n",
       "      <td>West Bengal</td>\n",
       "      <td>WB</td>\n",
       "      <td>22.580390</td>\n",
       "      <td>88.329947</td>\n",
       "    </tr>\n",
       "    <tr>\n",
       "      <td>376</td>\n",
       "      <td>03-05-2020</td>\n",
       "      <td>West Bengal</td>\n",
       "      <td>CENTRAL SECTOR</td>\n",
       "      <td>Thermal</td>\n",
       "      <td>6850.000</td>\n",
       "      <td>West Bengal</td>\n",
       "      <td>WB</td>\n",
       "      <td>22.580390</td>\n",
       "      <td>88.329947</td>\n",
       "    </tr>\n",
       "    <tr>\n",
       "      <td>377</td>\n",
       "      <td>03-05-2020</td>\n",
       "      <td>West Bengal</td>\n",
       "      <td>CENTRAL SECTOR</td>\n",
       "      <td>Nuclear</td>\n",
       "      <td>0.000</td>\n",
       "      <td>West Bengal</td>\n",
       "      <td>WB</td>\n",
       "      <td>22.580390</td>\n",
       "      <td>88.329947</td>\n",
       "    </tr>\n",
       "    <tr>\n",
       "      <td>378</td>\n",
       "      <td>03-05-2020</td>\n",
       "      <td>West Bengal</td>\n",
       "      <td>CENTRAL SECTOR</td>\n",
       "      <td>Hydro</td>\n",
       "      <td>355.200</td>\n",
       "      <td>West Bengal</td>\n",
       "      <td>WB</td>\n",
       "      <td>22.580390</td>\n",
       "      <td>88.329947</td>\n",
       "    </tr>\n",
       "    <tr>\n",
       "      <td>379</td>\n",
       "      <td>03-05-2020</td>\n",
       "      <td>West Bengal</td>\n",
       "      <td>CENTRAL SECTOR</td>\n",
       "      <td>RES</td>\n",
       "      <td>0.000</td>\n",
       "      <td>West Bengal</td>\n",
       "      <td>WB</td>\n",
       "      <td>22.580390</td>\n",
       "      <td>88.329947</td>\n",
       "    </tr>\n",
       "  </tbody>\n",
       "</table>\n",
       "<p>380 rows × 9 columns</p>\n",
       "</div>"
      ],
      "text/plain": [
       "           Date           State          Sector     Mode  Installed Capacity  \\\n",
       "0    03-05-2020  Andhra Pradesh    STATE SECTOR  Thermal            5245.400   \n",
       "1    03-05-2020  Andhra Pradesh    STATE SECTOR  Nuclear               0.000   \n",
       "2    03-05-2020  Andhra Pradesh    STATE SECTOR    Hydro            1610.000   \n",
       "3    03-05-2020  Andhra Pradesh    STATE SECTOR      RES              56.176   \n",
       "4    03-05-2020  Andhra Pradesh      PVT SECTOR  Thermal            9279.944   \n",
       "..          ...             ...             ...      ...                 ...   \n",
       "375  03-05-2020     West Bengal      PVT SECTOR      RES             410.930   \n",
       "376  03-05-2020     West Bengal  CENTRAL SECTOR  Thermal            6850.000   \n",
       "377  03-05-2020     West Bengal  CENTRAL SECTOR  Nuclear               0.000   \n",
       "378  03-05-2020     West Bengal  CENTRAL SECTOR    Hydro             355.200   \n",
       "379  03-05-2020     West Bengal  CENTRAL SECTOR      RES               0.000   \n",
       "\n",
       "    Name of State / UT State_Code   Latitude  Longitude  \n",
       "0       Andhra Pradesh         AP  14.750429  78.570026  \n",
       "1       Andhra Pradesh         AP  14.750429  78.570026  \n",
       "2       Andhra Pradesh         AP  14.750429  78.570026  \n",
       "3       Andhra Pradesh         AP  14.750429  78.570026  \n",
       "4       Andhra Pradesh         AP  14.750429  78.570026  \n",
       "..                 ...        ...        ...        ...  \n",
       "375        West Bengal         WB  22.580390  88.329947  \n",
       "376        West Bengal         WB  22.580390  88.329947  \n",
       "377        West Bengal         WB  22.580390  88.329947  \n",
       "378        West Bengal         WB  22.580390  88.329947  \n",
       "379        West Bengal         WB  22.580390  88.329947  \n",
       "\n",
       "[380 rows x 9 columns]"
      ]
     },
     "execution_count": 13,
     "metadata": {},
     "output_type": "execute_result"
    }
   ],
   "source": [
    "## Combinning Data with Coordinates\n",
    "combData=pd.merge(Data1,CordData,left_on='State',right_on='Name of State / UT')\n",
    "combData"
   ]
  },
  {
   "cell_type": "code",
   "execution_count": 14,
   "metadata": {
    "scrolled": true
   },
   "outputs": [
    {
     "ename": "NameError",
     "evalue": "name 'CombData' is not defined",
     "output_type": "error",
     "traceback": [
      "\u001b[1;31m---------------------------------------------------------------------------\u001b[0m",
      "\u001b[1;31mNameError\u001b[0m                                 Traceback (most recent call last)",
      "\u001b[1;32m<ipython-input-14-bcbcf3bad6bf>\u001b[0m in \u001b[0;36m<module>\u001b[1;34m\u001b[0m\n\u001b[0;32m      2\u001b[0m \u001b[1;33m\u001b[0m\u001b[0m\n\u001b[0;32m      3\u001b[0m \u001b[1;33m\u001b[0m\u001b[0m\n\u001b[1;32m----> 4\u001b[1;33m \u001b[1;32mfor\u001b[0m \u001b[0mstatename\u001b[0m\u001b[1;33m,\u001b[0m\u001b[0mCapacity\u001b[0m\u001b[1;33m,\u001b[0m\u001b[0mlat\u001b[0m\u001b[1;33m,\u001b[0m\u001b[0mlong\u001b[0m \u001b[1;32min\u001b[0m \u001b[0mzip\u001b[0m\u001b[1;33m(\u001b[0m\u001b[0mCombData\u001b[0m\u001b[1;33m[\u001b[0m\u001b[1;34m'Name of State / UT'\u001b[0m\u001b[1;33m]\u001b[0m\u001b[1;33m,\u001b[0m\u001b[0mCombData\u001b[0m\u001b[1;33m[\u001b[0m\u001b[1;34m'Installed Capacity'\u001b[0m\u001b[1;33m]\u001b[0m\u001b[1;33m,\u001b[0m\u001b[0mCombData\u001b[0m\u001b[1;33m[\u001b[0m\u001b[1;34m'Latitude'\u001b[0m\u001b[1;33m]\u001b[0m\u001b[1;33m,\u001b[0m\u001b[0mCombData\u001b[0m\u001b[1;33m[\u001b[0m\u001b[1;34m'Longitude'\u001b[0m\u001b[1;33m]\u001b[0m\u001b[1;33m)\u001b[0m\u001b[1;33m:\u001b[0m\u001b[1;33m\u001b[0m\u001b[1;33m\u001b[0m\u001b[0m\n\u001b[0m\u001b[0;32m      5\u001b[0m     folium.CircleMarker(location=[lat,long],radius=2,fill_color=\"red\",color='red',fill_opacity=0.3,\n\u001b[0;32m      6\u001b[0m                        \u001b[0mpopup\u001b[0m\u001b[1;33m=\u001b[0m\u001b[1;34m\"<strong>State :</strong>%s\"\u001b[0m\u001b[1;33m%\u001b[0m\u001b[0mstatename\u001b[0m\u001b[1;33m+\u001b[0m\u001b[1;34m'<br>'\u001b[0m\u001b[1;34m\"<strong>Installed Capacity in MW</strong> : %s\"\u001b[0m\u001b[1;33m%\u001b[0m\u001b[0mInstlCap\u001b[0m\u001b[1;33m,\u001b[0m\u001b[1;33m\u001b[0m\u001b[1;33m\u001b[0m\u001b[0m\n",
      "\u001b[1;31mNameError\u001b[0m: name 'CombData' is not defined"
     ]
    }
   ],
   "source": [
    "\n",
    "foli_map=folium.Map(location=[20.5937,78.9629],zoom_start=4)\n",
    "\n",
    "\n",
    "for statename,Capacity,lat,long in zip(CombData['Name of State / UT'],CombData['Installed Capacity'],CombData['Latitude'],CombData['Longitude']):\n",
    "    folium.CircleMarker(location=[lat,long],radius=2,fill_color=\"red\",color='red',fill_opacity=0.3,\n",
    "                       popup=\"<strong>State :</strong>%s\"%statename+'<br>'\"<strong>Installed Capacity in MW</strong> : %s\"%InstlCap,\n",
    "                       tooltip = str(statename).capitalize()).add_to(foli_map)\n",
    "\n",
    "foli_map\n",
    "#"
   ]
  },
  {
   "cell_type": "code",
   "execution_count": null,
   "metadata": {},
   "outputs": [],
   "source": []
  }
 ],
 "metadata": {
  "kernelspec": {
   "display_name": "Python 3",
   "language": "python",
   "name": "python3"
  },
  "language_info": {
   "codemirror_mode": {
    "name": "ipython",
    "version": 3
   },
   "file_extension": ".py",
   "mimetype": "text/x-python",
   "name": "python",
   "nbconvert_exporter": "python",
   "pygments_lexer": "ipython3",
   "version": "3.7.4"
  }
 },
 "nbformat": 4,
 "nbformat_minor": 2
}
